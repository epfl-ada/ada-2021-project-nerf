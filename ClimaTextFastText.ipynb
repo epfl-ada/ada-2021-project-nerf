{
  "nbformat": 4,
  "nbformat_minor": 0,
  "metadata": {
    "colab": {
      "name": "fasttext_quotes_extraction.ipynb",
      "provenance": [],
      "collapsed_sections": []
    },
    "kernelspec": {
      "name": "python3",
      "display_name": "Python 3"
    },
    "language_info": {
      "name": "python"
    }
  },
  "cells": [
    {
      "cell_type": "markdown",
      "source": [
        "# FastText Climate Change Quotes Extraction"
      ],
      "metadata": {
        "id": "d5QUEZQaellS"
      }
    },
    {
      "cell_type": "markdown",
      "source": [
        "# Structure\n",
        "0. **Introduction** <br>\n",
        "1. **Things to do before we start** <br>\n",
        "  1.1 Install libraries <br>\n",
        "  1.2 Import libraries <br>\n",
        "  1.3 Mount drive <br>\n",
        "  1.4 Define global paths <br>\n",
        "  1.5 Define util functions <br>\n",
        "2. **Training a model** <br>\n",
        "  2.1 Preparing quotes for training <br>\n",
        "  2.2 Merging all chunks <br>\n",
        "  2.3 Train a model <br>\n",
        "  2.4 Save the model <br>\n",
        "  2.5 Load the model <br>\n",
        "3. **ClimaText dataset comaprison** <br>\n",
        "  3.1 Extracting features <br>\n",
        "  3.2 Cosine similarity <br>\n",
        "  3.3 Precision/recall curve <br>\n",
        "4. **Extracting quotes** <br>\n",
        "  4.1 Extracting quotes indexes <br>\n",
        "  4.2 Save all the indexes <br>\n",
        "  4.3 Load all the indexes <br>\n",
        "  4.4 Extract full quotes to json <br>\n",
        "5. **References**"
      ],
      "metadata": {
        "id": "0TDSTB95erDt"
      }
    },
    {
      "cell_type": "markdown",
      "source": [
        "## 0. Introduction"
      ],
      "metadata": {
        "id": "U33GAHQMh-ka"
      }
    },
    {
      "cell_type": "markdown",
      "source": [
        "This notebook is about extracting Climate Change quotes from QuoteBank. Previously, in milestione 2, we extracted quotes that were said by American politicans (democrats or republicans). That (reduced) dataset consisted of more than 5M quotes and was saved in 13 chunks. "
      ],
      "metadata": {
        "id": "rSH81xXXiDKA"
      }
    },
    {
      "cell_type": "markdown",
      "source": [
        "## 1. Things to do before we start"
      ],
      "metadata": {
        "id": "VbyU8DpjEZ-T"
      }
    },
    {
      "cell_type": "markdown",
      "source": [
        "## 1.1 Install libraries"
      ],
      "metadata": {
        "id": "QZyu-mw4f75_"
      }
    },
    {
      "cell_type": "code",
      "source": [
        "!pip install fasttext\n",
        "!pip install nltk"
      ],
      "metadata": {
        "colab": {
          "base_uri": "https://localhost:8080/"
        },
        "id": "R9ErSYR_fb6B",
        "outputId": "93fea229-ca3d-4edf-b73c-5fb479168307"
      },
      "execution_count": null,
      "outputs": [
        {
          "output_type": "stream",
          "name": "stdout",
          "text": [
            "Collecting fasttext\n",
            "  Downloading fasttext-0.9.2.tar.gz (68 kB)\n",
            "\u001b[?25l\r\u001b[K     |████▊                           | 10 kB 23.4 MB/s eta 0:00:01\r\u001b[K     |█████████▌                      | 20 kB 28.8 MB/s eta 0:00:01\r\u001b[K     |██████████████▎                 | 30 kB 31.5 MB/s eta 0:00:01\r\u001b[K     |███████████████████             | 40 kB 32.1 MB/s eta 0:00:01\r\u001b[K     |███████████████████████▉        | 51 kB 34.7 MB/s eta 0:00:01\r\u001b[K     |████████████████████████████▋   | 61 kB 37.4 MB/s eta 0:00:01\r\u001b[K     |████████████████████████████████| 68 kB 6.5 MB/s \n",
            "\u001b[?25hCollecting pybind11>=2.2\n",
            "  Using cached pybind11-2.8.1-py2.py3-none-any.whl (208 kB)\n",
            "Requirement already satisfied: setuptools>=0.7.0 in /usr/local/lib/python3.7/dist-packages (from fasttext) (57.4.0)\n",
            "Requirement already satisfied: numpy in /usr/local/lib/python3.7/dist-packages (from fasttext) (1.19.5)\n",
            "Building wheels for collected packages: fasttext\n",
            "  Building wheel for fasttext (setup.py) ... \u001b[?25l\u001b[?25hdone\n",
            "  Created wheel for fasttext: filename=fasttext-0.9.2-cp37-cp37m-linux_x86_64.whl size=3123783 sha256=ade4050bbe8711b843806178615c64b4a5539ea23e37d699ba90aa946902ef3d\n",
            "  Stored in directory: /root/.cache/pip/wheels/4e/ca/bf/b020d2be95f7641801a6597a29c8f4f19e38f9c02a345bab9b\n",
            "Successfully built fasttext\n",
            "Installing collected packages: pybind11, fasttext\n",
            "Successfully installed fasttext-0.9.2 pybind11-2.8.1\n",
            "Requirement already satisfied: nltk in /usr/local/lib/python3.7/dist-packages (3.2.5)\n",
            "Requirement already satisfied: six in /usr/local/lib/python3.7/dist-packages (from nltk) (1.15.0)\n"
          ]
        }
      ]
    },
    {
      "cell_type": "markdown",
      "source": [
        "## 1.2 Import libraries"
      ],
      "metadata": {
        "id": "9_-5mFuunKkL"
      }
    },
    {
      "cell_type": "code",
      "metadata": {
        "id": "ry6gwULi_edq",
        "colab": {
          "base_uri": "https://localhost:8080/"
        },
        "outputId": "2ea8fa79-fc41-4f26-b405-2be7d30b19ab"
      },
      "source": [
        "import fasttext\n",
        "from fasttext import load_model\n",
        "import numpy as np\n",
        "import pandas as pd\n",
        "from sklearn.metrics.pairwise import cosine_similarity\n",
        "from operator import itemgetter \n",
        "import string\n",
        "import nltk\n",
        "nltk.download('stopwords')\n",
        "from nltk.corpus import stopwords\n",
        "nltk.download('punkt')\n",
        "import sys\n",
        "import codecs\n",
        "import pickle\n",
        "from tqdm import tqdm\n",
        "from sklearn.metrics import precision_recall_curve\n",
        "import matplotlib.pyplot as plt\n",
        "from sklearn.metrics import f1_score"
      ],
      "execution_count": null,
      "outputs": [
        {
          "output_type": "stream",
          "name": "stdout",
          "text": [
            "[nltk_data] Downloading package stopwords to /root/nltk_data...\n",
            "[nltk_data]   Unzipping corpora/stopwords.zip.\n",
            "[nltk_data] Downloading package punkt to /root/nltk_data...\n",
            "[nltk_data]   Unzipping tokenizers/punkt.zip.\n"
          ]
        }
      ]
    },
    {
      "cell_type": "markdown",
      "source": [
        "## 1.3 Mount drive"
      ],
      "metadata": {
        "id": "Z4SfB_4XnVGI"
      }
    },
    {
      "cell_type": "code",
      "metadata": {
        "id": "lFhgtEo8_b-o",
        "colab": {
          "base_uri": "https://localhost:8080/"
        },
        "outputId": "072bcc65-0977-4a5f-c918-7e3f22f3df92"
      },
      "source": [
        "from google.colab import drive\n",
        "drive.mount('/content/drive')"
      ],
      "execution_count": null,
      "outputs": [
        {
          "output_type": "stream",
          "name": "stdout",
          "text": [
            "Mounted at /content/drive\n"
          ]
        }
      ]
    },
    {
      "cell_type": "markdown",
      "source": [
        "## 1.4 Define global paths"
      ],
      "metadata": {
        "id": "NR9KaF6xnXP3"
      }
    },
    {
      "cell_type": "code",
      "metadata": {
        "id": "U94Ra6Qp_oBM"
      },
      "source": [
        "DATA_PATH = '/content/drive/MyDrive/Merged'\n",
        "EMBEDDING_PATH = DATA_PATH+'/model_quotes_clean.vec'\n",
        "PICKLE_PATH  = DATA_PATH + '/climate_change_indexes_new.pickle'\n",
        "QUOTE_FILES =  ['quotes2015_merged_part_1', 'quotes2015_merged_part_2', \n",
        "              'q2', 'quotes2016_merged_part_2',\n",
        "              'q4', 'q5', 'quotes2017_merged_part_3',\n",
        "              'q7', 'q8', 'quotes2018_merged_part_3',\n",
        "              'q10', 'q11', 'quotes2020_merged_part_1']\n",
        "CHUNKS = len(QUOTE_FILES)\n",
        "EXTENSION = '.json.bz2'  \n",
        "EXTRACTED_QUOTES_PATH = DATA_PATH + '/extracetd_quotes.json'"
      ],
      "execution_count": null,
      "outputs": []
    },
    {
      "cell_type": "markdown",
      "source": [
        "## 1.5 Define util functions"
      ],
      "metadata": {
        "id": "J9pIVg9jnbyW"
      }
    },
    {
      "cell_type": "markdown",
      "source": [
        "Here we defined functions that we will use in the training and process of quotes extraction given the desired query"
      ],
      "metadata": {
        "id": "vnTIzfg2gUaq"
      }
    },
    {
      "cell_type": "code",
      "source": [
        "# cache stopword for reuse\n",
        "cachedStopWords = stopwords.words(\"english\")\n",
        "\n",
        "def tokenize(text):\n",
        "    \"\"\"\n",
        "    Tokenize an input string so that punctuation and stopwords are removed\n",
        "\n",
        "    Parameters\n",
        "    ----------\n",
        "    text: str\n",
        "        text on which tokenization should be performed\n",
        "    Returns\n",
        "    -------\n",
        "    str\n",
        "        String without punctuation and stopwords\n",
        "    \"\"\"\n",
        "    # eliminate punctuations\n",
        "    text = \"\".join([ch for ch in text if ch not in string.punctuation])\n",
        "    # perform word tokenize from nltk to extract words from string\n",
        "    tokens = nltk.word_tokenize(text)\n",
        "    # return all words that are not in stopwords\n",
        "    return \" \".join([word.lower() \n",
        "                    for word in tokens \n",
        "                     if word.lower() not in cachedStopWords])\n",
        "  \n",
        "def extract_quotes_indexes(model, query, threshold):\n",
        "  \"\"\"\n",
        "  Extract quote indexes that have similarity with the given query higher than \n",
        "  the given threshold\n",
        "\n",
        "  Parameters\n",
        "  ----------\n",
        "  model: object\n",
        "      fasttext model of word embeddings \n",
        "  query: str\n",
        "      input string query\n",
        "  threshold: float\n",
        "      cutoff threshold for cosine similarity  \n",
        "  Returns\n",
        "  -------\n",
        "  array\n",
        "      return an array of extracted quotes indexes\n",
        "  \"\"\"\n",
        "  # make query vector from query string input \n",
        "  query_vector = model.get_sentence_vector(tokenize(query)).reshape(1, -1)\n",
        "  climate_change_indexes = []\n",
        "  # iterate through all chunks\n",
        "  for i in tqdm(range(CHUNKS)):\n",
        "    indexes = []\n",
        "    # read a quotes from a file where each line in a file is a quote\n",
        "    with open(DATA_PATH+\"/quotes_\"+str(i)+\".txt\", encoding='utf-8') as f:\n",
        "        content = f.readlines() \n",
        "    # get all original quotes\n",
        "    original_quotes = [x.strip() for x in content] \n",
        "\n",
        "    # iterate through all original quotes\n",
        "    for i, quote in enumerate(original_quotes):\n",
        "      # take an embedding of a tokenized quote\n",
        "      embeddings = model.get_sentence_vector(tokenize(quote)).reshape(1, -1)\n",
        "      # check if cosine sim is higher than desired threshold\n",
        "      if threshold < cosine_similarity(embeddings, query_vector)[0][0]:\n",
        "        indexes.append(i)  \n",
        "    # append list of indexes with indexes related to chunk\n",
        "    climate_change_indexes.append(indexes)\n",
        "  # return a list of indexes\n",
        "  return climate_change_indexes"
      ],
      "metadata": {
        "id": "97_MlWy9GTgm"
      },
      "execution_count": null,
      "outputs": []
    },
    {
      "cell_type": "markdown",
      "source": [
        "## 2. Training a model"
      ],
      "metadata": {
        "id": "u8ycWfnk4dTC"
      }
    },
    {
      "cell_type": "markdown",
      "source": [
        "### 2.1 Preparing quotes for training"
      ],
      "metadata": {
        "id": "7TJFMIrQnfle"
      }
    },
    {
      "cell_type": "markdown",
      "source": [
        "Here, we performed some tricks to prepare our quotes for training. We used function tokenize that we implemented. It works so that it remove puncuations, tokenize word, remove stop-words and lowercase it. "
      ],
      "metadata": {
        "id": "UY5ef_u6hSPj"
      }
    },
    {
      "cell_type": "code",
      "source": [
        "# iterate through all chunks\n",
        "for i in range(CHUNKS):\n",
        "  # read a quotes from a file where each line in a file is a quote\n",
        "  with open(DATA_PATH+\"/quotes_\"+str(i)+\".txt\", encoding='utf-8') as f:\n",
        "      content = f.readlines()\n",
        "  # get all original quotes\n",
        "  original_quotes = [x.strip() for x in content] \n",
        "  # tokenize quotes\n",
        "  tokenized_quotes = [tokenize(d) for d in original_quotes]\n",
        "  # make a dataframe and save it to .txt\n",
        "  df_climate_change = pd.DataFrame(tokenized_quotes, \n",
        "                                   columns = ['climate_change'])\n",
        "  df_climate_change.to_csv(DATA_PATH+\"/climate_change_clean_prep\"+str(i)+\".txt\",\n",
        "                           header=None, index=None, sep='\\n')"
      ],
      "metadata": {
        "id": "erZqNxEBFh8J"
      },
      "execution_count": null,
      "outputs": []
    },
    {
      "cell_type": "markdown",
      "source": [
        "### 2.2 Merging all chunks"
      ],
      "metadata": {
        "id": "qLNosHOpnkVe"
      }
    },
    {
      "cell_type": "markdown",
      "source": [
        "Because of quantity of quotes, we split our dataset by chunks. Now we need to merge all chunks, tokenize quotes and save them."
      ],
      "metadata": {
        "id": "3pgk2EVwi89x"
      }
    },
    {
      "cell_type": "code",
      "source": [
        "frames = []\n",
        "# iterate through all chunks\n",
        "for i in range(CHUNKS): \n",
        "    # put all frames in a list\n",
        "    frames.append(pd.read_csv(DATA_PATH+\"/climate_change_prep\"+str(i)+\".txt\", \n",
        "                              sep='\\n', header=None, error_bad_lines=False))\n",
        "# concatenate all frames into one\n",
        "df = pd.concat(frames, axis=0)\n",
        "# export final clean quotes to txt for training\n",
        "df.to_csv(DATA_PATH+'/climate_change_train.txt', \n",
        "          index=False, header=False, sep='\\n')"
      ],
      "metadata": {
        "id": "Hm7Jgb42FpLk"
      },
      "execution_count": null,
      "outputs": []
    },
    {
      "cell_type": "markdown",
      "source": [
        "### 2.3 Train a model"
      ],
      "metadata": {
        "id": "QvnxTSXGnnQ2"
      }
    },
    {
      "cell_type": "markdown",
      "source": [
        "After we have saved our merged toknized quotes, now we can perform unsupervised training by FastText."
      ],
      "metadata": {
        "id": "qbvHeYJ7jOKl"
      }
    },
    {
      "cell_type": "code",
      "source": [
        "# train a model with fasttext unsupervised method and bag of words model\n",
        "model = fasttext.train_unsupervised(DATA_PATH+'/climate_change_train.txt', \n",
        "                                    model = 'cbow') "
      ],
      "metadata": {
        "id": "b4hBDX4yF0hk"
      },
      "execution_count": null,
      "outputs": []
    },
    {
      "cell_type": "markdown",
      "source": [
        "### 2.4 Save the model"
      ],
      "metadata": {
        "id": "qIZG-TDBnpyg"
      }
    },
    {
      "cell_type": "markdown",
      "source": [
        "We will save our model for future reuse, because a process of training is time consuming."
      ],
      "metadata": {
        "id": "T3X_ni0GjZwr"
      }
    },
    {
      "cell_type": "code",
      "source": [
        "model.save_model(DATA_PATH+\"/fasttext_model.bin\")"
      ],
      "metadata": {
        "id": "8FmcnJFtF7cO"
      },
      "execution_count": null,
      "outputs": []
    },
    {
      "cell_type": "markdown",
      "source": [
        "### 2.5 Load the model"
      ],
      "metadata": {
        "id": "OnKyZ6t06LDV"
      }
    },
    {
      "cell_type": "markdown",
      "source": [
        "Here, we can load the model that has been previosuly saved."
      ],
      "metadata": {
        "id": "osDW3nefjiUY"
      }
    },
    {
      "cell_type": "code",
      "metadata": {
        "id": "hILk_XWc_saz"
      },
      "source": [
        "model = fasttext.load_model(DATA_PATH+\"/fasttext_model.bin\")"
      ],
      "execution_count": null,
      "outputs": []
    },
    {
      "cell_type": "markdown",
      "source": [
        "## 3. ClimaText dataset comaprison \n",
        "\n"
      ],
      "metadata": {
        "id": "rHIH0cYCoBjf"
      }
    },
    {
      "cell_type": "markdown",
      "source": [
        "### 3.1 Extracting features "
      ],
      "metadata": {
        "id": "gD8FvLMv6hah"
      }
    },
    {
      "cell_type": "markdown",
      "source": [
        "We used ClimaText [1] dataset to test performance of our model. We extracted features of interest and took embeddings of quotes."
      ],
      "metadata": {
        "id": "yqQBuSyinQpG"
      }
    },
    {
      "cell_type": "code",
      "metadata": {
        "id": "g916oKp6zgnf"
      },
      "source": [
        "# loadding ClimaText test set\n",
        "test_data = pd.read_csv(DATA_PATH+\"/climate_change_test_data.tsv\", sep = '\\t') \n",
        "# setting an index\n",
        "test_data.set_index('id')\n",
        "# extracting necessary columns\n",
        "test_data = test_data[['id', 'label', 'sentence']]\n",
        "# tokenizing the sentence\n",
        "test_data['token'] = test_data['sentence'].apply(tokenize)  \n",
        "# making embedding out of tokens \n",
        "test_data['embedding'] = test_data['token'].apply(model.get_sentence_vector) \n",
        "# removing nans (if any)\n",
        "test_data = test_data[~test_data.embedding.isna()] "
      ],
      "execution_count": null,
      "outputs": []
    },
    {
      "cell_type": "markdown",
      "source": [
        "### 3.2 Cosine similarity "
      ],
      "metadata": {
        "id": "auRsQ7dA6ncz"
      }
    },
    {
      "cell_type": "markdown",
      "source": [
        "We performed cosine similarity with different queries about climate change to see with one gives the best performances with our model and given dataset."
      ],
      "metadata": {
        "id": "6WQWaAq-oZjF"
      }
    },
    {
      "cell_type": "code",
      "metadata": {
        "id": "v9fedGUlANpz",
        "colab": {
          "base_uri": "https://localhost:8080/",
          "height": 314
        },
        "outputId": "905bc6ea-f68c-437b-f970-d29fe28d2d48"
      },
      "source": [
        "# defining a query \n",
        "climate_change_query = 'climate change' \n",
        "# making a query vector embedding \n",
        "query_vector = model.get_sentence_vector(climate_change_query).reshape(1, -1)\n",
        "# helper function for input preparing for cosine similarity function\n",
        "def sim_with_reshape(x, y): \n",
        "  return cosine_similarity(x.reshape(1, -1), y)[0][0] \n",
        "\n",
        "# adding similarity column\n",
        "test_data['cos_sim'] = test_data['embedding'].apply(sim_with_reshape, \n",
        "                                                    args=(query_vector,))\n",
        "\n",
        "# scatter plot of similarities and test labels\n",
        "test_data.plot.scatter(\"cos_sim\", \"label\", \n",
        "                       title=\"Visualization of similarities by label\")\n",
        "print()"
      ],
      "execution_count": null,
      "outputs": [
        {
          "output_type": "stream",
          "name": "stdout",
          "text": [
            "\n"
          ]
        },
        {
          "output_type": "display_data",
          "data": {
            "image/png": "[encoded data removed]",
            "text/plain": [
              "<Figure size 432x288 with 1 Axes>"
            ]
          },
          "metadata": {
            "needs_background": "light"
          }
        }
      ]
    },
    {
      "cell_type": "markdown",
      "source": [
        "### 3.3 Precision/recall curve"
      ],
      "metadata": {
        "id": "_Z5czg2c6pzX"
      }
    },
    {
      "cell_type": "markdown",
      "source": [
        "Here, we plot precision/recall curve specifing precision so that precision and recall stay the same as F1 score."
      ],
      "metadata": {
        "id": "w0fn2NXJosYi"
      }
    },
    {
      "cell_type": "code",
      "metadata": {
        "id": "hVMDFWdv3CJJ",
        "colab": {
          "base_uri": "https://localhost:8080/",
          "height": 365
        },
        "outputId": "21d44d7c-20da-4231-cd70-25a0af4a07c4"
      },
      "source": [
        "# ploting precision recall curve and seting desired precision \n",
        "# (regarding recall, treshold and F-score) \n",
        "# specifying deisred precision\n",
        "# high quality quotes have high precision, but low recall\n",
        "PREC = 0.77\n",
        "\n",
        "# ground truth values\n",
        "y_true = test_data[\"label\"]\n",
        "# similarity score values\n",
        "y_scores = test_data[\"cos_sim\"]\n",
        "# calculating precsion, recall and thresholds\n",
        "precision, recall, thresholds = precision_recall_curve(y_true, y_scores)\n",
        "\n",
        "# extracting threshold and recall w.r.t desired precision|\n",
        "THRESHOLD = round(thresholds[np.searchsorted(precision, PREC)], 2)\n",
        "RECALL = round(recall[np.searchsorted(precision, PREC)], 2)\n",
        "# logs treshold and recall\n",
        "print(f\"Threshold: {THRESHOLD}\")\n",
        "print(f\"Recall: {RECALL}\")\n",
        "\n",
        "# adding test_label column to dataframe\n",
        "test_data['test_label'] = (test_data['cos_sim'] > THRESHOLD).astype(int)\n",
        "# extracting test label for F1 score\n",
        "y_pred = test_data[\"test_label\"] \n",
        "# log F1\n",
        "F1 = round(f1_score(y_true, y_pred, average='macro'), 2)\n",
        "print(f\"F1: {F1}\")\n",
        "\n",
        "# plot precision/recall curve\n",
        "plt.plot(recall, precision)\n",
        "plt.title(\"Precision/Recall Curve\")\n",
        "plt.hlines(PREC, 0, RECALL, 'r', label=\"precision=\"+str(PREC))\n",
        "plt.vlines(RECALL, 0.5, PREC, 'r')\n",
        "plt.legend()\n",
        "plt.xlabel(\"Recall\")\n",
        "plt.ylabel(\"Precision\")\n",
        "print() "
      ],
      "execution_count": null,
      "outputs": [
        {
          "output_type": "stream",
          "name": "stdout",
          "text": [
            "Threshold: 0.24\n",
            "Recall: 0.76\n",
            "F1: 0.77\n",
            "\n"
          ]
        },
        {
          "output_type": "display_data",
          "data": {
            "image/png": "[encoded data removed]",
            "text/plain": [
              "<Figure size 432x288 with 1 Axes>"
            ]
          },
          "metadata": {
            "needs_background": "light"
          }
        }
      ]
    },
    {
      "cell_type": "markdown",
      "source": [
        "## 4. Extracting quotes"
      ],
      "metadata": {
        "id": "qKD28EB0oG2X"
      }
    },
    {
      "cell_type": "markdown",
      "source": [
        "### 4.1 Extracting quotes indexes"
      ],
      "metadata": {
        "id": "lpodbezG6xon"
      }
    },
    {
      "cell_type": "markdown",
      "source": [
        "Now, we have quotes but we need to get all other features. Because all indexes stay the same we will extract them first and later load rows from dataframe by our saved indexes."
      ],
      "metadata": {
        "id": "P3ny_hwMo3rW"
      }
    },
    {
      "cell_type": "code",
      "source": [
        "# extracting quotes \n",
        "climate_change_indexes = extract_quotes_indexes(model, query = \"climate change\", \n",
        "                                                threshold = 0.24)  "
      ],
      "metadata": {
        "id": "7AaBOOXknBB_"
      },
      "execution_count": null,
      "outputs": []
    },
    {
      "cell_type": "markdown",
      "source": [
        "### 4.2 Save all the indexes "
      ],
      "metadata": {
        "id": "NqHv7bnP64nE"
      }
    },
    {
      "cell_type": "code",
      "source": [
        "# save indexes with pickle \n",
        "PICKLE_PATH  = DATA_PATH + '/climate_change_indexes_new.pickle'\n",
        "with  open(PICKLE_PATH, \"wb\") as f:\n",
        "  pickle.dump(climate_change_indexes, f)"
      ],
      "metadata": {
        "id": "4JEI-oL7nBEX"
      },
      "execution_count": null,
      "outputs": []
    },
    {
      "cell_type": "markdown",
      "source": [
        "### 4.3 Load all the indexes "
      ],
      "metadata": {
        "id": "njjnieAi65xn"
      }
    },
    {
      "cell_type": "code",
      "source": [
        "# Read indexes from file \n",
        "file_pickle = open(PICKLE_PATH, 'rb')\n",
        "climate_change_indexes = pickle.load(file_pickle) "
      ],
      "metadata": {
        "id": "9b1csSaCuj0B"
      },
      "execution_count": null,
      "outputs": []
    },
    {
      "cell_type": "markdown",
      "source": [
        "### 4.4 Extract full quotes to json"
      ],
      "metadata": {
        "id": "noNKSO5K6-hj"
      }
    },
    {
      "cell_type": "markdown",
      "source": [
        "Funally, we have indexes of our clamte change related quotes and now we will extract DataFrame containing all of them."
      ],
      "metadata": {
        "id": "CuhWox3LpNQn"
      }
    },
    {
      "cell_type": "code",
      "source": [
        "# initialize vars\n",
        "quotes_tmp = []\n",
        "merged_quotes = pd.DataFrame()"
      ],
      "metadata": {
        "id": "ayELqhZdul4k"
      },
      "execution_count": null,
      "outputs": []
    },
    {
      "cell_type": "code",
      "source": [
        "# iterate though all CHUNKS\n",
        "for i in range(CHUNKS):\n",
        "  # get extracted indexes\n",
        "  valid_ind = climate_change_indexes[i]\n",
        "  # make a quotes path\n",
        "  quotes_path = DATA_PATH + \"/\" + QUOTE_FILES[i] + EXTENSION\n",
        "  # read the quotes from file\n",
        "  df_quotes= pd.read_json(quotes_path, lines=True, compression = 'bz2')\n",
        "  # take only valid ones\n",
        "  quotes_tmp  = df_quotes.iloc[valid_ind] \n",
        "  # concatanate with other chunks\n",
        "  merged_quotes = pd.concat([merged_quotes, quotes_tmp])  \n",
        "merged_quotes.head(1609)"
      ],
      "metadata": {
        "id": "7xRpwIAxul7J",
        "colab": {
          "base_uri": "https://localhost:8080/",
          "height": 424
        },
        "outputId": "52c332c0-c98e-44ed-affb-5d7c5a3bea07"
      },
      "execution_count": null,
      "outputs": [
        {
          "output_type": "execute_result",
          "data": {
            "text/html": [
              "<div>\n",
              "<style scoped>\n",
              "    .dataframe tbody tr th:only-of-type {\n",
              "        vertical-align: middle;\n",
              "    }\n",
              "\n",
              "    .dataframe tbody tr th {\n",
              "        vertical-align: top;\n",
              "    }\n",
              "\n",
              "    .dataframe thead th {\n",
              "        text-align: right;\n",
              "    }\n",
              "</style>\n",
              "<table border=\"1\" class=\"dataframe\">\n",
              "  <thead>\n",
              "    <tr style=\"text-align: right;\">\n",
              "      <th></th>\n",
              "      <th>quoteID</th>\n",
              "      <th>quotation</th>\n",
              "      <th>speaker</th>\n",
              "      <th>qids</th>\n",
              "      <th>date</th>\n",
              "      <th>numOccurrences</th>\n",
              "      <th>urls</th>\n",
              "    </tr>\n",
              "  </thead>\n",
              "  <tbody>\n",
              "    <tr>\n",
              "      <th>443316</th>\n",
              "      <td>2015-08-17-013108</td>\n",
              "      <td>climate change is different.</td>\n",
              "      <td>Larry Fink</td>\n",
              "      <td>[Q3218882, Q6490307]</td>\n",
              "      <td>2015-08-17 15:24:19</td>\n",
              "      <td>5</td>\n",
              "      <td>[http://dailykos.com/story/2015/08/17/1412772/...</td>\n",
              "    </tr>\n",
              "    <tr>\n",
              "      <th>513425</th>\n",
              "      <td>2015-03-23-062581</td>\n",
              "      <td>Ted Cruz is a climate change denier?</td>\n",
              "      <td>Ted Cruz</td>\n",
              "      <td>[Q2036942]</td>\n",
              "      <td>2015-03-23 22:00:00</td>\n",
              "      <td>2</td>\n",
              "      <td>[http://feeds.gawker.com/~r/gizmodo/full/~3/uM...</td>\n",
              "    </tr>\n",
              "    <tr>\n",
              "      <th>116079</th>\n",
              "      <td>2015-04-08-000375</td>\n",
              "      <td>a climate change skeptic.</td>\n",
              "      <td>Jeff Sessions</td>\n",
              "      <td>[Q358443]</td>\n",
              "      <td>2015-04-08 14:00:00</td>\n",
              "      <td>3</td>\n",
              "      <td>[http://www.usnews.com/opinion/blogs/peter-rof...</td>\n",
              "    </tr>\n",
              "    <tr>\n",
              "      <th>904161</th>\n",
              "      <td>2015-12-21-012505</td>\n",
              "      <td>climate change is more of a threat,</td>\n",
              "      <td>Steve Forbes</td>\n",
              "      <td>[Q133569, Q19957796, Q7612567, Q780842]</td>\n",
              "      <td>2015-12-21 17:19:45</td>\n",
              "      <td>1</td>\n",
              "      <td>[http://www.bizpacreview.com/2015/12/21/trust-...</td>\n",
              "    </tr>\n",
              "    <tr>\n",
              "      <th>53173</th>\n",
              "      <td>2015-04-22-016241</td>\n",
              "      <td>Hey, Governor Scott! Climate change climate ch...</td>\n",
              "      <td>President Obama</td>\n",
              "      <td>[Q76]</td>\n",
              "      <td>2015-04-22 12:17:14</td>\n",
              "      <td>1</td>\n",
              "      <td>[http://feeds.dailykos.com/~r/dailykos/index/~...</td>\n",
              "    </tr>\n",
              "    <tr>\n",
              "      <th>...</th>\n",
              "      <td>...</td>\n",
              "      <td>...</td>\n",
              "      <td>...</td>\n",
              "      <td>...</td>\n",
              "      <td>...</td>\n",
              "      <td>...</td>\n",
              "      <td>...</td>\n",
              "    </tr>\n",
              "    <tr>\n",
              "      <th>538616</th>\n",
              "      <td>2015-10-01-133073</td>\n",
              "      <td>we're going to have to change our laws.</td>\n",
              "      <td>President Obama</td>\n",
              "      <td>[Q76]</td>\n",
              "      <td>2015-10-01 04:19:00</td>\n",
              "      <td>21</td>\n",
              "      <td>[http://www.washingtonpost.com/news/the-fix/wp...</td>\n",
              "    </tr>\n",
              "    <tr>\n",
              "      <th>223399</th>\n",
              "      <td>2015-03-19-091132</td>\n",
              "      <td>This is going to change the landscape,</td>\n",
              "      <td>Bob Buckhorn</td>\n",
              "      <td>[Q4845296]</td>\n",
              "      <td>2015-03-19 13:18:53</td>\n",
              "      <td>2</td>\n",
              "      <td>[http://www.mlive.com/news/flint/index.ssf/201...</td>\n",
              "    </tr>\n",
              "    <tr>\n",
              "      <th>148446</th>\n",
              "      <td>2015-08-03-006425</td>\n",
              "      <td>are the single biggest source of harmful carbo...</td>\n",
              "      <td>president Barack Obama</td>\n",
              "      <td>[Q76]</td>\n",
              "      <td>2015-08-03 05:46:36</td>\n",
              "      <td>1</td>\n",
              "      <td>[http://www.morningstar.co.uk/uk/news/AN_14385...</td>\n",
              "    </tr>\n",
              "    <tr>\n",
              "      <th>742955</th>\n",
              "      <td>2015-08-02-053006</td>\n",
              "      <td>the single biggest source of harmful carbon po...</td>\n",
              "      <td>President Obama</td>\n",
              "      <td>[Q76]</td>\n",
              "      <td>2015-08-02 07:05:00</td>\n",
              "      <td>1</td>\n",
              "      <td>[http://www.dw.com/en/obama-releases-climate-v...</td>\n",
              "    </tr>\n",
              "    <tr>\n",
              "      <th>306124</th>\n",
              "      <td>2015-04-17-046134</td>\n",
              "      <td>It will build critical momentum for a successf...</td>\n",
              "      <td>Todd Stern</td>\n",
              "      <td>[Q437599]</td>\n",
              "      <td>2015-04-17 20:19:28</td>\n",
              "      <td>4</td>\n",
              "      <td>[http://news.yahoo.com/india-takes-significant...</td>\n",
              "    </tr>\n",
              "  </tbody>\n",
              "</table>\n",
              "<p>1609 rows × 7 columns</p>\n",
              "</div>"
            ],
            "text/plain": [
              "                  quoteID  ...                                               urls\n",
              "443316  2015-08-17-013108  ...  [http://dailykos.com/story/2015/08/17/1412772/...\n",
              "513425  2015-03-23-062581  ...  [http://feeds.gawker.com/~r/gizmodo/full/~3/uM...\n",
              "116079  2015-04-08-000375  ...  [http://www.usnews.com/opinion/blogs/peter-rof...\n",
              "904161  2015-12-21-012505  ...  [http://www.bizpacreview.com/2015/12/21/trust-...\n",
              "53173   2015-04-22-016241  ...  [http://feeds.dailykos.com/~r/dailykos/index/~...\n",
              "...                   ...  ...                                                ...\n",
              "538616  2015-10-01-133073  ...  [http://www.washingtonpost.com/news/the-fix/wp...\n",
              "223399  2015-03-19-091132  ...  [http://www.mlive.com/news/flint/index.ssf/201...\n",
              "148446  2015-08-03-006425  ...  [http://www.morningstar.co.uk/uk/news/AN_14385...\n",
              "742955  2015-08-02-053006  ...  [http://www.dw.com/en/obama-releases-climate-v...\n",
              "306124  2015-04-17-046134  ...  [http://news.yahoo.com/india-takes-significant...\n",
              "\n",
              "[1609 rows x 7 columns]"
            ]
          },
          "metadata": {},
          "execution_count": 14
        }
      ]
    },
    {
      "cell_type": "code",
      "source": [
        "# export merged dataframe to json \n",
        "merged_quotes.to_json(EXTRACTED_QUOTES_PATH, lines=True, orient='records', compression='bz2')"
      ],
      "metadata": {
        "id": "f0G31xPhxTZO"
      },
      "execution_count": null,
      "outputs": []
    },
    {
      "cell_type": "markdown",
      "source": [
        "## 5. References"
      ],
      "metadata": {
        "id": "vnYiWOyYIRv8"
      }
    },
    {
      "cell_type": "markdown",
      "source": [
        "[1] Varini, Francesco S., et al. “ClimaText: A Dataset for Climate Change Topic Detection.” ArXiv:2012.00483 [Cs], Jan. 2021. arXiv.org, http://arxiv.org/abs/2012.00483."
      ],
      "metadata": {
        "id": "d8e-eFIrIZMj"
      }
    }
  ]
}