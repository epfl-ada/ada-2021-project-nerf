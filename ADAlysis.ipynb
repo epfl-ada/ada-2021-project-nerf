{
  "nbformat": 4,
  "nbformat_minor": 0,
  "metadata": {
    "colab": {
      "name": "Ada Milestone 3.ipynb",
      "provenance": [],
      "collapsed_sections": []
    },
    "kernelspec": {
      "name": "python3",
      "display_name": "Python 3"
    },
    "language_info": {
      "name": "python"
    }
  },
  "cells": [
    {
      "cell_type": "markdown",
      "source": [
        "# Content description\n",
        "This notebook contains main analysis of the project.<br>\n",
        "## Content table:\n",
        "### 1. Load data\n",
        "### 2. Preprocessing\n",
        "Contains fine-grained preprocessing relevant to our analysis.\n",
        "### 3. Analysis:\n",
        "  1. **Gender analysis** - \n",
        "  Analysis of the climate change related quotes with respect to the speaker's gender.\n",
        "  2. **Age analysis** - \n",
        "  Analysis of the climate change related quotes with respect to the speaker's age group.\n",
        "  3. **Educational analysis** - \n",
        "  Analysis of the climate change related quotes with respect to the speaker's educational level.\n",
        "  4. **Analysis with respect to political party** - \n",
        "  Quantitative analysis of the climate change related quotes with respect to the speaker's political party. Major part of the analysis is performen only on relevant, Democratic and Republican party.\n",
        "  5. **Sentiment and misinformation analysis** - \n",
        "  Qualitative analysis of the climate change related quotes with respect to the speaker's political party. Major part of the analysis is performen only on relevant, Democratic and Republican party.\n",
        "  6. **Quantitative analysis on individual politicians** - \n",
        "  Quantitative analysis of the climate change related quotes with respect to the speaker.\n",
        "  7. **Regression analysis** - \n",
        "  Summarizes which characteristics are the most important to our problem and our conclusions.\n",
        "  8. **Timeline analysis** - Quantitative analysis with respect to individual speaker. Analysis emphasizes the time component of the quotations, i.e. when the quotation were said.\n",
        "\n",
        "### 4. Helper functions\n",
        "Contains helper functions used in the anaysis."
      ],
      "metadata": {
        "id": "c1tmXfjMEdKk"
      }
    },
    {
      "cell_type": "markdown",
      "metadata": {
        "id": "xZBcKsceXTW_"
      },
      "source": [
        "## Milestone 3"
      ]
    },
    {
      "cell_type": "code",
      "metadata": {
        "id": "cMAj5F7nSDd0",
        "colab": {
          "base_uri": "https://localhost:8080/"
        },
        "outputId": "080f6a0b-caed-4703-d043-de24ff592494"
      },
      "source": [
        "import pandas as pd\n",
        "import matplotlib.pyplot as plt\n",
        "import datetime\n",
        "from matplotlib.patches import Patch\n",
        "from matplotlib.lines import Line2D\n",
        "import numpy as np\n",
        "import matplotlib.dates as mdates\n",
        "\n",
        "from scipy.stats import ttest_ind\n",
        "\n",
        "# linear fit using statsmodels\n",
        "import statsmodels.api as sm\n",
        "import statsmodels.formula.api as smf"
      ],
      "execution_count": 1,
      "outputs": [
        {
          "output_type": "stream",
          "name": "stderr",
          "text": [
            "/usr/local/lib/python3.7/dist-packages/statsmodels/tools/_testing.py:19: FutureWarning: pandas.util.testing is deprecated. Use the functions in the public API at pandas.testing instead.\n",
            "  import pandas.util.testing as tm\n"
          ]
        }
      ]
    },
    {
      "cell_type": "markdown",
      "metadata": {
        "id": "QdAeoNoVYJ3L"
      },
      "source": [
        "1. Mount Drive"
      ]
    },
    {
      "cell_type": "code",
      "metadata": {
        "colab": {
          "base_uri": "https://localhost:8080/"
        },
        "id": "TP8zh0vEYMJH",
        "outputId": "a4791d83-4bac-40f5-e3fe-759efe2e8cc3"
      },
      "source": [
        "# Mounting google drive\n",
        "from google.colab import drive\n",
        "drive.mount('/content/drive')"
      ],
      "execution_count": 2,
      "outputs": [
        {
          "output_type": "stream",
          "name": "stdout",
          "text": [
            "Mounted at /content/drive\n"
          ]
        }
      ]
    },
    {
      "cell_type": "markdown",
      "metadata": {
        "id": "w9TKPcTzboSz"
      },
      "source": [
        "# 1. Load data\n",
        "Firstly we will load the data.\n"
      ]
    },
    {
      "cell_type": "code",
      "metadata": {
        "id": "daA878gJYxWt"
      },
      "source": [
        "PREFIX  = '/content/drive/MyDrive/ADA_Resources/'\n",
        "QUOTATION_PATH  = PREFIX + 'Enrichment/climate_change_quotes_small_v4_analysis.json'\n",
        "SPEAKER_PATH = PREFIX + 'speakers/us_politicians_cleaned.json.bz2'\n",
        "SPEAKER_COUNT = PREFIX + 'Extractor/speaker_date_count_renamed.csv'"
      ],
      "execution_count": 3,
      "outputs": []
    },
    {
      "cell_type": "code",
      "source": [
        "# Loading quotations data\n",
        "df_quotes = pd.read_json(QUOTATION_PATH, lines= True)\n",
        "df_quotes.head()"
      ],
      "metadata": {
        "colab": {
          "base_uri": "https://localhost:8080/",
          "height": 449
        },
        "id": "KYgxinlzKx-B",
        "outputId": "5e2e36e4-3f0f-43f7-d3a8-ae82769b3ad0"
      },
      "execution_count": null,
      "outputs": [
        {
          "output_type": "execute_result",
          "data": {
            "text/html": [
              "<div>\n",
              "<style scoped>\n",
              "    .dataframe tbody tr th:only-of-type {\n",
              "        vertical-align: middle;\n",
              "    }\n",
              "\n",
              "    .dataframe tbody tr th {\n",
              "        vertical-align: top;\n",
              "    }\n",
              "\n",
              "    .dataframe thead th {\n",
              "        text-align: right;\n",
              "    }\n",
              "</style>\n",
              "<table border=\"1\" class=\"dataframe\">\n",
              "  <thead>\n",
              "    <tr style=\"text-align: right;\">\n",
              "      <th></th>\n",
              "      <th>quotation</th>\n",
              "      <th>speaker</th>\n",
              "      <th>qids</th>\n",
              "      <th>date</th>\n",
              "      <th>numOccurrences</th>\n",
              "      <th>urls</th>\n",
              "      <th>sentimentScores</th>\n",
              "      <th>cardsPredLabel</th>\n",
              "      <th>domains</th>\n",
              "      <th>total_num_quotes</th>\n",
              "      <th>totalNumOccurrences</th>\n",
              "    </tr>\n",
              "  </thead>\n",
              "  <tbody>\n",
              "    <tr>\n",
              "      <th>0</th>\n",
              "      <td>Because America is leading by example, 150 cou...</td>\n",
              "      <td>President Obama</td>\n",
              "      <td>Q76</td>\n",
              "      <td>2015-10-26</td>\n",
              "      <td>1</td>\n",
              "      <td>[http://catholic.org/news/politics/story.php?i...</td>\n",
              "      <td>-0.527811</td>\n",
              "      <td>0</td>\n",
              "      <td>[catholic]</td>\n",
              "      <td>83105</td>\n",
              "      <td>358404</td>\n",
              "    </tr>\n",
              "    <tr>\n",
              "      <th>1</th>\n",
              "      <td>biggest driver of climate change.</td>\n",
              "      <td>President Barack Obama</td>\n",
              "      <td>Q76</td>\n",
              "      <td>2015-08-08</td>\n",
              "      <td>1</td>\n",
              "      <td>[http://www.theblaze.com/contributions/sweepin...</td>\n",
              "      <td>0.968509</td>\n",
              "      <td>0</td>\n",
              "      <td>[theblaze]</td>\n",
              "      <td>83105</td>\n",
              "      <td>358404</td>\n",
              "    </tr>\n",
              "    <tr>\n",
              "      <th>2</th>\n",
              "      <td>Climate change is a fact. The debate is settled.</td>\n",
              "      <td>President Obama</td>\n",
              "      <td>Q76</td>\n",
              "      <td>2015-01-19</td>\n",
              "      <td>1</td>\n",
              "      <td>[http://thehill.com/policy/energy-environment/...</td>\n",
              "      <td>0.885463</td>\n",
              "      <td>0</td>\n",
              "      <td>[thehill]</td>\n",
              "      <td>83105</td>\n",
              "      <td>358404</td>\n",
              "    </tr>\n",
              "    <tr>\n",
              "      <th>3</th>\n",
              "      <td>I welcome His Holiness Pope Francis's encyclic...</td>\n",
              "      <td>President Barack Obama</td>\n",
              "      <td>Q76</td>\n",
              "      <td>2015-06-18</td>\n",
              "      <td>36</td>\n",
              "      <td>[http://mashable.com/2015/06/18/pope-francis-c...</td>\n",
              "      <td>0.999841</td>\n",
              "      <td>0</td>\n",
              "      <td>[mashable, yahoo, yahoo, dailyherald, go, dese...</td>\n",
              "      <td>83105</td>\n",
              "      <td>358404</td>\n",
              "    </tr>\n",
              "    <tr>\n",
              "      <th>4</th>\n",
              "      <td>Our climate is changing. It's changing in ways...</td>\n",
              "      <td>President Barack Obama</td>\n",
              "      <td>Q76</td>\n",
              "      <td>2015-08-02</td>\n",
              "      <td>8</td>\n",
              "      <td>[http://www.upi.com/Top_News/US/2015/08/02/Oba...</td>\n",
              "      <td>0.967505</td>\n",
              "      <td>0</td>\n",
              "      <td>[upi, upi, upi, upi, upi, bignewsnetwork, upi,...</td>\n",
              "      <td>83105</td>\n",
              "      <td>358404</td>\n",
              "    </tr>\n",
              "  </tbody>\n",
              "</table>\n",
              "</div>"
            ],
            "text/plain": [
              "                                           quotation  ... totalNumOccurrences\n",
              "0  Because America is leading by example, 150 cou...  ...              358404\n",
              "1                  biggest driver of climate change.  ...              358404\n",
              "2   Climate change is a fact. The debate is settled.  ...              358404\n",
              "3  I welcome His Holiness Pope Francis's encyclic...  ...              358404\n",
              "4  Our climate is changing. It's changing in ways...  ...              358404\n",
              "\n",
              "[5 rows x 11 columns]"
            ]
          },
          "metadata": {},
          "execution_count": 6
        }
      ]
    },
    {
      "cell_type": "markdown",
      "source": [
        "- **df_quotes**  <br> This Dataframe contains data related to climate change quotes extracted from preprocessed Quotebank database. Extraction has been performed using BERT model. For more details about initial preprocessing, refer to **'Quotebank_preprocessing'** notebook, while for more informations about extraction refer to **'Extraction_BERT'** notebook. <br>On every datapoint from this set has been applied (for more informations, refer to **'Enrichment'** notebook.):<br>\n",
        "1. Sentiment analysis using **DBERT** (Distiled BERT for sentiment analysis, i.e. HuggingFace implementation) model. This is described in the column *'sentiment scores'*.\n",
        "2. Misinformation detection using **CARDS** (Computer-assisted detection and classification of misinformation about climate change) model. This is described in the column *'cardsPredLabel'*\n",
        "3. Extraction of domains using **tld** library. This is described in the column *'domains'* <br>\n",
        "4. Extraction of total number of quotation in general for speaker <br> This is described in the column *total_num_quotes*.\n",
        "Total number of quotation for speaker\n",
        "5.Extraction fo total number of occurrences of quotations for speaker <br>\n",
        "This is described in the column *totalNumOccurrences* \n"
      ],
      "metadata": {
        "id": "bjnHiH63LjkW"
      }
    },
    {
      "cell_type": "code",
      "source": [
        "# Loading speakers data\n",
        "df_speakers = pd.read_json(SPEAKER_PATH, lines=True, compression='bz2')"
      ],
      "metadata": {
        "id": "Lm-TYU_kK6xu"
      },
      "execution_count": null,
      "outputs": []
    },
    {
      "cell_type": "markdown",
      "source": [
        "\n",
        "- **df_speakers**  <br>This DataFrame contains preprocessed data from initial *parquet* file, where only relevant US politicians have been preserved. For more info refer to **'Wikidata_preprocessing'** notebook."
      ],
      "metadata": {
        "id": "vFlLjFm-Mgky"
      }
    },
    {
      "cell_type": "code",
      "source": [
        "# Loading data for timeline analysis\n",
        "df_counts = pd.read_csv(SPEAKER_COUNT)\n",
        "df_counts.head()"
      ],
      "metadata": {
        "colab": {
          "base_uri": "https://localhost:8080/",
          "height": 205
        },
        "id": "jNfHhkflOdGJ",
        "outputId": "4a84e2b5-cb21-49a2-9169-323c5acc5d91"
      },
      "execution_count": 5,
      "outputs": [
        {
          "output_type": "execute_result",
          "data": {
            "text/html": [
              "\n",
              "  <div id=\"df-b77509ac-3ba7-4d58-90e0-6dad05947f87\">\n",
              "    <div class=\"colab-df-container\">\n",
              "      <div>\n",
              "<style scoped>\n",
              "    .dataframe tbody tr th:only-of-type {\n",
              "        vertical-align: middle;\n",
              "    }\n",
              "\n",
              "    .dataframe tbody tr th {\n",
              "        vertical-align: top;\n",
              "    }\n",
              "\n",
              "    .dataframe thead th {\n",
              "        text-align: right;\n",
              "    }\n",
              "</style>\n",
              "<table border=\"1\" class=\"dataframe\">\n",
              "  <thead>\n",
              "    <tr style=\"text-align: right;\">\n",
              "      <th></th>\n",
              "      <th>qids</th>\n",
              "      <th>date</th>\n",
              "      <th>num_of_quotes</th>\n",
              "    </tr>\n",
              "  </thead>\n",
              "  <tbody>\n",
              "    <tr>\n",
              "      <th>0</th>\n",
              "      <td>Q1001235</td>\n",
              "      <td>2015-03-01</td>\n",
              "      <td>1</td>\n",
              "    </tr>\n",
              "    <tr>\n",
              "      <th>1</th>\n",
              "      <td>Q1001235</td>\n",
              "      <td>2017-08-01</td>\n",
              "      <td>1</td>\n",
              "    </tr>\n",
              "    <tr>\n",
              "      <th>2</th>\n",
              "      <td>Q1001235</td>\n",
              "      <td>2018-12-01</td>\n",
              "      <td>1</td>\n",
              "    </tr>\n",
              "    <tr>\n",
              "      <th>3</th>\n",
              "      <td>Q1017083</td>\n",
              "      <td>2019-07-01</td>\n",
              "      <td>1</td>\n",
              "    </tr>\n",
              "    <tr>\n",
              "      <th>4</th>\n",
              "      <td>Q1018322</td>\n",
              "      <td>2015-03-01</td>\n",
              "      <td>1</td>\n",
              "    </tr>\n",
              "  </tbody>\n",
              "</table>\n",
              "</div>\n",
              "      <button class=\"colab-df-convert\" onclick=\"convertToInteractive('df-b77509ac-3ba7-4d58-90e0-6dad05947f87')\"\n",
              "              title=\"Convert this dataframe to an interactive table.\"\n",
              "              style=\"display:none;\">\n",
              "        \n",
              "  <svg xmlns=\"http://www.w3.org/2000/svg\" height=\"24px\"viewBox=\"0 0 24 24\"\n",
              "       width=\"24px\">\n",
              "    <path d=\"M0 0h24v24H0V0z\" fill=\"none\"/>\n",
              "    <path d=\"M18.56 5.44l.94 2.06.94-2.06 2.06-.94-2.06-.94-.94-2.06-.94 2.06-2.06.94zm-11 1L8.5 8.5l.94-2.06 2.06-.94-2.06-.94L8.5 2.5l-.94 2.06-2.06.94zm10 10l.94 2.06.94-2.06 2.06-.94-2.06-.94-.94-2.06-.94 2.06-2.06.94z\"/><path d=\"M17.41 7.96l-1.37-1.37c-.4-.4-.92-.59-1.43-.59-.52 0-1.04.2-1.43.59L10.3 9.45l-7.72 7.72c-.78.78-.78 2.05 0 2.83L4 21.41c.39.39.9.59 1.41.59.51 0 1.02-.2 1.41-.59l7.78-7.78 2.81-2.81c.8-.78.8-2.07 0-2.86zM5.41 20L4 18.59l7.72-7.72 1.47 1.35L5.41 20z\"/>\n",
              "  </svg>\n",
              "      </button>\n",
              "      \n",
              "  <style>\n",
              "    .colab-df-container {\n",
              "      display:flex;\n",
              "      flex-wrap:wrap;\n",
              "      gap: 12px;\n",
              "    }\n",
              "\n",
              "    .colab-df-convert {\n",
              "      background-color: #E8F0FE;\n",
              "      border: none;\n",
              "      border-radius: 50%;\n",
              "      cursor: pointer;\n",
              "      display: none;\n",
              "      fill: #1967D2;\n",
              "      height: 32px;\n",
              "      padding: 0 0 0 0;\n",
              "      width: 32px;\n",
              "    }\n",
              "\n",
              "    .colab-df-convert:hover {\n",
              "      background-color: #E2EBFA;\n",
              "      box-shadow: 0px 1px 2px rgba(60, 64, 67, 0.3), 0px 1px 3px 1px rgba(60, 64, 67, 0.15);\n",
              "      fill: #174EA6;\n",
              "    }\n",
              "\n",
              "    [theme=dark] .colab-df-convert {\n",
              "      background-color: #3B4455;\n",
              "      fill: #D2E3FC;\n",
              "    }\n",
              "\n",
              "    [theme=dark] .colab-df-convert:hover {\n",
              "      background-color: #434B5C;\n",
              "      box-shadow: 0px 1px 3px 1px rgba(0, 0, 0, 0.15);\n",
              "      filter: drop-shadow(0px 1px 2px rgba(0, 0, 0, 0.3));\n",
              "      fill: #FFFFFF;\n",
              "    }\n",
              "  </style>\n",
              "\n",
              "      <script>\n",
              "        const buttonEl =\n",
              "          document.querySelector('#df-b77509ac-3ba7-4d58-90e0-6dad05947f87 button.colab-df-convert');\n",
              "        buttonEl.style.display =\n",
              "          google.colab.kernel.accessAllowed ? 'block' : 'none';\n",
              "\n",
              "        async function convertToInteractive(key) {\n",
              "          const element = document.querySelector('#df-b77509ac-3ba7-4d58-90e0-6dad05947f87');\n",
              "          const dataTable =\n",
              "            await google.colab.kernel.invokeFunction('convertToInteractive',\n",
              "                                                     [key], {});\n",
              "          if (!dataTable) return;\n",
              "\n",
              "          const docLinkHtml = 'Like what you see? Visit the ' +\n",
              "            '<a target=\"_blank\" href=https://colab.research.google.com/notebooks/data_table.ipynb>data table notebook</a>'\n",
              "            + ' to learn more about interactive tables.';\n",
              "          element.innerHTML = '';\n",
              "          dataTable['output_type'] = 'display_data';\n",
              "          await google.colab.output.renderOutput(dataTable, element);\n",
              "          const docLink = document.createElement('div');\n",
              "          docLink.innerHTML = docLinkHtml;\n",
              "          element.appendChild(docLink);\n",
              "        }\n",
              "      </script>\n",
              "    </div>\n",
              "  </div>\n",
              "  "
            ],
            "text/plain": [
              "       qids        date  num_of_quotes\n",
              "0  Q1001235  2015-03-01              1\n",
              "1  Q1001235  2017-08-01              1\n",
              "2  Q1001235  2018-12-01              1\n",
              "3  Q1017083  2019-07-01              1\n",
              "4  Q1018322  2015-03-01              1"
            ]
          },
          "metadata": {},
          "execution_count": 5
        }
      ]
    },
    {
      "cell_type": "markdown",
      "source": [
        "\n",
        "- **df_counts** <br>This DataFrame contains data describing number of quotes said by speaker in different months. Note that it is chosen to count number of qutoes from the first day of observed month. For more informations refer to **'Enrichment'** notebook."
      ],
      "metadata": {
        "id": "w2MCAYboGtB6"
      }
    },
    {
      "cell_type": "code",
      "source": [
        "df_counts.date = pd.to_datetime(df_counts.date)\n",
        "# Truncate hours, minutes and seconds\n",
        "df_counts.date = df_counts.date.apply(lambda date: datetime.date(date.year, date.month, date.day))"
      ],
      "metadata": {
        "id": "JwI_0qLyzZ-G"
      },
      "execution_count": 6,
      "outputs": []
    },
    {
      "cell_type": "markdown",
      "metadata": {
        "id": "Xvwvi9lJbmH_"
      },
      "source": [
        "#2. Preprocessing\n",
        "Before we dive in with the analysis, we need to perform minor fine-grain preprocessing on our data. <br>\n",
        "We will add additional features in **df_speakers** DataFrame, which will help us in our investigation: <br>\n",
        "1. Gender column"
      ]
    },
    {
      "cell_type": "code",
      "source": [
        "# Converting gender id to name\n",
        "GENDER = {'Q2449503' : 'Transgender male',\n",
        "          'Q1052281': 'Transgender female',\n",
        "          'Q6581097' : 'Male',\n",
        "          'Q6581072' : 'Female'}\n",
        "df_speakers['gender_name'] = df_speakers.gender.apply(lambda gid: gid if gid is None else GENDER[gid])"
      ],
      "metadata": {
        "id": "qoAulxs-XKUM"
      },
      "execution_count": null,
      "outputs": []
    },
    {
      "cell_type": "markdown",
      "source": [
        "2. Academic level (i.e. number of obtained diplomas)"
      ],
      "metadata": {
        "id": "_Yn-nhUpXXes"
      }
    },
    {
      "cell_type": "code",
      "source": [
        "# Counting number of degrees, i.e. degree of education\n",
        "df_speakers['degree_num'] = df_speakers.academic_degree.apply(lambda x: 0 if x is None else len(x))"
      ],
      "metadata": {
        "id": "Jelua_FkXpxJ"
      },
      "execution_count": null,
      "outputs": []
    },
    {
      "cell_type": "markdown",
      "source": [
        "3. Indicator if the politician has been part of the US congress"
      ],
      "metadata": {
        "id": "lw6FdhsPYjuR"
      }
    },
    {
      "cell_type": "code",
      "source": [
        "# Extracting indicator 'was_in_congres'\n",
        "df_speakers['was_in_congres'] = df_speakers.US_congress_bio_ID.notna()"
      ],
      "metadata": {
        "id": "meWBv1qgYvo6"
      },
      "execution_count": null,
      "outputs": []
    },
    {
      "cell_type": "markdown",
      "source": [
        "4. Indicator if the politician has been presidential candidate in his career"
      ],
      "metadata": {
        "id": "0H5liMmpY4yd"
      }
    },
    {
      "cell_type": "code",
      "source": [
        "# Indicator of presidential candidate\n",
        "df_speakers['was_candidate'] = df_speakers.candidacy.notna()"
      ],
      "metadata": {
        "id": "AUzdCUwfZJV_"
      },
      "execution_count": null,
      "outputs": []
    },
    {
      "cell_type": "markdown",
      "source": [
        "5. Indicator if the politician has been elected for president during his career"
      ],
      "metadata": {
        "id": "Ll1u2zZ5ZP1V"
      }
    },
    {
      "cell_type": "code",
      "source": [
        "# Presidents in period 2015-2020\n",
        "PRESIDENTS = ['Donald Trump', 'Barack Obama']\n",
        "\n",
        "# Indicator of presidency\n",
        "df_speakers['was_president'] = df_speakers.label.apply(lambda name: name in PRESIDENTS)"
      ],
      "metadata": {
        "id": "J-yGW8i_ZOFd"
      },
      "execution_count": null,
      "outputs": []
    },
    {
      "cell_type": "markdown",
      "source": [
        "Now, we will merge **df_quotes** and **df_speaker** DataFrames, in order to have additional speaker informations during our analysis.\n",
        "Note that in our merge we will not inlcude 'party' column. <br>As you may recall, in our **df_speaker** DataFrame, there are multiple entries for one politican if he has changed political party in the period 2015-2020 (i.e. for each of his political party, there is one entry). Because of that, we will have to discard duplicates when we consider other columns (i.e. the ones which are not changing due to the political party switching)."
      ],
      "metadata": {
        "id": "_bgiRKrub97J"
      }
    },
    {
      "cell_type": "code",
      "source": [
        "# Discard duplicates\n",
        "df_speakers = df_speakers.sort_values(by='party_start_date')\n",
        "speakers = df_speakers[~df_speakers.id.duplicated(keep='last')]\n",
        "\n",
        "# Merge relevant columns of DataFrames\n",
        "columns =  ['degree_num', 'age', 'gender_name', 'was_candidate',\n",
        "            'was_in_congres', 'party_count', 'id', 'label', 'was_president']\n",
        "df_quotes = pd.merge(left = df_quotes, left_on='qids',\n",
        "          right=speakers[columns], right_on='id')\n",
        "\n",
        "# Drop redundant columns\n",
        "df_quotes = df_quotes.drop(columns=['speaker', 'id'])\n",
        "\n",
        "# Rename columns in order to perserve consistency\n",
        "df_quotes = df_quotes.rename(columns={'label': 'speaker'})\n",
        "\n",
        "df_quotes.head(3)"
      ],
      "metadata": {
        "colab": {
          "base_uri": "https://localhost:8080/",
          "height": 354
        },
        "id": "s6lmPk6BdiXm",
        "outputId": "7302c4f8-4306-4a0a-c513-a19d61d5a322"
      },
      "execution_count": null,
      "outputs": [
        {
          "output_type": "execute_result",
          "data": {
            "text/html": [
              "<div>\n",
              "<style scoped>\n",
              "    .dataframe tbody tr th:only-of-type {\n",
              "        vertical-align: middle;\n",
              "    }\n",
              "\n",
              "    .dataframe tbody tr th {\n",
              "        vertical-align: top;\n",
              "    }\n",
              "\n",
              "    .dataframe thead th {\n",
              "        text-align: right;\n",
              "    }\n",
              "</style>\n",
              "<table border=\"1\" class=\"dataframe\">\n",
              "  <thead>\n",
              "    <tr style=\"text-align: right;\">\n",
              "      <th></th>\n",
              "      <th>quotation</th>\n",
              "      <th>qids</th>\n",
              "      <th>date</th>\n",
              "      <th>numOccurrences</th>\n",
              "      <th>urls</th>\n",
              "      <th>sentimentScores</th>\n",
              "      <th>cardsPredLabel</th>\n",
              "      <th>domains</th>\n",
              "      <th>total_num_quotes</th>\n",
              "      <th>totalNumOccurrences</th>\n",
              "      <th>degree_num</th>\n",
              "      <th>age</th>\n",
              "      <th>gender_name</th>\n",
              "      <th>was_candidate</th>\n",
              "      <th>was_in_congres</th>\n",
              "      <th>party_count</th>\n",
              "      <th>speaker</th>\n",
              "      <th>was_president</th>\n",
              "    </tr>\n",
              "  </thead>\n",
              "  <tbody>\n",
              "    <tr>\n",
              "      <th>0</th>\n",
              "      <td>Because America is leading by example, 150 cou...</td>\n",
              "      <td>Q76</td>\n",
              "      <td>2015-10-26</td>\n",
              "      <td>1</td>\n",
              "      <td>[http://catholic.org/news/politics/story.php?i...</td>\n",
              "      <td>-0.527811</td>\n",
              "      <td>0</td>\n",
              "      <td>[catholic]</td>\n",
              "      <td>83105</td>\n",
              "      <td>358404</td>\n",
              "      <td>2</td>\n",
              "      <td>60</td>\n",
              "      <td>Male</td>\n",
              "      <td>True</td>\n",
              "      <td>True</td>\n",
              "      <td>1</td>\n",
              "      <td>Barack Obama</td>\n",
              "      <td>True</td>\n",
              "    </tr>\n",
              "    <tr>\n",
              "      <th>1</th>\n",
              "      <td>biggest driver of climate change.</td>\n",
              "      <td>Q76</td>\n",
              "      <td>2015-08-08</td>\n",
              "      <td>1</td>\n",
              "      <td>[http://www.theblaze.com/contributions/sweepin...</td>\n",
              "      <td>0.968509</td>\n",
              "      <td>0</td>\n",
              "      <td>[theblaze]</td>\n",
              "      <td>83105</td>\n",
              "      <td>358404</td>\n",
              "      <td>2</td>\n",
              "      <td>60</td>\n",
              "      <td>Male</td>\n",
              "      <td>True</td>\n",
              "      <td>True</td>\n",
              "      <td>1</td>\n",
              "      <td>Barack Obama</td>\n",
              "      <td>True</td>\n",
              "    </tr>\n",
              "    <tr>\n",
              "      <th>2</th>\n",
              "      <td>Climate change is a fact. The debate is settled.</td>\n",
              "      <td>Q76</td>\n",
              "      <td>2015-01-19</td>\n",
              "      <td>1</td>\n",
              "      <td>[http://thehill.com/policy/energy-environment/...</td>\n",
              "      <td>0.885463</td>\n",
              "      <td>0</td>\n",
              "      <td>[thehill]</td>\n",
              "      <td>83105</td>\n",
              "      <td>358404</td>\n",
              "      <td>2</td>\n",
              "      <td>60</td>\n",
              "      <td>Male</td>\n",
              "      <td>True</td>\n",
              "      <td>True</td>\n",
              "      <td>1</td>\n",
              "      <td>Barack Obama</td>\n",
              "      <td>True</td>\n",
              "    </tr>\n",
              "  </tbody>\n",
              "</table>\n",
              "</div>"
            ],
            "text/plain": [
              "                                           quotation  ... was_president\n",
              "0  Because America is leading by example, 150 cou...  ...          True\n",
              "1                  biggest driver of climate change.  ...          True\n",
              "2   Climate change is a fact. The debate is settled.  ...          True\n",
              "\n",
              "[3 rows x 18 columns]"
            ]
          },
          "metadata": {},
          "execution_count": 129
        }
      ]
    },
    {
      "cell_type": "markdown",
      "source": [
        "Lastly, for each quote we will assign political party to which speaker belonged in the time when the quote was cited."
      ],
      "metadata": {
        "id": "UInW8jVqqADB"
      }
    },
    {
      "cell_type": "code",
      "source": [
        "PARTIES = {'Q29552' :'Democratic Party', \n",
        "           'Q29468' : 'Republican Party', \n",
        "           'Q327591' : 'Independent politician',  \n",
        "           'Q558334' : 'Libertarian Party',\n",
        "           'Q1128321' : 'Constitution Party'}\n",
        "\n",
        "def merge_party(quote):\n",
        "  '''\n",
        "  Return political party to which speaker belonged \n",
        "  when given qute was said.\n",
        "\n",
        "  Parameters\n",
        "  ----------\n",
        "  quote: pd.Series\n",
        "    quotation with its additional info(qids, date, etc.)\n",
        "  \n",
        "  Returns\n",
        "  -------\n",
        "  String\n",
        "    Name of the political party\n",
        "  '''\n",
        "  # Extracting the speaker\n",
        "  speaker = df_speakers[df_speakers.id == quote.qids]\n",
        "  # if speaker.shape is greater than 1, it means that he has changed politicial \n",
        "  # parties during his career, and for each party, there is a row in speaker variable\n",
        "  party_qid = ''\n",
        "  try:\n",
        "    if speaker.shape[0]>1:\n",
        "      party_qid = speaker[(speaker.party_start_date <= quote.date) & \\\n",
        "                          (quote.date <= speaker.party_end_date)] \\\n",
        "                          .party\n",
        "    else: \n",
        "      party_qid = speaker.party\n",
        "\n",
        "    # Extracting party name\n",
        "    return PARTIES[party_qid.values[0]]\n",
        "  except:\n",
        "    return None\n",
        "# Adding new column\n",
        "df_quotes['party_name'] = df_quotes.apply(merge_party , axis=1)"
      ],
      "metadata": {
        "id": "ruAM1Y9YqL6S"
      },
      "execution_count": null,
      "outputs": []
    },
    {
      "cell_type": "markdown",
      "source": [
        "... and now we can get our hands dirty!"
      ],
      "metadata": {
        "id": "YCqB_2S_em6B"
      }
    },
    {
      "cell_type": "markdown",
      "metadata": {
        "id": "SnGXDaVQzRHS"
      },
      "source": [
        "#3. Analysis"
      ]
    },
    {
      "cell_type": "markdown",
      "source": [
        "As stated in the proposal of this project, our analysis will focus on different demographic and political aspects of climate change related quotes. <br>\n",
        "Therefore, before we begin our journey, let's extract data which will be the foundation of every subsequent analysis.  "
      ],
      "metadata": {
        "id": "9G2yLtLhe6xX"
      }
    },
    {
      "cell_type": "code",
      "source": [
        "# Extracting the foundation data\n",
        "# Extracting number of quotes per speaker, and speaker's additional info\n",
        "info_by_speaker = df_quotes.groupby(by='speaker') \\\n",
        "                       .agg({'quotation':'count',\n",
        "                             'numOccurrences': 'sum',\n",
        "                             'gender_name':'first',\n",
        "                             'degree_num': 'first',\n",
        "                             'age': 'first',\n",
        "                             'party_count': 'first',\n",
        "                             'was_in_congres': 'first',\n",
        "                             'was_candidate': 'first',\n",
        "                             'was_president' : 'first',\n",
        "                             'total_num_quotes': 'first',\n",
        "                             'totalNumOccurrences':'first',\n",
        "                             'party_name': 'first'    \n",
        "                             })\\\n",
        "                       .sort_values(\n",
        "                           by= 'quotation',\n",
        "                           ascending = False)\n",
        "info_by_speaker.head()"
      ],
      "metadata": {
        "colab": {
          "base_uri": "https://localhost:8080/",
          "height": 237
        },
        "id": "MtgoTB0qtLhE",
        "outputId": "4cbdedf3-ae52-4fe6-8972-92e6d1f4f66c"
      },
      "execution_count": 8,
      "outputs": [
        {
          "output_type": "execute_result",
          "data": {
            "text/html": [
              "\n",
              "  <div id=\"df-ae024542-6493-4d47-b44d-4f7742c8792c\">\n",
              "    <div class=\"colab-df-container\">\n",
              "      <div>\n",
              "<style scoped>\n",
              "    .dataframe tbody tr th:only-of-type {\n",
              "        vertical-align: middle;\n",
              "    }\n",
              "\n",
              "    .dataframe tbody tr th {\n",
              "        vertical-align: top;\n",
              "    }\n",
              "\n",
              "    .dataframe thead th {\n",
              "        text-align: right;\n",
              "    }\n",
              "</style>\n",
              "<table border=\"1\" class=\"dataframe\">\n",
              "  <thead>\n",
              "    <tr style=\"text-align: right;\">\n",
              "      <th></th>\n",
              "      <th>quotation</th>\n",
              "      <th>numOccurrences</th>\n",
              "      <th>gender_name</th>\n",
              "      <th>degree_num</th>\n",
              "      <th>age</th>\n",
              "      <th>party_count</th>\n",
              "      <th>was_in_congres</th>\n",
              "      <th>was_candidate</th>\n",
              "      <th>was_president</th>\n",
              "      <th>total_num_quotes</th>\n",
              "      <th>totalNumOccurrences</th>\n",
              "      <th>party_name</th>\n",
              "    </tr>\n",
              "    <tr>\n",
              "      <th>speaker</th>\n",
              "      <th></th>\n",
              "      <th></th>\n",
              "      <th></th>\n",
              "      <th></th>\n",
              "      <th></th>\n",
              "      <th></th>\n",
              "      <th></th>\n",
              "      <th></th>\n",
              "      <th></th>\n",
              "      <th></th>\n",
              "      <th></th>\n",
              "      <th></th>\n",
              "    </tr>\n",
              "  </thead>\n",
              "  <tbody>\n",
              "    <tr>\n",
              "      <th>Barack Obama</th>\n",
              "      <td>2801</td>\n",
              "      <td>19372</td>\n",
              "      <td>Male</td>\n",
              "      <td>2</td>\n",
              "      <td>60</td>\n",
              "      <td>1</td>\n",
              "      <td>True</td>\n",
              "      <td>True</td>\n",
              "      <td>True</td>\n",
              "      <td>83105</td>\n",
              "      <td>358404</td>\n",
              "      <td>Democratic Party</td>\n",
              "    </tr>\n",
              "    <tr>\n",
              "      <th>Donald Trump</th>\n",
              "      <td>2459</td>\n",
              "      <td>21832</td>\n",
              "      <td>Male</td>\n",
              "      <td>1</td>\n",
              "      <td>75</td>\n",
              "      <td>5</td>\n",
              "      <td>False</td>\n",
              "      <td>True</td>\n",
              "      <td>True</td>\n",
              "      <td>675898</td>\n",
              "      <td>313392</td>\n",
              "      <td>Republican Party</td>\n",
              "    </tr>\n",
              "    <tr>\n",
              "      <th>Bernie Sanders</th>\n",
              "      <td>1540</td>\n",
              "      <td>5636</td>\n",
              "      <td>Male</td>\n",
              "      <td>1</td>\n",
              "      <td>80</td>\n",
              "      <td>5</td>\n",
              "      <td>True</td>\n",
              "      <td>False</td>\n",
              "      <td>False</td>\n",
              "      <td>67834</td>\n",
              "      <td>56333</td>\n",
              "      <td>Democratic Party</td>\n",
              "    </tr>\n",
              "    <tr>\n",
              "      <th>Jerry Brown</th>\n",
              "      <td>1070</td>\n",
              "      <td>7386</td>\n",
              "      <td>Male</td>\n",
              "      <td>0</td>\n",
              "      <td>83</td>\n",
              "      <td>1</td>\n",
              "      <td>False</td>\n",
              "      <td>False</td>\n",
              "      <td>False</td>\n",
              "      <td>12443</td>\n",
              "      <td>16402</td>\n",
              "      <td>Democratic Party</td>\n",
              "    </tr>\n",
              "    <tr>\n",
              "      <th>Jay Inslee</th>\n",
              "      <td>1016</td>\n",
              "      <td>4990</td>\n",
              "      <td>Male</td>\n",
              "      <td>0</td>\n",
              "      <td>70</td>\n",
              "      <td>1</td>\n",
              "      <td>True</td>\n",
              "      <td>False</td>\n",
              "      <td>False</td>\n",
              "      <td>10727</td>\n",
              "      <td>4401</td>\n",
              "      <td>Democratic Party</td>\n",
              "    </tr>\n",
              "  </tbody>\n",
              "</table>\n",
              "</div>\n",
              "      <button class=\"colab-df-convert\" onclick=\"convertToInteractive('df-ae024542-6493-4d47-b44d-4f7742c8792c')\"\n",
              "              title=\"Convert this dataframe to an interactive table.\"\n",
              "              style=\"display:none;\">\n",
              "        \n",
              "  <svg xmlns=\"http://www.w3.org/2000/svg\" height=\"24px\"viewBox=\"0 0 24 24\"\n",
              "       width=\"24px\">\n",
              "    <path d=\"M0 0h24v24H0V0z\" fill=\"none\"/>\n",
              "    <path d=\"M18.56 5.44l.94 2.06.94-2.06 2.06-.94-2.06-.94-.94-2.06-.94 2.06-2.06.94zm-11 1L8.5 8.5l.94-2.06 2.06-.94-2.06-.94L8.5 2.5l-.94 2.06-2.06.94zm10 10l.94 2.06.94-2.06 2.06-.94-2.06-.94-.94-2.06-.94 2.06-2.06.94z\"/><path d=\"M17.41 7.96l-1.37-1.37c-.4-.4-.92-.59-1.43-.59-.52 0-1.04.2-1.43.59L10.3 9.45l-7.72 7.72c-.78.78-.78 2.05 0 2.83L4 21.41c.39.39.9.59 1.41.59.51 0 1.02-.2 1.41-.59l7.78-7.78 2.81-2.81c.8-.78.8-2.07 0-2.86zM5.41 20L4 18.59l7.72-7.72 1.47 1.35L5.41 20z\"/>\n",
              "  </svg>\n",
              "      </button>\n",
              "      \n",
              "  <style>\n",
              "    .colab-df-container {\n",
              "      display:flex;\n",
              "      flex-wrap:wrap;\n",
              "      gap: 12px;\n",
              "    }\n",
              "\n",
              "    .colab-df-convert {\n",
              "      background-color: #E8F0FE;\n",
              "      border: none;\n",
              "      border-radius: 50%;\n",
              "      cursor: pointer;\n",
              "      display: none;\n",
              "      fill: #1967D2;\n",
              "      height: 32px;\n",
              "      padding: 0 0 0 0;\n",
              "      width: 32px;\n",
              "    }\n",
              "\n",
              "    .colab-df-convert:hover {\n",
              "      background-color: #E2EBFA;\n",
              "      box-shadow: 0px 1px 2px rgba(60, 64, 67, 0.3), 0px 1px 3px 1px rgba(60, 64, 67, 0.15);\n",
              "      fill: #174EA6;\n",
              "    }\n",
              "\n",
              "    [theme=dark] .colab-df-convert {\n",
              "      background-color: #3B4455;\n",
              "      fill: #D2E3FC;\n",
              "    }\n",
              "\n",
              "    [theme=dark] .colab-df-convert:hover {\n",
              "      background-color: #434B5C;\n",
              "      box-shadow: 0px 1px 3px 1px rgba(0, 0, 0, 0.15);\n",
              "      filter: drop-shadow(0px 1px 2px rgba(0, 0, 0, 0.3));\n",
              "      fill: #FFFFFF;\n",
              "    }\n",
              "  </style>\n",
              "\n",
              "      <script>\n",
              "        const buttonEl =\n",
              "          document.querySelector('#df-ae024542-6493-4d47-b44d-4f7742c8792c button.colab-df-convert');\n",
              "        buttonEl.style.display =\n",
              "          google.colab.kernel.accessAllowed ? 'block' : 'none';\n",
              "\n",
              "        async function convertToInteractive(key) {\n",
              "          const element = document.querySelector('#df-ae024542-6493-4d47-b44d-4f7742c8792c');\n",
              "          const dataTable =\n",
              "            await google.colab.kernel.invokeFunction('convertToInteractive',\n",
              "                                                     [key], {});\n",
              "          if (!dataTable) return;\n",
              "\n",
              "          const docLinkHtml = 'Like what you see? Visit the ' +\n",
              "            '<a target=\"_blank\" href=https://colab.research.google.com/notebooks/data_table.ipynb>data table notebook</a>'\n",
              "            + ' to learn more about interactive tables.';\n",
              "          element.innerHTML = '';\n",
              "          dataTable['output_type'] = 'display_data';\n",
              "          await google.colab.output.renderOutput(dataTable, element);\n",
              "          const docLink = document.createElement('div');\n",
              "          docLink.innerHTML = docLinkHtml;\n",
              "          element.appendChild(docLink);\n",
              "        }\n",
              "      </script>\n",
              "    </div>\n",
              "  </div>\n",
              "  "
            ],
            "text/plain": [
              "                quotation  ...        party_name\n",
              "speaker                    ...                  \n",
              "Barack Obama         2801  ...  Democratic Party\n",
              "Donald Trump         2459  ...  Republican Party\n",
              "Bernie Sanders       1540  ...  Democratic Party\n",
              "Jerry Brown          1070  ...  Democratic Party\n",
              "Jay Inslee           1016  ...  Democratic Party\n",
              "\n",
              "[5 rows x 12 columns]"
            ]
          },
          "metadata": {},
          "execution_count": 8
        }
      ]
    },
    {
      "cell_type": "markdown",
      "source": [
        "And now let's start! <br>\n",
        "Let's warm up with a simple questions, demographic analysis:"
      ],
      "metadata": {
        "id": "Xm7uz1rAnMLo"
      }
    },
    {
      "cell_type": "markdown",
      "metadata": {
        "id": "oyIOcfuqncRm"
      },
      "source": [
        "### 3.1. Gender analysis"
      ]
    },
    {
      "cell_type": "markdown",
      "source": [
        "Are there differences between the gender?"
      ],
      "metadata": {
        "id": "5XKgD56Hny5o"
      }
    },
    {
      "cell_type": "code",
      "metadata": {
        "colab": {
          "base_uri": "https://localhost:8080/",
          "height": 174
        },
        "id": "e2hYfWnyngBo",
        "outputId": "c76a71ae-80e2-4923-88d4-8123e3402de4"
      },
      "source": [
        "# Extracting quotations by gender\n",
        "count_by_gender = info_by_speaker.groupby(by='gender_name') \\\n",
        "                      .sum()[['quotation','total_num_quotes']] \\\n",
        "                      .sort_values(by='quotation',ascending= False)\n",
        "# Calculating ratio\n",
        "count_by_gender['ratio'] = count_by_gender.quotation *100 / count_by_gender.total_num_quotes\n",
        "count_by_gender.head()"
      ],
      "execution_count": 27,
      "outputs": [
        {
          "output_type": "execute_result",
          "data": {
            "text/html": [
              "\n",
              "  <div id=\"df-4a26407e-669a-4474-a3a1-7ccb82d740b8\">\n",
              "    <div class=\"colab-df-container\">\n",
              "      <div>\n",
              "<style scoped>\n",
              "    .dataframe tbody tr th:only-of-type {\n",
              "        vertical-align: middle;\n",
              "    }\n",
              "\n",
              "    .dataframe tbody tr th {\n",
              "        vertical-align: top;\n",
              "    }\n",
              "\n",
              "    .dataframe thead th {\n",
              "        text-align: right;\n",
              "    }\n",
              "</style>\n",
              "<table border=\"1\" class=\"dataframe\">\n",
              "  <thead>\n",
              "    <tr style=\"text-align: right;\">\n",
              "      <th></th>\n",
              "      <th>quotation</th>\n",
              "      <th>total_num_quotes</th>\n",
              "      <th>ratio</th>\n",
              "    </tr>\n",
              "    <tr>\n",
              "      <th>gender_name</th>\n",
              "      <th></th>\n",
              "      <th></th>\n",
              "      <th></th>\n",
              "    </tr>\n",
              "  </thead>\n",
              "  <tbody>\n",
              "    <tr>\n",
              "      <th>Male</th>\n",
              "      <td>38173</td>\n",
              "      <td>4796931</td>\n",
              "      <td>0.795780</td>\n",
              "    </tr>\n",
              "    <tr>\n",
              "      <th>Female</th>\n",
              "      <td>8977</td>\n",
              "      <td>942930</td>\n",
              "      <td>0.952032</td>\n",
              "    </tr>\n",
              "    <tr>\n",
              "      <th>Transgender female</th>\n",
              "      <td>34</td>\n",
              "      <td>2436</td>\n",
              "      <td>1.395731</td>\n",
              "    </tr>\n",
              "  </tbody>\n",
              "</table>\n",
              "</div>\n",
              "      <button class=\"colab-df-convert\" onclick=\"convertToInteractive('df-4a26407e-669a-4474-a3a1-7ccb82d740b8')\"\n",
              "              title=\"Convert this dataframe to an interactive table.\"\n",
              "              style=\"display:none;\">\n",
              "        \n",
              "  <svg xmlns=\"http://www.w3.org/2000/svg\" height=\"24px\"viewBox=\"0 0 24 24\"\n",
              "       width=\"24px\">\n",
              "    <path d=\"M0 0h24v24H0V0z\" fill=\"none\"/>\n",
              "    <path d=\"M18.56 5.44l.94 2.06.94-2.06 2.06-.94-2.06-.94-.94-2.06-.94 2.06-2.06.94zm-11 1L8.5 8.5l.94-2.06 2.06-.94-2.06-.94L8.5 2.5l-.94 2.06-2.06.94zm10 10l.94 2.06.94-2.06 2.06-.94-2.06-.94-.94-2.06-.94 2.06-2.06.94z\"/><path d=\"M17.41 7.96l-1.37-1.37c-.4-.4-.92-.59-1.43-.59-.52 0-1.04.2-1.43.59L10.3 9.45l-7.72 7.72c-.78.78-.78 2.05 0 2.83L4 21.41c.39.39.9.59 1.41.59.51 0 1.02-.2 1.41-.59l7.78-7.78 2.81-2.81c.8-.78.8-2.07 0-2.86zM5.41 20L4 18.59l7.72-7.72 1.47 1.35L5.41 20z\"/>\n",
              "  </svg>\n",
              "      </button>\n",
              "      \n",
              "  <style>\n",
              "    .colab-df-container {\n",
              "      display:flex;\n",
              "      flex-wrap:wrap;\n",
              "      gap: 12px;\n",
              "    }\n",
              "\n",
              "    .colab-df-convert {\n",
              "      background-color: #E8F0FE;\n",
              "      border: none;\n",
              "      border-radius: 50%;\n",
              "      cursor: pointer;\n",
              "      display: none;\n",
              "      fill: #1967D2;\n",
              "      height: 32px;\n",
              "      padding: 0 0 0 0;\n",
              "      width: 32px;\n",
              "    }\n",
              "\n",
              "    .colab-df-convert:hover {\n",
              "      background-color: #E2EBFA;\n",
              "      box-shadow: 0px 1px 2px rgba(60, 64, 67, 0.3), 0px 1px 3px 1px rgba(60, 64, 67, 0.15);\n",
              "      fill: #174EA6;\n",
              "    }\n",
              "\n",
              "    [theme=dark] .colab-df-convert {\n",
              "      background-color: #3B4455;\n",
              "      fill: #D2E3FC;\n",
              "    }\n",
              "\n",
              "    [theme=dark] .colab-df-convert:hover {\n",
              "      background-color: #434B5C;\n",
              "      box-shadow: 0px 1px 3px 1px rgba(0, 0, 0, 0.15);\n",
              "      filter: drop-shadow(0px 1px 2px rgba(0, 0, 0, 0.3));\n",
              "      fill: #FFFFFF;\n",
              "    }\n",
              "  </style>\n",
              "\n",
              "      <script>\n",
              "        const buttonEl =\n",
              "          document.querySelector('#df-4a26407e-669a-4474-a3a1-7ccb82d740b8 button.colab-df-convert');\n",
              "        buttonEl.style.display =\n",
              "          google.colab.kernel.accessAllowed ? 'block' : 'none';\n",
              "\n",
              "        async function convertToInteractive(key) {\n",
              "          const element = document.querySelector('#df-4a26407e-669a-4474-a3a1-7ccb82d740b8');\n",
              "          const dataTable =\n",
              "            await google.colab.kernel.invokeFunction('convertToInteractive',\n",
              "                                                     [key], {});\n",
              "          if (!dataTable) return;\n",
              "\n",
              "          const docLinkHtml = 'Like what you see? Visit the ' +\n",
              "            '<a target=\"_blank\" href=https://colab.research.google.com/notebooks/data_table.ipynb>data table notebook</a>'\n",
              "            + ' to learn more about interactive tables.';\n",
              "          element.innerHTML = '';\n",
              "          dataTable['output_type'] = 'display_data';\n",
              "          await google.colab.output.renderOutput(dataTable, element);\n",
              "          const docLink = document.createElement('div');\n",
              "          docLink.innerHTML = docLinkHtml;\n",
              "          element.appendChild(docLink);\n",
              "        }\n",
              "      </script>\n",
              "    </div>\n",
              "  </div>\n",
              "  "
            ],
            "text/plain": [
              "                    quotation  total_num_quotes     ratio\n",
              "gender_name                                              \n",
              "Male                    38173           4796931  0.795780\n",
              "Female                   8977            942930  0.952032\n",
              "Transgender female         34              2436  1.395731"
            ]
          },
          "metadata": {},
          "execution_count": 27
        }
      ]
    },
    {
      "cell_type": "code",
      "metadata": {
        "colab": {
          "base_uri": "https://localhost:8080/",
          "height": 408
        },
        "id": "ryDDCILfoHwq",
        "outputId": "1664a174-4b2e-4398-832f-be86b42430e1"
      },
      "source": [
        "# Plot info \n",
        "labels = ['Male', 'Female', 'Transgender female']\n",
        "columns = ['quotation','total_num_quotes']\n",
        "titles = ['Number of climate change related quotes by gender',\n",
        "          'Total number of quotes by gender']\n",
        "\n",
        "# Plot data\n",
        "pie_chart(labels=labels,\n",
        "          data = count_by_gender,\n",
        "          titles = titles,\n",
        "          columns= columns,\n",
        "          colors = ['b','r','g'],\n",
        "          explode = (0,0.1,0))"
      ],
      "execution_count": null,
      "outputs": [
        {
          "output_type": "stream",
          "name": "stdout",
          "text": [
            "\n",
            "\n"
          ]
        },
        {
          "output_type": "display_data",
          "data": {
            "image/png": "[encoded data removed]",
            "text/plain": [
              "<Figure size 1440x432 with 2 Axes>"
            ]
          },
          "metadata": {}
        }
      ]
    },
    {
      "cell_type": "markdown",
      "source": [
        "Although male gender has more climate change related quotes and more total number of general quotes than women, in the table we can see that ratio present us the information that female gender is more aware of this global problem. This can be interpreted as Simpson's paradox.<br>\n",
        "Interesting...\n",
        "\n",
        "NOTE: Trangender female gender does not take the significant part of the data, so we will neglect it in our observation."
      ],
      "metadata": {
        "id": "vjah2gLqoC-D"
      }
    },
    {
      "cell_type": "markdown",
      "metadata": {
        "id": "xdQf-o0UqHIc"
      },
      "source": [
        "### 2. Age analysis"
      ]
    },
    {
      "cell_type": "markdown",
      "source": [
        "Secondly, we will analyse data with respect to age.\n",
        "Is awareness more present in certain age groups?"
      ],
      "metadata": {
        "id": "AtRCAt9nxYJ4"
      }
    },
    {
      "cell_type": "code",
      "metadata": {
        "colab": {
          "base_uri": "https://localhost:8080/",
          "height": 296
        },
        "id": "BqcdsbJjqke2",
        "outputId": "36b9c554-5fc7-43a0-fe2f-edf2bfbb3605"
      },
      "source": [
        "# Plotting number of quotes by age\n",
        "df_quotes.age.hist(bins=50, log= True)\n",
        "plt.xlabel('Age')\n",
        "plt.ylabel('Number of quotations')\n",
        "print()\n",
        "\n"
      ],
      "execution_count": 55,
      "outputs": [
        {
          "output_type": "stream",
          "name": "stdout",
          "text": [
            "\n"
          ]
        },
        {
          "output_type": "display_data",
          "data": {
            "image/png": "[encoded data removed]",
            "text/plain": [
              "<Figure size 432x288 with 1 Axes>"
            ]
          },
          "metadata": {
            "needs_background": "light"
          }
        }
      ]
    },
    {
      "cell_type": "markdown",
      "source": [
        "So, we can see that number of quotes with respect to age parameter follows Gaussian-like distribution, with anomaly in the age group of 21. Interesting... <br>\n",
        "Now, let's see if the age structure changes when we add gender dimensionality."
      ],
      "metadata": {
        "id": "TnZ6yQ48x3yx"
      }
    },
    {
      "cell_type": "code",
      "metadata": {
        "colab": {
          "base_uri": "https://localhost:8080/",
          "height": 468
        },
        "id": "xWf8NHyxsfuV",
        "outputId": "225dd79c-bafe-4be4-bce1-d6bd5b2a679d"
      },
      "source": [
        "# Plotting distributions of quotations by gender\n",
        "column = 'age'\n",
        "log_flag = True\n",
        "bins = 50\n",
        "\n",
        "# Separating data by gender\n",
        "for gender in info_by_speaker.gender_name.unique():\n",
        "  gender_group = info_by_speaker[info_by_speaker.gender_name==gender]\n",
        "  plt.hist(gender_group[column], weights = gender_group['quotation'],  label = gender, log=log_flag, bins=bins)\n",
        "  print('Mean for %s group: %.2lf'% (gender,gender_group[column].mean()))\n",
        "  print('Std for %s group: %.2lf\\n'% (gender,gender_group[column].std()))\n",
        "\n",
        "# Adding plot details\n",
        "plt.title('Gender analysis by age')\n",
        "plt.xlabel('Age')\n",
        "plt.ylabel('Number of quotations')\n",
        "plt.legend()\n",
        "print()"
      ],
      "execution_count": 41,
      "outputs": [
        {
          "output_type": "stream",
          "name": "stdout",
          "text": [
            "Mean for Male group: 63.20\n",
            "Std for Male group: 13.65\n",
            "\n",
            "Mean for Female group: 60.70\n",
            "Std for Female group: 13.02\n",
            "\n",
            "Mean for Transgender female group: 49.00\n",
            "Std for Transgender female group: 17.09\n",
            "\n",
            "\n"
          ]
        },
        {
          "output_type": "display_data",
          "data": {
            "image/png": "[encoded data removed]",
            "text/plain": [
              "<Figure size 432x288 with 1 Axes>"
            ]
          },
          "metadata": {
            "needs_background": "light"
          }
        }
      ]
    },
    {
      "cell_type": "markdown",
      "source": [
        "The visual representatinon, as well as the mean values, are similar, we could ask ourselves if these two distributions are the same.\n",
        "Since the std values are similar, we can apply ttest."
      ],
      "metadata": {
        "id": "-IXsfAsKAE-s"
      }
    },
    {
      "cell_type": "code",
      "source": [
        "# Test similarities of the distributions\n",
        "males = info_by_speaker[info_by_speaker.gender_name=='Male']\n",
        "females = info_by_speaker[info_by_speaker.gender_name=='Female'] \n",
        "ttest_ind(males.age.values, females.age.values)"
      ],
      "metadata": {
        "colab": {
          "base_uri": "https://localhost:8080/"
        },
        "id": "j6bNaLtyBqxZ",
        "outputId": "4fa1209a-6ca0-4f15-c5bd-0700cfbc6d3d"
      },
      "execution_count": null,
      "outputs": [
        {
          "output_type": "execute_result",
          "data": {
            "text/plain": [
              "Ttest_indResult(statistic=4.295727599853131, pvalue=1.793521363723521e-05)"
            ]
          },
          "metadata": {},
          "execution_count": 187
        }
      ]
    },
    {
      "cell_type": "markdown",
      "source": [
        "Since the p-value is less than ordinary 0.01, we can conclude that difference in mean values is significant, therefore these are the different distributions."
      ],
      "metadata": {
        "id": "qDBBjEUjCH9r"
      }
    },
    {
      "cell_type": "markdown",
      "metadata": {
        "id": "txq9EPDOvHZF"
      },
      "source": [
        "### 3. Educational analysis"
      ]
    },
    {
      "cell_type": "markdown",
      "source": [
        "How level of education affects self-awareness?"
      ],
      "metadata": {
        "id": "Ralu3DbDCYLV"
      }
    },
    {
      "cell_type": "code",
      "metadata": {
        "colab": {
          "base_uri": "https://localhost:8080/",
          "height": 294
        },
        "id": "9aZDDg7gqMB1",
        "outputId": "bb107f7e-0022-40c7-cfee-cdceb06a0d68"
      },
      "source": [
        "# Dropping speakers without degree values\n",
        "academic_speakers_data = info_by_speaker[info_by_speaker.degree_num != 0]\n",
        "\n",
        "# Extracting and plotting number of quotes per academic degree \n",
        "colors = ['r','g', 'b']\n",
        "\n",
        "academic_speakers_data.groupby(by='degree_num') \\\n",
        "                      .sum()['quotation']\\\n",
        "                      .plot.bar(log=False,\n",
        "                                color = colors)\n",
        "print()"
      ],
      "execution_count": null,
      "outputs": [
        {
          "output_type": "stream",
          "name": "stdout",
          "text": [
            "\n"
          ]
        },
        {
          "output_type": "display_data",
          "data": {
            "image/png": "[encoded data removed]",
            "text/plain": [
              "<Figure size 432x288 with 1 Axes>"
            ]
          },
          "metadata": {
            "needs_background": "light"
          }
        }
      ]
    },
    {
      "cell_type": "code",
      "metadata": {
        "colab": {
          "base_uri": "https://localhost:8080/",
          "height": 1000
        },
        "id": "5xzC9HdcwmfC",
        "outputId": "43a6a490-7353-4d82-8e84-36954d86ea81"
      },
      "source": [
        "# Extracting and plotting N speakers with most quotations (with respect to \n",
        "# academic degree)\n",
        "N=6\n",
        "\n",
        "# Filtering data by condition of academic degree\n",
        "for degree_num in np.sort(academic_speakers_data.degree_num.unique()):\n",
        "\n",
        "  # For each academic degree, we create independent figure\n",
        "  plt.figure()\n",
        "\n",
        "  # Extracting speakers and number of quotes with respect to degree_num\n",
        "  degree = info_by_speaker[info_by_speaker.degree_num==degree_num]['quotation']\n",
        "\n",
        "\n",
        "  # Crafting plot title\n",
        "  title = '%d degree' % (degree_num)\n",
        "\n",
        "  # Plotting first N speakers and number of quotes\n",
        "  degree[:N].plot.bar(title= title, color = colors[degree_num-1])\n",
        "\n",
        "  # Calculating descriptive statistics (mean and std)\n",
        "  print('Mean for %d degree: %.5lf' % (degree_num, degree.values.mean()))\n",
        "  print('Std for %d degree: %.5lf' % (degree_num, degree.values.std()))"
      ],
      "execution_count": null,
      "outputs": [
        {
          "output_type": "stream",
          "name": "stdout",
          "text": [
            "Mean for 1 degree: 137.05455\n",
            "Std for 1 degree: 400.37693\n",
            "Mean for 2 degree: 226.92000\n",
            "Std for 2 degree: 547.74431\n",
            "Mean for 3 degree: 76.25000\n",
            "Std for 3 degree: 39.21973\n"
          ]
        },
        {
          "output_type": "display_data",
          "data": {
            "image/png": "[encoded data removed]",
            "text/plain": [
              "<Figure size 432x288 with 1 Axes>"
            ]
          },
          "metadata": {
            "needs_background": "light"
          }
        },
        {
          "output_type": "display_data",
          "data": {
            "image/png": "[encoded data removed]",
            "text/plain": [
              "<Figure size 432x288 with 1 Axes>"
            ]
          },
          "metadata": {
            "needs_background": "light"
          }
        },
        {
          "output_type": "display_data",
          "data": {
            "image/png": "[encoded data removed]",
            "text/plain": [
              "<Figure size 432x288 with 1 Axes>"
            ]
          },
          "metadata": {
            "needs_background": "light"
          }
        }
      ]
    },
    {
      "cell_type": "markdown",
      "metadata": {
        "id": "vOU4sHhPZ4VG"
      },
      "source": [
        "### 4. Analysis with respect to political party"
      ]
    },
    {
      "cell_type": "markdown",
      "source": [
        "Does the beloning political party influences (or reflects) speaker's attitude towards climate change?"
      ],
      "metadata": {
        "id": "CngmpQklEng4"
      }
    },
    {
      "cell_type": "code",
      "metadata": {
        "colab": {
          "base_uri": "https://localhost:8080/",
          "height": 238
        },
        "id": "eTrBMTr3gVDk",
        "outputId": "f0617b59-1927-4ffd-b946-6716e9be84dc"
      },
      "source": [
        "# Extracting quotations by political parties\n",
        "count_by_parties = info_by_speaker.groupby(by='party_name') \\\n",
        "                      .sum()[['quotation','total_num_quotes']] \\\n",
        "                      .sort_values(by='quotation',ascending= False)\n",
        "# Calculating ratio\n",
        "count_by_parties['ratio'] = count_by_parties.quotation *100 / count_by_parties.total_num_quotes\n",
        "count_by_parties.head()"
      ],
      "execution_count": null,
      "outputs": [
        {
          "output_type": "execute_result",
          "data": {
            "text/html": [
              "<div>\n",
              "<style scoped>\n",
              "    .dataframe tbody tr th:only-of-type {\n",
              "        vertical-align: middle;\n",
              "    }\n",
              "\n",
              "    .dataframe tbody tr th {\n",
              "        vertical-align: top;\n",
              "    }\n",
              "\n",
              "    .dataframe thead th {\n",
              "        text-align: right;\n",
              "    }\n",
              "</style>\n",
              "<table border=\"1\" class=\"dataframe\">\n",
              "  <thead>\n",
              "    <tr style=\"text-align: right;\">\n",
              "      <th></th>\n",
              "      <th>quotation</th>\n",
              "      <th>total_num_quotes</th>\n",
              "      <th>ratio</th>\n",
              "    </tr>\n",
              "    <tr>\n",
              "      <th>party_name</th>\n",
              "      <th></th>\n",
              "      <th></th>\n",
              "      <th></th>\n",
              "    </tr>\n",
              "  </thead>\n",
              "  <tbody>\n",
              "    <tr>\n",
              "      <th>Democratic Party</th>\n",
              "      <td>31127</td>\n",
              "      <td>2514868</td>\n",
              "      <td>1.237719</td>\n",
              "    </tr>\n",
              "    <tr>\n",
              "      <th>Republican Party</th>\n",
              "      <td>15919</td>\n",
              "      <td>3210855</td>\n",
              "      <td>0.495787</td>\n",
              "    </tr>\n",
              "    <tr>\n",
              "      <th>Libertarian Party</th>\n",
              "      <td>72</td>\n",
              "      <td>8970</td>\n",
              "      <td>0.802676</td>\n",
              "    </tr>\n",
              "    <tr>\n",
              "      <th>Independent politician</th>\n",
              "      <td>61</td>\n",
              "      <td>6028</td>\n",
              "      <td>1.011944</td>\n",
              "    </tr>\n",
              "    <tr>\n",
              "      <th>Constitution Party</th>\n",
              "      <td>4</td>\n",
              "      <td>1306</td>\n",
              "      <td>0.306279</td>\n",
              "    </tr>\n",
              "  </tbody>\n",
              "</table>\n",
              "</div>"
            ],
            "text/plain": [
              "                        quotation  total_num_quotes     ratio\n",
              "party_name                                                   \n",
              "Democratic Party            31127           2514868  1.237719\n",
              "Republican Party            15919           3210855  0.495787\n",
              "Libertarian Party              72              8970  0.802676\n",
              "Independent politician         61              6028  1.011944\n",
              "Constitution Party              4              1306  0.306279"
            ]
          },
          "metadata": {},
          "execution_count": 16
        }
      ]
    },
    {
      "cell_type": "markdown",
      "source": [
        "Since libertarians, constitutionalists and independent politicians present really small percent of data, we will neglect them from our analysis."
      ],
      "metadata": {
        "id": "gCPhvqr1E8Bk"
      }
    },
    {
      "cell_type": "code",
      "metadata": {
        "id": "OcPlpqyIDUET"
      },
      "source": [
        "# Preserving only quotes of Democrats and Republicans\n",
        "count_by_parties = count_by_parties[:2]"
      ],
      "execution_count": null,
      "outputs": []
    },
    {
      "cell_type": "code",
      "metadata": {
        "colab": {
          "base_uri": "https://localhost:8080/",
          "height": 408
        },
        "id": "Flx8nxCAmGeX",
        "outputId": "1d299085-1a86-4746-8def-ecdc2a13e552"
      },
      "source": [
        "# Plotting number of quotes by party\n",
        "\n",
        "# Plot info\n",
        "labels = ['Democratic Party',  'Republican Party']\n",
        "columns = ['quotation','total_num_quotes']\n",
        "titles = ['Number of climate change related quotes by political party',\n",
        "          'Total number of quotes by political party']\n",
        "\n",
        "# Plot data\n",
        "pie_chart(labels = labels,\n",
        "          data = count_by_parties,\n",
        "          titles = titles,\n",
        "          columns = columns,\n",
        "          )"
      ],
      "execution_count": null,
      "outputs": [
        {
          "output_type": "stream",
          "name": "stdout",
          "text": [
            "\n",
            "\n"
          ]
        },
        {
          "output_type": "display_data",
          "data": {
            "image/png": "[encoded data removed]",
            "text/plain": [
              "<Figure size 1440x432 with 2 Axes>"
            ]
          },
          "metadata": {}
        }
      ]
    },
    {
      "cell_type": "markdown",
      "source": [
        "From the above inspection, we see extraordinary event.\n",
        "Democratic party, although having less number of general quotes in total, has bigger number of quotes related to climate change. Does it mean that Democrats are more conscious?<br>\n",
        "On the other hand, ratio values are very small, so it may lead us to believe that political affiliation is irrelevant? <br>\n",
        "Peculiar..."
      ],
      "metadata": {
        "id": "OM14y3X2G0DE"
      }
    },
    {
      "cell_type": "markdown",
      "source": [
        "#### 5. Sentiment and misinformation analysis"
      ],
      "metadata": {
        "id": "2UuVN9wOPf8q"
      }
    },
    {
      "cell_type": "markdown",
      "source": [
        "Let's observe quotes on sematnic level, but with respect to political parties:\n",
        "-  Firstly, let's analyse in which atmosphere are quotes presented. <br> As you may recall, features relevant to this analysis are extracted using pretrained **DBERT** (Distiled BERT for sentiment analysis, i.e. HuggingFace implementation) model. This is described in the column 'sentimentScores'. To be more precise, this feature has values in the range [-1,1], where negative values present negative sentiment of the quote, while positive values present positive sentiment. <br> So let's dig in!"
      ],
      "metadata": {
        "id": "edBdhazixe3a"
      }
    },
    {
      "cell_type": "code",
      "source": [
        "# Extracting relevant quotes\n",
        "df_rep_dem = df_quotes[(df_quotes.party_name == 'Republican Party') | \\\n",
        "                       (df_quotes.party_name == 'Democratic Party')]\n",
        "\n",
        "# Cunting total number of quotes by party\n",
        "total_num = df_rep_dem.groupby('party_name').count()['quotation']\n",
        "# Separating quote with respect to sentiment\n",
        "positive_sentiment = df_rep_dem[df_rep_dem.sentimentScores >= 0]\n",
        "negative_sentiment = df_rep_dem[df_rep_dem.sentimentScores < 0]\n",
        "\n",
        "# Grouping data by political parties\n",
        "positive_sentiment = positive_sentiment.groupby('party_name').count()['quotation'] \n",
        "negative_sentiment = negative_sentiment.groupby('party_name').count()['quotation']\n",
        "\n",
        "# Calculating ratios\n",
        "positive_sentiment_ratio = positive_sentiment / total_num\n",
        "negative_sentiment_ratio = negative_sentiment / total_num\n",
        "\n",
        "# Creating DataFrames\n",
        "positive_sentiment = pd.DataFrame({'positive_number': positive_sentiment,\n",
        "                                   'total_num': total_num,\n",
        "                                   'ratio':positive_sentiment_ratio})\n",
        "# Creating DataFrames\n",
        "negative_sentiment = pd.DataFrame({'negative_number': negative_sentiment,\n",
        "                                   'total_num': total_num,\n",
        "                                   'ratio':negative_sentiment_ratio})\n"
      ],
      "metadata": {
        "id": "nJcTncM4zvuY"
      },
      "execution_count": 124,
      "outputs": []
    },
    {
      "cell_type": "markdown",
      "source": [
        "So what can we see about positive sentiment?"
      ],
      "metadata": {
        "id": "x79UvzfnEayJ"
      }
    },
    {
      "cell_type": "code",
      "source": [
        "positive_sentiment"
      ],
      "metadata": {
        "colab": {
          "base_uri": "https://localhost:8080/",
          "height": 143
        },
        "id": "hHGd35r4BqHJ",
        "outputId": "d1bec2b0-ed64-4174-fb10-4ff004490fe0"
      },
      "execution_count": null,
      "outputs": [
        {
          "output_type": "execute_result",
          "data": {
            "text/html": [
              "\n",
              "  <div id=\"df-2ed3387d-9ae4-4a70-853b-745fca273ac8\">\n",
              "    <div class=\"colab-df-container\">\n",
              "      <div>\n",
              "<style scoped>\n",
              "    .dataframe tbody tr th:only-of-type {\n",
              "        vertical-align: middle;\n",
              "    }\n",
              "\n",
              "    .dataframe tbody tr th {\n",
              "        vertical-align: top;\n",
              "    }\n",
              "\n",
              "    .dataframe thead th {\n",
              "        text-align: right;\n",
              "    }\n",
              "</style>\n",
              "<table border=\"1\" class=\"dataframe\">\n",
              "  <thead>\n",
              "    <tr style=\"text-align: right;\">\n",
              "      <th></th>\n",
              "      <th>positive_number</th>\n",
              "      <th>total_num</th>\n",
              "      <th>ratio</th>\n",
              "    </tr>\n",
              "    <tr>\n",
              "      <th>party_name</th>\n",
              "      <th></th>\n",
              "      <th></th>\n",
              "      <th></th>\n",
              "    </tr>\n",
              "  </thead>\n",
              "  <tbody>\n",
              "    <tr>\n",
              "      <th>Democratic Party</th>\n",
              "      <td>17183</td>\n",
              "      <td>30599</td>\n",
              "      <td>0.561554</td>\n",
              "    </tr>\n",
              "    <tr>\n",
              "      <th>Republican Party</th>\n",
              "      <td>7199</td>\n",
              "      <td>15967</td>\n",
              "      <td>0.450867</td>\n",
              "    </tr>\n",
              "  </tbody>\n",
              "</table>\n",
              "</div>\n",
              "      <button class=\"colab-df-convert\" onclick=\"convertToInteractive('df-2ed3387d-9ae4-4a70-853b-745fca273ac8')\"\n",
              "              title=\"Convert this dataframe to an interactive table.\"\n",
              "              style=\"display:none;\">\n",
              "        \n",
              "  <svg xmlns=\"http://www.w3.org/2000/svg\" height=\"24px\"viewBox=\"0 0 24 24\"\n",
              "       width=\"24px\">\n",
              "    <path d=\"M0 0h24v24H0V0z\" fill=\"none\"/>\n",
              "    <path d=\"M18.56 5.44l.94 2.06.94-2.06 2.06-.94-2.06-.94-.94-2.06-.94 2.06-2.06.94zm-11 1L8.5 8.5l.94-2.06 2.06-.94-2.06-.94L8.5 2.5l-.94 2.06-2.06.94zm10 10l.94 2.06.94-2.06 2.06-.94-2.06-.94-.94-2.06-.94 2.06-2.06.94z\"/><path d=\"M17.41 7.96l-1.37-1.37c-.4-.4-.92-.59-1.43-.59-.52 0-1.04.2-1.43.59L10.3 9.45l-7.72 7.72c-.78.78-.78 2.05 0 2.83L4 21.41c.39.39.9.59 1.41.59.51 0 1.02-.2 1.41-.59l7.78-7.78 2.81-2.81c.8-.78.8-2.07 0-2.86zM5.41 20L4 18.59l7.72-7.72 1.47 1.35L5.41 20z\"/>\n",
              "  </svg>\n",
              "      </button>\n",
              "      \n",
              "  <style>\n",
              "    .colab-df-container {\n",
              "      display:flex;\n",
              "      flex-wrap:wrap;\n",
              "      gap: 12px;\n",
              "    }\n",
              "\n",
              "    .colab-df-convert {\n",
              "      background-color: #E8F0FE;\n",
              "      border: none;\n",
              "      border-radius: 50%;\n",
              "      cursor: pointer;\n",
              "      display: none;\n",
              "      fill: #1967D2;\n",
              "      height: 32px;\n",
              "      padding: 0 0 0 0;\n",
              "      width: 32px;\n",
              "    }\n",
              "\n",
              "    .colab-df-convert:hover {\n",
              "      background-color: #E2EBFA;\n",
              "      box-shadow: 0px 1px 2px rgba(60, 64, 67, 0.3), 0px 1px 3px 1px rgba(60, 64, 67, 0.15);\n",
              "      fill: #174EA6;\n",
              "    }\n",
              "\n",
              "    [theme=dark] .colab-df-convert {\n",
              "      background-color: #3B4455;\n",
              "      fill: #D2E3FC;\n",
              "    }\n",
              "\n",
              "    [theme=dark] .colab-df-convert:hover {\n",
              "      background-color: #434B5C;\n",
              "      box-shadow: 0px 1px 3px 1px rgba(0, 0, 0, 0.15);\n",
              "      filter: drop-shadow(0px 1px 2px rgba(0, 0, 0, 0.3));\n",
              "      fill: #FFFFFF;\n",
              "    }\n",
              "  </style>\n",
              "\n",
              "      <script>\n",
              "        const buttonEl =\n",
              "          document.querySelector('#df-2ed3387d-9ae4-4a70-853b-745fca273ac8 button.colab-df-convert');\n",
              "        buttonEl.style.display =\n",
              "          google.colab.kernel.accessAllowed ? 'block' : 'none';\n",
              "\n",
              "        async function convertToInteractive(key) {\n",
              "          const element = document.querySelector('#df-2ed3387d-9ae4-4a70-853b-745fca273ac8');\n",
              "          const dataTable =\n",
              "            await google.colab.kernel.invokeFunction('convertToInteractive',\n",
              "                                                     [key], {});\n",
              "          if (!dataTable) return;\n",
              "\n",
              "          const docLinkHtml = 'Like what you see? Visit the ' +\n",
              "            '<a target=\"_blank\" href=https://colab.research.google.com/notebooks/data_table.ipynb>data table notebook</a>'\n",
              "            + ' to learn more about interactive tables.';\n",
              "          element.innerHTML = '';\n",
              "          dataTable['output_type'] = 'display_data';\n",
              "          await google.colab.output.renderOutput(dataTable, element);\n",
              "          const docLink = document.createElement('div');\n",
              "          docLink.innerHTML = docLinkHtml;\n",
              "          element.appendChild(docLink);\n",
              "        }\n",
              "      </script>\n",
              "    </div>\n",
              "  </div>\n",
              "  "
            ],
            "text/plain": [
              "                  positive_number  total_num     ratio\n",
              "party_name                                            \n",
              "Democratic Party            17183      30599  0.561554\n",
              "Republican Party             7199      15967  0.450867"
            ]
          },
          "metadata": {},
          "execution_count": 11
        }
      ]
    },
    {
      "cell_type": "markdown",
      "source": [
        "Based on the values in the table, and on the graphical representation bellow,\n",
        "we can see that Democratic Party has tendecy to cite their quotes mostly with positive sentiment. <br>"
      ],
      "metadata": {
        "id": "yk1nG0YQEgKx"
      }
    },
    {
      "cell_type": "code",
      "source": [
        "# Plotting pie chart for positive sentiment analysis\n",
        "# Plot info\n",
        "labels = ['Democratic Party',  'Republican Party']\n",
        "columns = ['positive_number','total_num']\n",
        "titles = ['Number of positive sentiment quotes by political party',\n",
        "          'Total number of quotes by political party']\n",
        "\n",
        "# Plot data\n",
        "pie_chart(labels = labels,\n",
        "          data = positive_sentiment,\n",
        "          titles = titles,\n",
        "          columns = columns,\n",
        "          )"
      ],
      "metadata": {
        "colab": {
          "base_uri": "https://localhost:8080/",
          "height": 408
        },
        "id": "HpzU7rbW2IEq",
        "outputId": "ea656903-a1d3-40bb-aabe-76bfe69de8ca"
      },
      "execution_count": null,
      "outputs": [
        {
          "output_type": "stream",
          "name": "stdout",
          "text": [
            "\n",
            "\n"
          ]
        },
        {
          "output_type": "display_data",
          "data": {
            "image/png": "[encoded data removed]",
            "text/plain": [
              "<Figure size 1440x432 with 2 Axes>"
            ]
          },
          "metadata": {}
        }
      ]
    },
    {
      "cell_type": "markdown",
      "source": [
        "But what about the negative sentiment?"
      ],
      "metadata": {
        "id": "J5DRUHx5FDKp"
      }
    },
    {
      "cell_type": "code",
      "source": [
        "negative_sentiment"
      ],
      "metadata": {
        "colab": {
          "base_uri": "https://localhost:8080/",
          "height": 143
        },
        "id": "cA-mtHYLBxfc",
        "outputId": "bf269275-9a8f-4455-d5d2-511aad1ddeff"
      },
      "execution_count": null,
      "outputs": [
        {
          "output_type": "execute_result",
          "data": {
            "text/html": [
              "\n",
              "  <div id=\"df-051493e9-2570-4e3b-90ab-ab36c0d46c75\">\n",
              "    <div class=\"colab-df-container\">\n",
              "      <div>\n",
              "<style scoped>\n",
              "    .dataframe tbody tr th:only-of-type {\n",
              "        vertical-align: middle;\n",
              "    }\n",
              "\n",
              "    .dataframe tbody tr th {\n",
              "        vertical-align: top;\n",
              "    }\n",
              "\n",
              "    .dataframe thead th {\n",
              "        text-align: right;\n",
              "    }\n",
              "</style>\n",
              "<table border=\"1\" class=\"dataframe\">\n",
              "  <thead>\n",
              "    <tr style=\"text-align: right;\">\n",
              "      <th></th>\n",
              "      <th>negative_number</th>\n",
              "      <th>total_num</th>\n",
              "      <th>ratio</th>\n",
              "    </tr>\n",
              "    <tr>\n",
              "      <th>party_name</th>\n",
              "      <th></th>\n",
              "      <th></th>\n",
              "      <th></th>\n",
              "    </tr>\n",
              "  </thead>\n",
              "  <tbody>\n",
              "    <tr>\n",
              "      <th>Democratic Party</th>\n",
              "      <td>13416</td>\n",
              "      <td>30599</td>\n",
              "      <td>0.438446</td>\n",
              "    </tr>\n",
              "    <tr>\n",
              "      <th>Republican Party</th>\n",
              "      <td>8768</td>\n",
              "      <td>15967</td>\n",
              "      <td>0.549133</td>\n",
              "    </tr>\n",
              "  </tbody>\n",
              "</table>\n",
              "</div>\n",
              "      <button class=\"colab-df-convert\" onclick=\"convertToInteractive('df-051493e9-2570-4e3b-90ab-ab36c0d46c75')\"\n",
              "              title=\"Convert this dataframe to an interactive table.\"\n",
              "              style=\"display:none;\">\n",
              "        \n",
              "  <svg xmlns=\"http://www.w3.org/2000/svg\" height=\"24px\"viewBox=\"0 0 24 24\"\n",
              "       width=\"24px\">\n",
              "    <path d=\"M0 0h24v24H0V0z\" fill=\"none\"/>\n",
              "    <path d=\"M18.56 5.44l.94 2.06.94-2.06 2.06-.94-2.06-.94-.94-2.06-.94 2.06-2.06.94zm-11 1L8.5 8.5l.94-2.06 2.06-.94-2.06-.94L8.5 2.5l-.94 2.06-2.06.94zm10 10l.94 2.06.94-2.06 2.06-.94-2.06-.94-.94-2.06-.94 2.06-2.06.94z\"/><path d=\"M17.41 7.96l-1.37-1.37c-.4-.4-.92-.59-1.43-.59-.52 0-1.04.2-1.43.59L10.3 9.45l-7.72 7.72c-.78.78-.78 2.05 0 2.83L4 21.41c.39.39.9.59 1.41.59.51 0 1.02-.2 1.41-.59l7.78-7.78 2.81-2.81c.8-.78.8-2.07 0-2.86zM5.41 20L4 18.59l7.72-7.72 1.47 1.35L5.41 20z\"/>\n",
              "  </svg>\n",
              "      </button>\n",
              "      \n",
              "  <style>\n",
              "    .colab-df-container {\n",
              "      display:flex;\n",
              "      flex-wrap:wrap;\n",
              "      gap: 12px;\n",
              "    }\n",
              "\n",
              "    .colab-df-convert {\n",
              "      background-color: #E8F0FE;\n",
              "      border: none;\n",
              "      border-radius: 50%;\n",
              "      cursor: pointer;\n",
              "      display: none;\n",
              "      fill: #1967D2;\n",
              "      height: 32px;\n",
              "      padding: 0 0 0 0;\n",
              "      width: 32px;\n",
              "    }\n",
              "\n",
              "    .colab-df-convert:hover {\n",
              "      background-color: #E2EBFA;\n",
              "      box-shadow: 0px 1px 2px rgba(60, 64, 67, 0.3), 0px 1px 3px 1px rgba(60, 64, 67, 0.15);\n",
              "      fill: #174EA6;\n",
              "    }\n",
              "\n",
              "    [theme=dark] .colab-df-convert {\n",
              "      background-color: #3B4455;\n",
              "      fill: #D2E3FC;\n",
              "    }\n",
              "\n",
              "    [theme=dark] .colab-df-convert:hover {\n",
              "      background-color: #434B5C;\n",
              "      box-shadow: 0px 1px 3px 1px rgba(0, 0, 0, 0.15);\n",
              "      filter: drop-shadow(0px 1px 2px rgba(0, 0, 0, 0.3));\n",
              "      fill: #FFFFFF;\n",
              "    }\n",
              "  </style>\n",
              "\n",
              "      <script>\n",
              "        const buttonEl =\n",
              "          document.querySelector('#df-051493e9-2570-4e3b-90ab-ab36c0d46c75 button.colab-df-convert');\n",
              "        buttonEl.style.display =\n",
              "          google.colab.kernel.accessAllowed ? 'block' : 'none';\n",
              "\n",
              "        async function convertToInteractive(key) {\n",
              "          const element = document.querySelector('#df-051493e9-2570-4e3b-90ab-ab36c0d46c75');\n",
              "          const dataTable =\n",
              "            await google.colab.kernel.invokeFunction('convertToInteractive',\n",
              "                                                     [key], {});\n",
              "          if (!dataTable) return;\n",
              "\n",
              "          const docLinkHtml = 'Like what you see? Visit the ' +\n",
              "            '<a target=\"_blank\" href=https://colab.research.google.com/notebooks/data_table.ipynb>data table notebook</a>'\n",
              "            + ' to learn more about interactive tables.';\n",
              "          element.innerHTML = '';\n",
              "          dataTable['output_type'] = 'display_data';\n",
              "          await google.colab.output.renderOutput(dataTable, element);\n",
              "          const docLink = document.createElement('div');\n",
              "          docLink.innerHTML = docLinkHtml;\n",
              "          element.appendChild(docLink);\n",
              "        }\n",
              "      </script>\n",
              "    </div>\n",
              "  </div>\n",
              "  "
            ],
            "text/plain": [
              "                  negative_number  total_num     ratio\n",
              "party_name                                            \n",
              "Democratic Party            13416      30599  0.438446\n",
              "Republican Party             8768      15967  0.549133"
            ]
          },
          "metadata": {},
          "execution_count": 15
        }
      ]
    },
    {
      "cell_type": "markdown",
      "source": [
        "Based on the statistics presented in table above, and the visualization on the plots bellow, we can conclude that Republicans are more likely (explained by bigger ratio number) to cite their qotes with negative sentiment. <br>\n",
        "Note also that, although Democrats have more quotes with negative sentiment, and more quotes in total, the Republicans are more likely (explained by bigger ratio number) to cite their quotes with negative sentiment. This is another example of Simpson's paradox."
      ],
      "metadata": {
        "id": "ZU0xqUzrFHdm"
      }
    },
    {
      "cell_type": "code",
      "source": [
        "# Plotting pie chart for positive sentiment analysis\n",
        "# Plot info\n",
        "labels = ['Democratic Party',  'Republican Party']\n",
        "columns = ['negative_number','total_num']\n",
        "titles = ['Number of negative sentiment quotes by political party',\n",
        "          'Total number of quotes by political party']\n",
        "\n",
        "# Plot data\n",
        "pie_chart(labels = labels,\n",
        "          data = negative_sentiment,\n",
        "          titles = titles,\n",
        "          columns = columns,\n",
        "          )"
      ],
      "metadata": {
        "colab": {
          "base_uri": "https://localhost:8080/",
          "height": 408
        },
        "id": "h7E30B8KCYci",
        "outputId": "d28c5e0f-21ea-4472-81c4-16b4964b1601"
      },
      "execution_count": null,
      "outputs": [
        {
          "output_type": "stream",
          "name": "stdout",
          "text": [
            "\n",
            "\n"
          ]
        },
        {
          "output_type": "display_data",
          "data": {
            "image/png": "[encoded data removed]",
            "text/plain": [
              "<Figure size 1440x432 with 2 Axes>"
            ]
          },
          "metadata": {}
        }
      ]
    },
    {
      "cell_type": "markdown",
      "source": [
        "2. Secondly, we will analyse misinformations related with climate change quotes.\n",
        "As you may recall, the relevant feature is described in the column *'cardsPredLabel'*.\n",
        "This feature has been extracted using CARDS (Computer-assisted detection and classification of misinformation about climate change) model. This feature has integer values from the range [0,17]. The value 0 refers to quote not being classified as misinformation, while integer values from rage [1-17] refer to different classes of misinformations. For our analysis, we will focus only on question if misinformation exists, and, therefore, we will consider only 2 classes: true quote (i.e. value of 0) and misinformation (i.e. any integer value from range [1-17].<br>\n",
        "So let's start."
      ],
      "metadata": {
        "id": "0nTK70PF6Ncj"
      }
    },
    {
      "cell_type": "code",
      "source": [
        "# Converting feature cardsPredLabel from range [0-17] to indicator value \n",
        "# i.e. the indicator if the quote is misinformation or not\n",
        "df_rep_dem['is_misinformation'] = df_rep_dem.cardsPredLabel != 0\n",
        "\n",
        "# Calculating statistics with regard to political party\n",
        "misinformations =  df_rep_dem[df_rep_dem.is_misinformation].groupby('party_name').count()['quotation']\n",
        "true_quotes =  df_rep_dem[~df_rep_dem.is_misinformation].groupby('party_name').count()['quotation']\n",
        "\n",
        "# Adding total_num feature \n",
        "misinformations = pd.DataFrame({'misinformations': misinformations,\n",
        "                                   'total_num': total_num})\n",
        "true_quotes = pd.DataFrame({'true_quotes': true_quotes,\n",
        "                                   'total_num': total_num\n",
        "                                   })\n",
        "\n",
        "# Calculating ratios\n",
        "misinformations['ratio'] = misinformations.misinformations / misinformations.total_num\n",
        "true_quotes['ratio'] = true_quotes.true_quotes / true_quotes.total_num\n"
      ],
      "metadata": {
        "id": "rSS1sFK8IqJV"
      },
      "execution_count": null,
      "outputs": []
    },
    {
      "cell_type": "markdown",
      "source": [
        "Similarly to sentiment analysis, firstly let's analyse positive, or in this case true quotes."
      ],
      "metadata": {
        "id": "fyquCCADMk6G"
      }
    },
    {
      "cell_type": "code",
      "source": [
        "true_quotes"
      ],
      "metadata": {
        "colab": {
          "base_uri": "https://localhost:8080/",
          "height": 143
        },
        "id": "j3zaTw4vMz01",
        "outputId": "5823c9bb-fd13-4247-d944-568d968bf801"
      },
      "execution_count": null,
      "outputs": [
        {
          "output_type": "execute_result",
          "data": {
            "text/html": [
              "\n",
              "  <div id=\"df-388949b8-d132-45a4-ae6c-e0cb041f6304\">\n",
              "    <div class=\"colab-df-container\">\n",
              "      <div>\n",
              "<style scoped>\n",
              "    .dataframe tbody tr th:only-of-type {\n",
              "        vertical-align: middle;\n",
              "    }\n",
              "\n",
              "    .dataframe tbody tr th {\n",
              "        vertical-align: top;\n",
              "    }\n",
              "\n",
              "    .dataframe thead th {\n",
              "        text-align: right;\n",
              "    }\n",
              "</style>\n",
              "<table border=\"1\" class=\"dataframe\">\n",
              "  <thead>\n",
              "    <tr style=\"text-align: right;\">\n",
              "      <th></th>\n",
              "      <th>true_quotes</th>\n",
              "      <th>total_num</th>\n",
              "      <th>ratio</th>\n",
              "    </tr>\n",
              "    <tr>\n",
              "      <th>party_name</th>\n",
              "      <th></th>\n",
              "      <th></th>\n",
              "      <th></th>\n",
              "    </tr>\n",
              "  </thead>\n",
              "  <tbody>\n",
              "    <tr>\n",
              "      <th>Democratic Party</th>\n",
              "      <td>29448</td>\n",
              "      <td>30599</td>\n",
              "      <td>0.962384</td>\n",
              "    </tr>\n",
              "    <tr>\n",
              "      <th>Republican Party</th>\n",
              "      <td>13977</td>\n",
              "      <td>15967</td>\n",
              "      <td>0.875368</td>\n",
              "    </tr>\n",
              "  </tbody>\n",
              "</table>\n",
              "</div>\n",
              "      <button class=\"colab-df-convert\" onclick=\"convertToInteractive('df-388949b8-d132-45a4-ae6c-e0cb041f6304')\"\n",
              "              title=\"Convert this dataframe to an interactive table.\"\n",
              "              style=\"display:none;\">\n",
              "        \n",
              "  <svg xmlns=\"http://www.w3.org/2000/svg\" height=\"24px\"viewBox=\"0 0 24 24\"\n",
              "       width=\"24px\">\n",
              "    <path d=\"M0 0h24v24H0V0z\" fill=\"none\"/>\n",
              "    <path d=\"M18.56 5.44l.94 2.06.94-2.06 2.06-.94-2.06-.94-.94-2.06-.94 2.06-2.06.94zm-11 1L8.5 8.5l.94-2.06 2.06-.94-2.06-.94L8.5 2.5l-.94 2.06-2.06.94zm10 10l.94 2.06.94-2.06 2.06-.94-2.06-.94-.94-2.06-.94 2.06-2.06.94z\"/><path d=\"M17.41 7.96l-1.37-1.37c-.4-.4-.92-.59-1.43-.59-.52 0-1.04.2-1.43.59L10.3 9.45l-7.72 7.72c-.78.78-.78 2.05 0 2.83L4 21.41c.39.39.9.59 1.41.59.51 0 1.02-.2 1.41-.59l7.78-7.78 2.81-2.81c.8-.78.8-2.07 0-2.86zM5.41 20L4 18.59l7.72-7.72 1.47 1.35L5.41 20z\"/>\n",
              "  </svg>\n",
              "      </button>\n",
              "      \n",
              "  <style>\n",
              "    .colab-df-container {\n",
              "      display:flex;\n",
              "      flex-wrap:wrap;\n",
              "      gap: 12px;\n",
              "    }\n",
              "\n",
              "    .colab-df-convert {\n",
              "      background-color: #E8F0FE;\n",
              "      border: none;\n",
              "      border-radius: 50%;\n",
              "      cursor: pointer;\n",
              "      display: none;\n",
              "      fill: #1967D2;\n",
              "      height: 32px;\n",
              "      padding: 0 0 0 0;\n",
              "      width: 32px;\n",
              "    }\n",
              "\n",
              "    .colab-df-convert:hover {\n",
              "      background-color: #E2EBFA;\n",
              "      box-shadow: 0px 1px 2px rgba(60, 64, 67, 0.3), 0px 1px 3px 1px rgba(60, 64, 67, 0.15);\n",
              "      fill: #174EA6;\n",
              "    }\n",
              "\n",
              "    [theme=dark] .colab-df-convert {\n",
              "      background-color: #3B4455;\n",
              "      fill: #D2E3FC;\n",
              "    }\n",
              "\n",
              "    [theme=dark] .colab-df-convert:hover {\n",
              "      background-color: #434B5C;\n",
              "      box-shadow: 0px 1px 3px 1px rgba(0, 0, 0, 0.15);\n",
              "      filter: drop-shadow(0px 1px 2px rgba(0, 0, 0, 0.3));\n",
              "      fill: #FFFFFF;\n",
              "    }\n",
              "  </style>\n",
              "\n",
              "      <script>\n",
              "        const buttonEl =\n",
              "          document.querySelector('#df-388949b8-d132-45a4-ae6c-e0cb041f6304 button.colab-df-convert');\n",
              "        buttonEl.style.display =\n",
              "          google.colab.kernel.accessAllowed ? 'block' : 'none';\n",
              "\n",
              "        async function convertToInteractive(key) {\n",
              "          const element = document.querySelector('#df-388949b8-d132-45a4-ae6c-e0cb041f6304');\n",
              "          const dataTable =\n",
              "            await google.colab.kernel.invokeFunction('convertToInteractive',\n",
              "                                                     [key], {});\n",
              "          if (!dataTable) return;\n",
              "\n",
              "          const docLinkHtml = 'Like what you see? Visit the ' +\n",
              "            '<a target=\"_blank\" href=https://colab.research.google.com/notebooks/data_table.ipynb>data table notebook</a>'\n",
              "            + ' to learn more about interactive tables.';\n",
              "          element.innerHTML = '';\n",
              "          dataTable['output_type'] = 'display_data';\n",
              "          await google.colab.output.renderOutput(dataTable, element);\n",
              "          const docLink = document.createElement('div');\n",
              "          docLink.innerHTML = docLinkHtml;\n",
              "          element.appendChild(docLink);\n",
              "        }\n",
              "      </script>\n",
              "    </div>\n",
              "  </div>\n",
              "  "
            ],
            "text/plain": [
              "                  true_quotes  total_num     ratio\n",
              "party_name                                        \n",
              "Democratic Party        29448      30599  0.962384\n",
              "Republican Party        13977      15967  0.875368"
            ]
          },
          "metadata": {},
          "execution_count": 20
        }
      ]
    },
    {
      "cell_type": "markdown",
      "source": [
        "In the table we can see that Democrats are dominant over Republicans in every aspect.\n",
        "Based on the values presented in the table, we can see that Democrats are more likely to say true quotes, i.e. quotes which are not misconseption on the topic of climate change.\n",
        "<br>\n",
        "And what about misconseptions?"
      ],
      "metadata": {
        "id": "CE9mjLiMNBgs"
      }
    },
    {
      "cell_type": "code",
      "source": [
        "misinformations"
      ],
      "metadata": {
        "colab": {
          "base_uri": "https://localhost:8080/",
          "height": 143
        },
        "id": "nD8MX08TP9su",
        "outputId": "457091ac-2b76-48d7-ef7a-1923e22308e3"
      },
      "execution_count": null,
      "outputs": [
        {
          "output_type": "execute_result",
          "data": {
            "text/html": [
              "\n",
              "  <div id=\"df-d3d6dff1-2506-4d2e-b65e-cd0189a2dfea\">\n",
              "    <div class=\"colab-df-container\">\n",
              "      <div>\n",
              "<style scoped>\n",
              "    .dataframe tbody tr th:only-of-type {\n",
              "        vertical-align: middle;\n",
              "    }\n",
              "\n",
              "    .dataframe tbody tr th {\n",
              "        vertical-align: top;\n",
              "    }\n",
              "\n",
              "    .dataframe thead th {\n",
              "        text-align: right;\n",
              "    }\n",
              "</style>\n",
              "<table border=\"1\" class=\"dataframe\">\n",
              "  <thead>\n",
              "    <tr style=\"text-align: right;\">\n",
              "      <th></th>\n",
              "      <th>misinformations</th>\n",
              "      <th>total_num</th>\n",
              "      <th>ratio</th>\n",
              "    </tr>\n",
              "    <tr>\n",
              "      <th>party_name</th>\n",
              "      <th></th>\n",
              "      <th></th>\n",
              "      <th></th>\n",
              "    </tr>\n",
              "  </thead>\n",
              "  <tbody>\n",
              "    <tr>\n",
              "      <th>Democratic Party</th>\n",
              "      <td>1151</td>\n",
              "      <td>30599</td>\n",
              "      <td>0.037616</td>\n",
              "    </tr>\n",
              "    <tr>\n",
              "      <th>Republican Party</th>\n",
              "      <td>1990</td>\n",
              "      <td>15967</td>\n",
              "      <td>0.124632</td>\n",
              "    </tr>\n",
              "  </tbody>\n",
              "</table>\n",
              "</div>\n",
              "      <button class=\"colab-df-convert\" onclick=\"convertToInteractive('df-d3d6dff1-2506-4d2e-b65e-cd0189a2dfea')\"\n",
              "              title=\"Convert this dataframe to an interactive table.\"\n",
              "              style=\"display:none;\">\n",
              "        \n",
              "  <svg xmlns=\"http://www.w3.org/2000/svg\" height=\"24px\"viewBox=\"0 0 24 24\"\n",
              "       width=\"24px\">\n",
              "    <path d=\"M0 0h24v24H0V0z\" fill=\"none\"/>\n",
              "    <path d=\"M18.56 5.44l.94 2.06.94-2.06 2.06-.94-2.06-.94-.94-2.06-.94 2.06-2.06.94zm-11 1L8.5 8.5l.94-2.06 2.06-.94-2.06-.94L8.5 2.5l-.94 2.06-2.06.94zm10 10l.94 2.06.94-2.06 2.06-.94-2.06-.94-.94-2.06-.94 2.06-2.06.94z\"/><path d=\"M17.41 7.96l-1.37-1.37c-.4-.4-.92-.59-1.43-.59-.52 0-1.04.2-1.43.59L10.3 9.45l-7.72 7.72c-.78.78-.78 2.05 0 2.83L4 21.41c.39.39.9.59 1.41.59.51 0 1.02-.2 1.41-.59l7.78-7.78 2.81-2.81c.8-.78.8-2.07 0-2.86zM5.41 20L4 18.59l7.72-7.72 1.47 1.35L5.41 20z\"/>\n",
              "  </svg>\n",
              "      </button>\n",
              "      \n",
              "  <style>\n",
              "    .colab-df-container {\n",
              "      display:flex;\n",
              "      flex-wrap:wrap;\n",
              "      gap: 12px;\n",
              "    }\n",
              "\n",
              "    .colab-df-convert {\n",
              "      background-color: #E8F0FE;\n",
              "      border: none;\n",
              "      border-radius: 50%;\n",
              "      cursor: pointer;\n",
              "      display: none;\n",
              "      fill: #1967D2;\n",
              "      height: 32px;\n",
              "      padding: 0 0 0 0;\n",
              "      width: 32px;\n",
              "    }\n",
              "\n",
              "    .colab-df-convert:hover {\n",
              "      background-color: #E2EBFA;\n",
              "      box-shadow: 0px 1px 2px rgba(60, 64, 67, 0.3), 0px 1px 3px 1px rgba(60, 64, 67, 0.15);\n",
              "      fill: #174EA6;\n",
              "    }\n",
              "\n",
              "    [theme=dark] .colab-df-convert {\n",
              "      background-color: #3B4455;\n",
              "      fill: #D2E3FC;\n",
              "    }\n",
              "\n",
              "    [theme=dark] .colab-df-convert:hover {\n",
              "      background-color: #434B5C;\n",
              "      box-shadow: 0px 1px 3px 1px rgba(0, 0, 0, 0.15);\n",
              "      filter: drop-shadow(0px 1px 2px rgba(0, 0, 0, 0.3));\n",
              "      fill: #FFFFFF;\n",
              "    }\n",
              "  </style>\n",
              "\n",
              "      <script>\n",
              "        const buttonEl =\n",
              "          document.querySelector('#df-d3d6dff1-2506-4d2e-b65e-cd0189a2dfea button.colab-df-convert');\n",
              "        buttonEl.style.display =\n",
              "          google.colab.kernel.accessAllowed ? 'block' : 'none';\n",
              "\n",
              "        async function convertToInteractive(key) {\n",
              "          const element = document.querySelector('#df-d3d6dff1-2506-4d2e-b65e-cd0189a2dfea');\n",
              "          const dataTable =\n",
              "            await google.colab.kernel.invokeFunction('convertToInteractive',\n",
              "                                                     [key], {});\n",
              "          if (!dataTable) return;\n",
              "\n",
              "          const docLinkHtml = 'Like what you see? Visit the ' +\n",
              "            '<a target=\"_blank\" href=https://colab.research.google.com/notebooks/data_table.ipynb>data table notebook</a>'\n",
              "            + ' to learn more about interactive tables.';\n",
              "          element.innerHTML = '';\n",
              "          dataTable['output_type'] = 'display_data';\n",
              "          await google.colab.output.renderOutput(dataTable, element);\n",
              "          const docLink = document.createElement('div');\n",
              "          docLink.innerHTML = docLinkHtml;\n",
              "          element.appendChild(docLink);\n",
              "        }\n",
              "      </script>\n",
              "    </div>\n",
              "  </div>\n",
              "  "
            ],
            "text/plain": [
              "                  misinformations  total_num     ratio\n",
              "party_name                                            \n",
              "Democratic Party             1151      30599  0.037616\n",
              "Republican Party             1990      15967  0.124632"
            ]
          },
          "metadata": {},
          "execution_count": 21
        }
      ]
    },
    {
      "cell_type": "markdown",
      "source": [
        "Interesting. Here we can see that Republicas are more likely to say deceiving quotes, or fake-news. \n",
        "<br>\n",
        "\n",
        "So far, regarding sophisticated sentiment analysis, we have noticed that Republicans are more negative and more deceiving. <br> Not a lovely characteristics."
      ],
      "metadata": {
        "id": "cdGgTqsxQEyL"
      }
    },
    {
      "cell_type": "markdown",
      "source": [
        "But wait! Do those sentiment truly describe the politicians attitude? Does the broadcasting services (i.e. media) provides influence also?"
      ],
      "metadata": {
        "id": "Uy9iNzen_hEf"
      }
    },
    {
      "cell_type": "markdown",
      "source": [
        "Let's analyse media-dimension of sentimet:"
      ],
      "metadata": {
        "id": "7U2gTBB0qdIY"
      }
    },
    {
      "cell_type": "code",
      "source": [
        "# Extracting the broadcasting services from array-type column\n",
        "\n",
        "# Removing duplicates if any\n",
        "df_rep_dem.domains = df_rep_dem.domains.apply(np.unique)\n",
        "\n",
        "# Exploding dataset, so that for each domain (media) in list, we have one entry in DataFrame\n",
        "exploded = df_rep_dem.explode(column = 'domains')\n",
        "\n",
        "# Separating data with respect to political party\n",
        "dem  = exploded[exploded.party_name == 'Democratic Party']\n",
        "rep  = exploded[exploded.party_name == 'Republican Party']\n",
        "\n",
        "# Grouping data by media, and calculating statistics\n",
        "dem  = dem.groupby('domains').agg({'sentimentScores': 'mean', 'is_misinformation': 'mean', 'quotation': 'count'})\n",
        "rep  = rep.groupby('domains').agg({'sentimentScores': 'mean', 'is_misinformation': 'mean', 'quotation': 'count'})"
      ],
      "metadata": {
        "id": "XbFmzdVKsJqe"
      },
      "execution_count": null,
      "outputs": []
    },
    {
      "cell_type": "code",
      "source": [
        "# Plotting mean sentiment value of media's quotes with respect to political parties\n",
        "rep.sentimentScores.hist( bins = 35, log= True, label = 'Republicans', alpha = 0.5)\n",
        "dem.sentimentScores.hist( bins = 35, log= True, label = 'Democrats', alpha = 0.5)\n",
        "plt.title('Histogram of media\\'s average sentiment values with respect to political party')\n",
        "plt.xlabel('Mean-sentiment value')\n",
        "plt.ylabel('Number of media services')\n",
        "plt.legend()"
      ],
      "metadata": {
        "colab": {
          "base_uri": "https://localhost:8080/",
          "height": 312
        },
        "id": "_ODFX3uDv9Av",
        "outputId": "00571991-8fed-4da3-9859-86f03d1e7ab7"
      },
      "execution_count": 132,
      "outputs": [
        {
          "output_type": "execute_result",
          "data": {
            "text/plain": [
              "<matplotlib.legend.Legend at 0x7f91076a84d0>"
            ]
          },
          "metadata": {},
          "execution_count": 132
        },
        {
          "output_type": "display_data",
          "data": {
            "image/png": "[encoded data removed]",
            "text/plain": [
              "<Figure size 432x288 with 1 Axes>"
            ]
          },
          "metadata": {
            "needs_background": "light"
          }
        }
      ]
    },
    {
      "cell_type": "markdown",
      "source": [
        "From the plot above, we can conclude that the climate change relate quotes said by Democrats are more likely to be presented by media in positive atmosphere, while the climate change relate quotes said by Republicans are more likely to negatively broadcasted. We can see a little bit of polarisation od the media, so we may conclude that overall sentiment of quote, in addition to speaker-related, contains media-related component as well.\n",
        "\n",
        "So what about misconseptions?"
      ],
      "metadata": {
        "id": "PsP2H2PLEsRJ"
      }
    },
    {
      "cell_type": "code",
      "source": [
        "# Plotting mean value of media's misinformation characteristics with respect to political parties\n",
        "rep.is_misinformation.hist( bins = 35, log= True, label = 'Republicans', alpha = 0.5)\n",
        "dem.is_misinformation.hist( bins = 35, log= True, label = 'Democrats', alpha = 0.5)\n",
        "plt.title('Histogram of media\\'s average misinformation values with respect to political party')\n",
        "plt.xlabel('Mean-misinformation value')\n",
        "plt.ylabel('Number of media services')\n",
        "plt.legend()"
      ],
      "metadata": {
        "colab": {
          "base_uri": "https://localhost:8080/",
          "height": 312
        },
        "id": "po7d6OcPxZPP",
        "outputId": "3d4059b7-b38f-4bd2-b2ba-3997e4f45776"
      },
      "execution_count": 133,
      "outputs": [
        {
          "output_type": "execute_result",
          "data": {
            "text/plain": [
              "<matplotlib.legend.Legend at 0x7f910761d950>"
            ]
          },
          "metadata": {},
          "execution_count": 133
        },
        {
          "output_type": "display_data",
          "data": {
            "image/png": "[encoded data removed]",
            "text/plain": [
              "<Figure size 432x288 with 1 Axes>"
            ]
          },
          "metadata": {
            "needs_background": "light"
          }
        }
      ]
    },
    {
      "cell_type": "markdown",
      "source": [
        "Similarly to previous conclusion, we can see that there is polarization in this context also. Since Republican's quotes, comparing to Democrat's quotes, are more likely to be broadcasted as misinformation, we may also conclude that overall degree of misinformation contains speaker-related and media-related aspects. <br>\n",
        "Since we are not able to determin which of the components, i.e. speaker-related or media-related, is prevailing, we cannot make conclusions regarding sentiment/misinformation part of quotes with respect to political parties."
      ],
      "metadata": {
        "id": "fh8kKeNSFxVO"
      }
    },
    {
      "cell_type": "markdown",
      "source": [
        "### 6. Quantitative analysis on individual politicians"
      ],
      "metadata": {
        "id": "iu4ZcdF8P1jn"
      }
    },
    {
      "cell_type": "markdown",
      "metadata": {
        "id": "8BiHM2UUzXzz"
      },
      "source": [
        "The aforemetioned analysis is with respect to political party as a collective.\n",
        "But what about the individuals from those parties?\n",
        "Let's observe the most talkative ones."
      ]
    },
    {
      "cell_type": "code",
      "metadata": {
        "colab": {
          "base_uri": "https://localhost:8080/",
          "height": 428
        },
        "id": "lxWa4dc_ePfz",
        "outputId": "f9a0fc5e-1dca-4f2c-c393-1bb26e4dc3d5"
      },
      "source": [
        "# Plotting first N speakers with most quotations\n",
        "N=10\n",
        "\n",
        "# Crafting colors for different parties\n",
        "COLORS = {'Republican Party' :'red', \n",
        "           'Democratic Party' : 'blue'}\n",
        "colors = info_by_speaker[:N].party_name.apply(lambda party: COLORS[party])\n",
        "\n",
        "# Plotting first N speakers with most quotations, colored by political party\n",
        "ax = info_by_speaker[:N].quotation.plot.bar(\n",
        "                      title = 'Politicians with most climate change quotations',\n",
        "                      ylabel = 'Number of quotations',\n",
        "                      xlabel = 'Politician',\n",
        "                      color= colors)\n",
        "\n",
        "# Crafting legend for plot\n",
        "legend_elements = [Line2D([0], [0], marker='o', color='w',\n",
        "                          label='Republican party',\n",
        "                          markerfacecolor='red', markersize=15),\n",
        "                   Line2D([0], [0], marker='o', color='w',\n",
        "                          label='Democratic party',\n",
        "                          markerfacecolor='blue', markersize=15)\n",
        "                  ]\n",
        "ax.legend(handles=legend_elements)\n",
        "print()"
      ],
      "execution_count": null,
      "outputs": [
        {
          "output_type": "stream",
          "name": "stdout",
          "text": [
            "\n"
          ]
        },
        {
          "output_type": "display_data",
          "data": {
            "image/png": "[encoded data removed]",
            "text/plain": [
              "<Figure size 432x288 with 1 Axes>"
            ]
          },
          "metadata": {
            "needs_background": "light"
          }
        }
      ]
    },
    {
      "cell_type": "markdown",
      "source": [
        "We can notice here some very important figures of USA political life: Barack Obama, Donald Trump, etc. In addition, through these top 10 speakers, we can induce characteristics which are probably important in soving our problem. Those characteristics are: president, congress memeber, was presidental candidate during his career."
      ],
      "metadata": {
        "id": "05sUGJH3R5T2"
      }
    },
    {
      "cell_type": "markdown",
      "source": [
        "Okay, that's enough of analysing the isolated parameters.\n",
        "We have observed some interesting statistics, but is it relevant to our problem? <br>\n",
        "Recall that our analysis should be based on different political and demographic parameters of speakers. So, let's see which of aforementioned and described parameters really matter. <br>\n",
        "As Bob West would say, 'Linear regression gives us free p-values'. So why would not we utilize this present."
      ],
      "metadata": {
        "id": "OY3ZXqWKJNQG"
      }
    },
    {
      "cell_type": "markdown",
      "metadata": {
        "id": "9YVKmtoa-Vzp"
      },
      "source": [
        "### 7. Regression analysis"
      ]
    },
    {
      "cell_type": "markdown",
      "source": [
        "Since we are using linear regresion for the purpose of descriptive analysis, we do not have to split data into train/test subsets. <br>\n",
        "Let's dig in...\n",
        "\n",
        "NOTE: Again, we are interested only in the quotes of Democrats and Republicans"
      ],
      "metadata": {
        "id": "61-ZTFM5K7bL"
      }
    },
    {
      "cell_type": "code",
      "metadata": {
        "id": "FCaJmavJ-bz8",
        "colab": {
          "base_uri": "https://localhost:8080/",
          "height": 237
        },
        "outputId": "94b270f7-c7bb-4ec5-b8e7-f6daf35f150f"
      },
      "source": [
        "# Extracting relevant columns\n",
        "columns =  ['degree_num', 'age', 'party_name', 'gender_name', 'was_candidate',\n",
        "            'was_in_congres', 'party_count', 'quotation', 'was_president',\n",
        "            'numOccurrences', 'totalNumOccurrences','total_num_quotes']\n",
        "\n",
        "# Preserving only quotes of Democrats and Republicans\n",
        "regression_data = info_by_speaker[(info_by_speaker.party_name == 'Democratic Party')| \\\n",
        "                      (info_by_speaker.party_name == 'Republican Party')][columns]\n",
        "regression_data.head()"
      ],
      "execution_count": 9,
      "outputs": [
        {
          "output_type": "execute_result",
          "data": {
            "text/html": [
              "\n",
              "  <div id=\"df-e52f659c-6186-47b7-a060-02cec224fee4\">\n",
              "    <div class=\"colab-df-container\">\n",
              "      <div>\n",
              "<style scoped>\n",
              "    .dataframe tbody tr th:only-of-type {\n",
              "        vertical-align: middle;\n",
              "    }\n",
              "\n",
              "    .dataframe tbody tr th {\n",
              "        vertical-align: top;\n",
              "    }\n",
              "\n",
              "    .dataframe thead th {\n",
              "        text-align: right;\n",
              "    }\n",
              "</style>\n",
              "<table border=\"1\" class=\"dataframe\">\n",
              "  <thead>\n",
              "    <tr style=\"text-align: right;\">\n",
              "      <th></th>\n",
              "      <th>degree_num</th>\n",
              "      <th>age</th>\n",
              "      <th>party_name</th>\n",
              "      <th>gender_name</th>\n",
              "      <th>was_candidate</th>\n",
              "      <th>was_in_congres</th>\n",
              "      <th>party_count</th>\n",
              "      <th>quotation</th>\n",
              "      <th>was_president</th>\n",
              "      <th>numOccurrences</th>\n",
              "      <th>totalNumOccurrences</th>\n",
              "      <th>total_num_quotes</th>\n",
              "    </tr>\n",
              "    <tr>\n",
              "      <th>speaker</th>\n",
              "      <th></th>\n",
              "      <th></th>\n",
              "      <th></th>\n",
              "      <th></th>\n",
              "      <th></th>\n",
              "      <th></th>\n",
              "      <th></th>\n",
              "      <th></th>\n",
              "      <th></th>\n",
              "      <th></th>\n",
              "      <th></th>\n",
              "      <th></th>\n",
              "    </tr>\n",
              "  </thead>\n",
              "  <tbody>\n",
              "    <tr>\n",
              "      <th>Barack Obama</th>\n",
              "      <td>2</td>\n",
              "      <td>60</td>\n",
              "      <td>Democratic Party</td>\n",
              "      <td>Male</td>\n",
              "      <td>True</td>\n",
              "      <td>True</td>\n",
              "      <td>1</td>\n",
              "      <td>2801</td>\n",
              "      <td>True</td>\n",
              "      <td>19372</td>\n",
              "      <td>358404</td>\n",
              "      <td>83105</td>\n",
              "    </tr>\n",
              "    <tr>\n",
              "      <th>Donald Trump</th>\n",
              "      <td>1</td>\n",
              "      <td>75</td>\n",
              "      <td>Republican Party</td>\n",
              "      <td>Male</td>\n",
              "      <td>True</td>\n",
              "      <td>False</td>\n",
              "      <td>5</td>\n",
              "      <td>2459</td>\n",
              "      <td>True</td>\n",
              "      <td>21832</td>\n",
              "      <td>313392</td>\n",
              "      <td>675898</td>\n",
              "    </tr>\n",
              "    <tr>\n",
              "      <th>Bernie Sanders</th>\n",
              "      <td>1</td>\n",
              "      <td>80</td>\n",
              "      <td>Democratic Party</td>\n",
              "      <td>Male</td>\n",
              "      <td>False</td>\n",
              "      <td>True</td>\n",
              "      <td>5</td>\n",
              "      <td>1540</td>\n",
              "      <td>False</td>\n",
              "      <td>5636</td>\n",
              "      <td>56333</td>\n",
              "      <td>67834</td>\n",
              "    </tr>\n",
              "    <tr>\n",
              "      <th>Jerry Brown</th>\n",
              "      <td>0</td>\n",
              "      <td>83</td>\n",
              "      <td>Democratic Party</td>\n",
              "      <td>Male</td>\n",
              "      <td>False</td>\n",
              "      <td>False</td>\n",
              "      <td>1</td>\n",
              "      <td>1070</td>\n",
              "      <td>False</td>\n",
              "      <td>7386</td>\n",
              "      <td>16402</td>\n",
              "      <td>12443</td>\n",
              "    </tr>\n",
              "    <tr>\n",
              "      <th>Jay Inslee</th>\n",
              "      <td>0</td>\n",
              "      <td>70</td>\n",
              "      <td>Democratic Party</td>\n",
              "      <td>Male</td>\n",
              "      <td>False</td>\n",
              "      <td>True</td>\n",
              "      <td>1</td>\n",
              "      <td>1016</td>\n",
              "      <td>False</td>\n",
              "      <td>4990</td>\n",
              "      <td>4401</td>\n",
              "      <td>10727</td>\n",
              "    </tr>\n",
              "  </tbody>\n",
              "</table>\n",
              "</div>\n",
              "      <button class=\"colab-df-convert\" onclick=\"convertToInteractive('df-e52f659c-6186-47b7-a060-02cec224fee4')\"\n",
              "              title=\"Convert this dataframe to an interactive table.\"\n",
              "              style=\"display:none;\">\n",
              "        \n",
              "  <svg xmlns=\"http://www.w3.org/2000/svg\" height=\"24px\"viewBox=\"0 0 24 24\"\n",
              "       width=\"24px\">\n",
              "    <path d=\"M0 0h24v24H0V0z\" fill=\"none\"/>\n",
              "    <path d=\"M18.56 5.44l.94 2.06.94-2.06 2.06-.94-2.06-.94-.94-2.06-.94 2.06-2.06.94zm-11 1L8.5 8.5l.94-2.06 2.06-.94-2.06-.94L8.5 2.5l-.94 2.06-2.06.94zm10 10l.94 2.06.94-2.06 2.06-.94-2.06-.94-.94-2.06-.94 2.06-2.06.94z\"/><path d=\"M17.41 7.96l-1.37-1.37c-.4-.4-.92-.59-1.43-.59-.52 0-1.04.2-1.43.59L10.3 9.45l-7.72 7.72c-.78.78-.78 2.05 0 2.83L4 21.41c.39.39.9.59 1.41.59.51 0 1.02-.2 1.41-.59l7.78-7.78 2.81-2.81c.8-.78.8-2.07 0-2.86zM5.41 20L4 18.59l7.72-7.72 1.47 1.35L5.41 20z\"/>\n",
              "  </svg>\n",
              "      </button>\n",
              "      \n",
              "  <style>\n",
              "    .colab-df-container {\n",
              "      display:flex;\n",
              "      flex-wrap:wrap;\n",
              "      gap: 12px;\n",
              "    }\n",
              "\n",
              "    .colab-df-convert {\n",
              "      background-color: #E8F0FE;\n",
              "      border: none;\n",
              "      border-radius: 50%;\n",
              "      cursor: pointer;\n",
              "      display: none;\n",
              "      fill: #1967D2;\n",
              "      height: 32px;\n",
              "      padding: 0 0 0 0;\n",
              "      width: 32px;\n",
              "    }\n",
              "\n",
              "    .colab-df-convert:hover {\n",
              "      background-color: #E2EBFA;\n",
              "      box-shadow: 0px 1px 2px rgba(60, 64, 67, 0.3), 0px 1px 3px 1px rgba(60, 64, 67, 0.15);\n",
              "      fill: #174EA6;\n",
              "    }\n",
              "\n",
              "    [theme=dark] .colab-df-convert {\n",
              "      background-color: #3B4455;\n",
              "      fill: #D2E3FC;\n",
              "    }\n",
              "\n",
              "    [theme=dark] .colab-df-convert:hover {\n",
              "      background-color: #434B5C;\n",
              "      box-shadow: 0px 1px 3px 1px rgba(0, 0, 0, 0.15);\n",
              "      filter: drop-shadow(0px 1px 2px rgba(0, 0, 0, 0.3));\n",
              "      fill: #FFFFFF;\n",
              "    }\n",
              "  </style>\n",
              "\n",
              "      <script>\n",
              "        const buttonEl =\n",
              "          document.querySelector('#df-e52f659c-6186-47b7-a060-02cec224fee4 button.colab-df-convert');\n",
              "        buttonEl.style.display =\n",
              "          google.colab.kernel.accessAllowed ? 'block' : 'none';\n",
              "\n",
              "        async function convertToInteractive(key) {\n",
              "          const element = document.querySelector('#df-e52f659c-6186-47b7-a060-02cec224fee4');\n",
              "          const dataTable =\n",
              "            await google.colab.kernel.invokeFunction('convertToInteractive',\n",
              "                                                     [key], {});\n",
              "          if (!dataTable) return;\n",
              "\n",
              "          const docLinkHtml = 'Like what you see? Visit the ' +\n",
              "            '<a target=\"_blank\" href=https://colab.research.google.com/notebooks/data_table.ipynb>data table notebook</a>'\n",
              "            + ' to learn more about interactive tables.';\n",
              "          element.innerHTML = '';\n",
              "          dataTable['output_type'] = 'display_data';\n",
              "          await google.colab.output.renderOutput(dataTable, element);\n",
              "          const docLink = document.createElement('div');\n",
              "          docLink.innerHTML = docLinkHtml;\n",
              "          element.appendChild(docLink);\n",
              "        }\n",
              "      </script>\n",
              "    </div>\n",
              "  </div>\n",
              "  "
            ],
            "text/plain": [
              "                degree_num  age  ... totalNumOccurrences total_num_quotes\n",
              "speaker                          ...                                     \n",
              "Barack Obama             2   60  ...              358404            83105\n",
              "Donald Trump             1   75  ...              313392           675898\n",
              "Bernie Sanders           1   80  ...               56333            67834\n",
              "Jerry Brown              0   83  ...               16402            12443\n",
              "Jay Inslee               0   70  ...                4401            10727\n",
              "\n",
              "[5 rows x 12 columns]"
            ]
          },
          "metadata": {},
          "execution_count": 9
        }
      ]
    },
    {
      "cell_type": "markdown",
      "source": [
        "Now when we have extracted relevant columns, let's extract features and outcomes. <br>\n",
        "We want to see how much of an impact the given parameters have on the number of climate change related qutoes said by the speaker. So, our outcome will be number of climate change realted quotes, and, therefore, features will be all other columns specified in the cell above."
      ],
      "metadata": {
        "id": "T6Ebb7UKL1fv"
      }
    },
    {
      "cell_type": "code",
      "metadata": {
        "colab": {
          "base_uri": "https://localhost:8080/"
        },
        "id": "UuWY0rM5FLGn",
        "outputId": "e52175c4-38a1-482a-8b9c-ed8c78e1a76a"
      },
      "source": [
        "# Extract features\n",
        "# Features array\n",
        "features =  ['degree_num', 'age', 'party_name', 'gender_name', \n",
        "             'was_candidate', 'was_in_congres', 'party_count', 'was_president',\n",
        "             'numOccurrences', 'totalNumOccurrences','total_num_quotes']\n",
        "# Fit and summarize OLS model.\n",
        "formula = 'quotation ~ ' + '+'.join(features)\n",
        "mod = smf.ols(formula= formula, data = regression_data)\n",
        "res = mod.fit()\n",
        "print(res.summary())"
      ],
      "execution_count": 10,
      "outputs": [
        {
          "output_type": "stream",
          "name": "stdout",
          "text": [
            "                            OLS Regression Results                            \n",
            "==============================================================================\n",
            "Dep. Variable:              quotation   R-squared:                       0.949\n",
            "Model:                            OLS   Adj. R-squared:                  0.949\n",
            "Method:                 Least Squares   F-statistic:                     4929.\n",
            "Date:                Fri, 17 Dec 2021   Prob (F-statistic):               0.00\n",
            "Time:                        17:54:01   Log-Likelihood:                -13979.\n",
            "No. Observations:                3167   AIC:                         2.798e+04\n",
            "Df Residuals:                    3154   BIC:                         2.806e+04\n",
            "Df Model:                          12                                         \n",
            "Covariance Type:            nonrobust                                         \n",
            "=====================================================================================================\n",
            "                                        coef    std err          t      P>|t|      [0.025      0.975]\n",
            "-----------------------------------------------------------------------------------------------------\n",
            "Intercept                           -20.2614      3.060     -6.622      0.000     -26.261     -14.262\n",
            "party_name[T.Republican Party]       -3.9679      0.734     -5.406      0.000      -5.407      -2.529\n",
            "gender_name[T.Male]                   1.2639      0.885      1.429      0.153      -0.471       2.998\n",
            "gender_name[T.Transgender female]     3.7035     11.620      0.319      0.750     -19.080      26.487\n",
            "was_candidate[T.True]                 5.5953      2.323      2.409      0.016       1.041      10.149\n",
            "was_in_congres[T.True]                6.8878      0.835      8.251      0.000       5.251       8.525\n",
            "was_president[T.True]              -882.1337     35.320    -24.976      0.000    -951.386    -812.881\n",
            "degree_num                           14.8775      1.616      9.208      0.000      11.710      18.045\n",
            "age                                  -0.0306      0.027     -1.151      0.250      -0.083       0.021\n",
            "party_count                          25.9043      2.569     10.082      0.000      20.866      30.942\n",
            "numOccurrences                        0.1794      0.001    135.605      0.000       0.177       0.182\n",
            "totalNumOccurrences                   0.0004   8.72e-05      4.377      0.000       0.000       0.001\n",
            "total_num_quotes                     -0.0010   4.77e-05    -21.944      0.000      -0.001      -0.001\n",
            "==============================================================================\n",
            "Omnibus:                     2529.379   Durbin-Watson:                   2.026\n",
            "Prob(Omnibus):                  0.000   Jarque-Bera (JB):          2639467.474\n",
            "Skew:                           2.466   Prob(JB):                         0.00\n",
            "Kurtosis:                     144.343   Cond. No.                     1.49e+06\n",
            "==============================================================================\n",
            "\n",
            "Warnings:\n",
            "[1] Standard Errors assume that the covariance matrix of the errors is correctly specified.\n",
            "[2] The condition number is large, 1.49e+06. This might indicate that there are\n",
            "strong multicollinearity or other numerical problems.\n"
          ]
        }
      ]
    },
    {
      "cell_type": "markdown",
      "source": [
        "Wow, look at these. <br>\n",
        "Based on the result we can conclude:\n",
        "- Features *age* and *gender* have p-values bigger than 0.05, and therefore do not have significant influence on outcome, i.e. on the number of quotations regarding climate change. <br>\n",
        "- Political features (*was_candidate, was_in_congres, was_president, party_count, party_name*) have significant impact on outcome.\n",
        "- Feature *degree_num* have significant impact on outcome.\n",
        "- Features *numOccurrences, totalNumOccurrences, total_num_quotes*, which are more media related, have significant impact on outcome.\n",
        "\n",
        "Note the R<sup>2</sup> coefficient, it is 0.949, which means that we have explained most of the variance. But this observation is not of a importance if residuals are not zero-centered. Let's check that.\n"
      ],
      "metadata": {
        "id": "Y2N20g2mMqhH"
      }
    },
    {
      "cell_type": "code",
      "metadata": {
        "colab": {
          "base_uri": "https://localhost:8080/",
          "height": 282
        },
        "id": "c1KhM3sHIJoW",
        "outputId": "18de4ff7-2316-4982-b52e-e0137c24bd5a"
      },
      "source": [
        "predictions = res.predict(regression_data[features])\n",
        "residuals = regression_data.quotation - predictions\n",
        "plt.hist(residuals.values, bins = 1000, log=True)\n",
        "print()"
      ],
      "execution_count": 11,
      "outputs": [
        {
          "output_type": "stream",
          "name": "stdout",
          "text": [
            "\n"
          ]
        },
        {
          "output_type": "display_data",
          "data": {
            "image/png": "[encoded data removed]",
            "text/plain": [
              "<Figure size 432x288 with 1 Axes>"
            ]
          },
          "metadata": {
            "needs_background": "light"
          }
        }
      ]
    },
    {
      "cell_type": "markdown",
      "source": [
        "Since residuals are zero centered, we can conclude that R<sup>2</sup> measure is relevant. <br>"
      ],
      "metadata": {
        "id": "9pOC-B-lQ18i"
      }
    },
    {
      "cell_type": "markdown",
      "metadata": {
        "id": "09v8gI3rDuyl"
      },
      "source": [
        "### 8. Timeline analysis"
      ]
    },
    {
      "cell_type": "markdown",
      "source": [
        "Another interesting question we wanted to give answer to is which politicians are prone to fast forget issues related to our topic. <br> For this type of analysis, we will consider only politicians with most quotes about climate change (Barack Obama, Bernie Sanders, Donald Trump, etc.), since they are the most representative individuals."
      ],
      "metadata": {
        "id": "fY1bBg2XWemX"
      }
    },
    {
      "cell_type": "markdown",
      "source": [
        "Firtsly, let's consider former presidents, Barack Obama and Donald Trump."
      ],
      "metadata": {
        "id": "TftdZ1lU8aoD"
      }
    },
    {
      "cell_type": "code",
      "source": [
        "# Adding feature of total number of general quotes by months of speaker\n",
        "# This is reflected in column 'num_of_quotes'\n",
        "df_added_total_num = pd.merge(left= df_quotes, left_on=['qids','date'], right = df_counts, right_on=['qids','date'])"
      ],
      "metadata": {
        "id": "dH5F-NWzC_Bk"
      },
      "execution_count": 8,
      "outputs": []
    },
    {
      "cell_type": "code",
      "metadata": {
        "colab": {
          "base_uri": "https://localhost:8080/",
          "height": 436
        },
        "id": "EXR-1EqDLrhi",
        "outputId": "cdbff0be-0a3b-49cc-cd54-29e324424a2c"
      },
      "source": [
        "quotes = timeline_analysis_for_politician('Barack Obama',  bins = 50 ,sentiment_analysis=False, data = df_added_total_num)"
      ],
      "execution_count": 11,
      "outputs": [
        {
          "output_type": "display_data",
          "data": {
            "image/png": "[encoded data removed]",
            "text/plain": [
              "<Figure size 1440x432 with 1 Axes>"
            ]
          },
          "metadata": {
            "needs_background": "light"
          }
        }
      ]
    },
    {
      "cell_type": "code",
      "source": [
        "quotes = timeline_analysis_for_politician('Donald Trump',  bins = 50 ,sentiment_analysis=False, data = df_added_total_num)"
      ],
      "metadata": {
        "colab": {
          "base_uri": "https://localhost:8080/",
          "height": 436
        },
        "id": "mBa1BdgxCqts",
        "outputId": "13097b1a-24d7-4c6a-ef97-0eb6149f7ebc"
      },
      "execution_count": 15,
      "outputs": [
        {
          "output_type": "display_data",
          "data": {
            "image/png": "[encoded data removed]",
            "text/plain": [
              "<Figure size 1440x432 with 1 Axes>"
            ]
          },
          "metadata": {
            "needs_background": "light"
          }
        }
      ]
    },
    {
      "cell_type": "markdown",
      "source": [
        "Note another interesting thing here. Note that Barack Obama said the most of his climate change related quotes in the period before the year 2017, while Donald Trump became more cited in the year 2017 and onwards. As you probably know, 2016-2017 is the period of changes in which Barack Obama finished his carrer as US president, and Donald Trump began his. Could this be a confounder, i.e. Barack Obama did not forget about the climate change issues, rather he became irrelevant after the end of his career (and vice-versa for Donald Trump)? Recall that in linear regression analysis, we noted importance of media relevat features. <br>\n",
        "\n",
        "Let's take another speakers, important figures but who were not elected as US presidents during their careers. Ideal one are Bernie Sanders and Hillary Clinton."
      ],
      "metadata": {
        "id": "93nraseIZDKm"
      }
    },
    {
      "cell_type": "code",
      "source": [
        "quotes = timeline_analysis_for_politician('Bernie Sanders',bins = 50 ,sentiment_analysis=False, log_flag=False, data = df_added_total_num)"
      ],
      "metadata": {
        "colab": {
          "base_uri": "https://localhost:8080/",
          "height": 436
        },
        "id": "w1t99XXxESmN",
        "outputId": "25d299a6-1947-4ecb-9276-b2f8333e24d3"
      },
      "execution_count": 17,
      "outputs": [
        {
          "output_type": "display_data",
          "data": {
            "image/png": "[encoded data removed]",
            "text/plain": [
              "<Figure size 1440x432 with 1 Axes>"
            ]
          },
          "metadata": {
            "needs_background": "light"
          }
        }
      ]
    },
    {
      "cell_type": "markdown",
      "source": [
        "Bernie Sanders mostly talked about issue of climate change in two periods: end of the year 2015 and end of the year 2019. Those are the periods of his presidential campaigns. But did he magically become more aware of climate change problems during this periods? Or is there another explanation? <br>\n",
        "Let's see the situation in case of Hillary Clinton."
      ],
      "metadata": {
        "id": "OQwf9eKMcRMm"
      }
    },
    {
      "cell_type": "code",
      "source": [
        "quotes = timeline_analysis_for_politician('Hillary Clinton',bins = 50 , sentiment_analysis=False, log_flag=False, data = df_added_total_num)"
      ],
      "metadata": {
        "colab": {
          "base_uri": "https://localhost:8080/",
          "height": 436
        },
        "id": "mEYEh-IaEnt2",
        "outputId": "6918057b-dd0a-4eaf-c0a1-9157baf25019"
      },
      "execution_count": null,
      "outputs": [
        {
          "output_type": "display_data",
          "data": {
            "image/png": "[encoded data removed]",
            "text/plain": [
              "<Figure size 1440x432 with 1 Axes>"
            ]
          },
          "metadata": {
            "needs_background": "light"
          }
        }
      ]
    },
    {
      "cell_type": "markdown",
      "source": [
        "Interesting, trend of awareness of climate change problems is also emphasized here in the period of political campaigns.\n"
      ],
      "metadata": {
        "id": "-WgaDeVclHiH"
      }
    },
    {
      "cell_type": "markdown",
      "source": [
        "\n",
        "So, now we became more suspicious in the fact that politicians abuse this global issue, so they could gain on a popularity needed in the elections process.\n"
      ],
      "metadata": {
        "id": "bfey0aUeoeFm"
      }
    },
    {
      "cell_type": "markdown",
      "source": [
        "Our assumption is that during the period of the political campaigns (treatment), politicians rise awareness of climate change issue, i.e. they have more quotes regarding climate change (outcome).\n",
        "\n",
        "How could we test this? Well, simply we will observe number of quotes speaker had in the periods of time when campaings were active and inactive. In order to solve the problem of potential confounder, we will have to perform matching.\n",
        "And, this is the most interesting part, we will match speaker with...himself! Perfect match! <br> So, we will observe how many quotes speaker had in period without campaigns (i.e. without treatment), and in the period of campaings (i.e. with treatment). \n",
        "\n",
        "Based on the informations provided in the [article](https://www.thoughtco.com/when-the-race-for-president-begins-3367552), we will use as campaing period the period of year and a half before the elections."
      ],
      "metadata": {
        "id": "NrQdKaofponN"
      }
    },
    {
      "cell_type": "code",
      "source": [
        "# Note that for the end of the period, we will add more days, because tensions are visible even weeks after the elections\n",
        "# and, therefore, quotes during the tension-period should also be considered as treated\n",
        "PERIOD_1 = [datetime.date(2015, 4, 1) , datetime.date(2016, 12, 1)]\n",
        "PERIOD_2 = [datetime.date(2019, 4, 1),  datetime.date(2020, 12, 1)]\n",
        "\n",
        "\n",
        "# Add indicator if quote was said during the campaign period\n",
        "df_quotes['treated'] = df_quotes.date.apply(lambda date_: (PERIOD_1[0] <= date_ <= PERIOD_1[1]) | (PERIOD_2[0] <= date_ <= PERIOD_2[1]))\n",
        "\n",
        "# Separate data by treatment indicator\n",
        "treated = df_quotes[df_quotes.treated].groupby('qids').count()['quotation']\n",
        "control = df_quotes[~df_quotes.treated].groupby('qids').count()['quotation']\n",
        "\n",
        "# Perform matching\n",
        "matched = pd.DataFrame({'treated': treated, 'control':control})\n",
        "matched"
      ],
      "metadata": {
        "colab": {
          "base_uri": "https://localhost:8080/",
          "height": 423
        },
        "id": "woSUolTerTDU",
        "outputId": "e18577d8-29e2-4d72-9786-fa74a1ef4589"
      },
      "execution_count": 135,
      "outputs": [
        {
          "output_type": "execute_result",
          "data": {
            "text/html": [
              "\n",
              "  <div id=\"df-828ffeaf-f8c1-4c9e-9cc5-9df25bf1ed15\">\n",
              "    <div class=\"colab-df-container\">\n",
              "      <div>\n",
              "<style scoped>\n",
              "    .dataframe tbody tr th:only-of-type {\n",
              "        vertical-align: middle;\n",
              "    }\n",
              "\n",
              "    .dataframe tbody tr th {\n",
              "        vertical-align: top;\n",
              "    }\n",
              "\n",
              "    .dataframe thead th {\n",
              "        text-align: right;\n",
              "    }\n",
              "</style>\n",
              "<table border=\"1\" class=\"dataframe\">\n",
              "  <thead>\n",
              "    <tr style=\"text-align: right;\">\n",
              "      <th></th>\n",
              "      <th>treated</th>\n",
              "      <th>control</th>\n",
              "    </tr>\n",
              "  </thead>\n",
              "  <tbody>\n",
              "    <tr>\n",
              "      <th>Q1026119</th>\n",
              "      <td>1.0</td>\n",
              "      <td>NaN</td>\n",
              "    </tr>\n",
              "    <tr>\n",
              "      <th>Q1027026</th>\n",
              "      <td>5.0</td>\n",
              "      <td>2.0</td>\n",
              "    </tr>\n",
              "    <tr>\n",
              "      <th>Q1027431</th>\n",
              "      <td>6.0</td>\n",
              "      <td>7.0</td>\n",
              "    </tr>\n",
              "    <tr>\n",
              "      <th>Q1029527</th>\n",
              "      <td>2.0</td>\n",
              "      <td>4.0</td>\n",
              "    </tr>\n",
              "    <tr>\n",
              "      <th>Q10327963</th>\n",
              "      <td>2.0</td>\n",
              "      <td>2.0</td>\n",
              "    </tr>\n",
              "    <tr>\n",
              "      <th>...</th>\n",
              "      <td>...</td>\n",
              "      <td>...</td>\n",
              "    </tr>\n",
              "    <tr>\n",
              "      <th>Q984010</th>\n",
              "      <td>9.0</td>\n",
              "      <td>3.0</td>\n",
              "    </tr>\n",
              "    <tr>\n",
              "      <th>Q984183</th>\n",
              "      <td>6.0</td>\n",
              "      <td>NaN</td>\n",
              "    </tr>\n",
              "    <tr>\n",
              "      <th>Q984205</th>\n",
              "      <td>8.0</td>\n",
              "      <td>12.0</td>\n",
              "    </tr>\n",
              "    <tr>\n",
              "      <th>Q984509</th>\n",
              "      <td>3.0</td>\n",
              "      <td>5.0</td>\n",
              "    </tr>\n",
              "    <tr>\n",
              "      <th>Q991746</th>\n",
              "      <td>1.0</td>\n",
              "      <td>NaN</td>\n",
              "    </tr>\n",
              "  </tbody>\n",
              "</table>\n",
              "<p>3175 rows × 2 columns</p>\n",
              "</div>\n",
              "      <button class=\"colab-df-convert\" onclick=\"convertToInteractive('df-828ffeaf-f8c1-4c9e-9cc5-9df25bf1ed15')\"\n",
              "              title=\"Convert this dataframe to an interactive table.\"\n",
              "              style=\"display:none;\">\n",
              "        \n",
              "  <svg xmlns=\"http://www.w3.org/2000/svg\" height=\"24px\"viewBox=\"0 0 24 24\"\n",
              "       width=\"24px\">\n",
              "    <path d=\"M0 0h24v24H0V0z\" fill=\"none\"/>\n",
              "    <path d=\"M18.56 5.44l.94 2.06.94-2.06 2.06-.94-2.06-.94-.94-2.06-.94 2.06-2.06.94zm-11 1L8.5 8.5l.94-2.06 2.06-.94-2.06-.94L8.5 2.5l-.94 2.06-2.06.94zm10 10l.94 2.06.94-2.06 2.06-.94-2.06-.94-.94-2.06-.94 2.06-2.06.94z\"/><path d=\"M17.41 7.96l-1.37-1.37c-.4-.4-.92-.59-1.43-.59-.52 0-1.04.2-1.43.59L10.3 9.45l-7.72 7.72c-.78.78-.78 2.05 0 2.83L4 21.41c.39.39.9.59 1.41.59.51 0 1.02-.2 1.41-.59l7.78-7.78 2.81-2.81c.8-.78.8-2.07 0-2.86zM5.41 20L4 18.59l7.72-7.72 1.47 1.35L5.41 20z\"/>\n",
              "  </svg>\n",
              "      </button>\n",
              "      \n",
              "  <style>\n",
              "    .colab-df-container {\n",
              "      display:flex;\n",
              "      flex-wrap:wrap;\n",
              "      gap: 12px;\n",
              "    }\n",
              "\n",
              "    .colab-df-convert {\n",
              "      background-color: #E8F0FE;\n",
              "      border: none;\n",
              "      border-radius: 50%;\n",
              "      cursor: pointer;\n",
              "      display: none;\n",
              "      fill: #1967D2;\n",
              "      height: 32px;\n",
              "      padding: 0 0 0 0;\n",
              "      width: 32px;\n",
              "    }\n",
              "\n",
              "    .colab-df-convert:hover {\n",
              "      background-color: #E2EBFA;\n",
              "      box-shadow: 0px 1px 2px rgba(60, 64, 67, 0.3), 0px 1px 3px 1px rgba(60, 64, 67, 0.15);\n",
              "      fill: #174EA6;\n",
              "    }\n",
              "\n",
              "    [theme=dark] .colab-df-convert {\n",
              "      background-color: #3B4455;\n",
              "      fill: #D2E3FC;\n",
              "    }\n",
              "\n",
              "    [theme=dark] .colab-df-convert:hover {\n",
              "      background-color: #434B5C;\n",
              "      box-shadow: 0px 1px 3px 1px rgba(0, 0, 0, 0.15);\n",
              "      filter: drop-shadow(0px 1px 2px rgba(0, 0, 0, 0.3));\n",
              "      fill: #FFFFFF;\n",
              "    }\n",
              "  </style>\n",
              "\n",
              "      <script>\n",
              "        const buttonEl =\n",
              "          document.querySelector('#df-828ffeaf-f8c1-4c9e-9cc5-9df25bf1ed15 button.colab-df-convert');\n",
              "        buttonEl.style.display =\n",
              "          google.colab.kernel.accessAllowed ? 'block' : 'none';\n",
              "\n",
              "        async function convertToInteractive(key) {\n",
              "          const element = document.querySelector('#df-828ffeaf-f8c1-4c9e-9cc5-9df25bf1ed15');\n",
              "          const dataTable =\n",
              "            await google.colab.kernel.invokeFunction('convertToInteractive',\n",
              "                                                     [key], {});\n",
              "          if (!dataTable) return;\n",
              "\n",
              "          const docLinkHtml = 'Like what you see? Visit the ' +\n",
              "            '<a target=\"_blank\" href=https://colab.research.google.com/notebooks/data_table.ipynb>data table notebook</a>'\n",
              "            + ' to learn more about interactive tables.';\n",
              "          element.innerHTML = '';\n",
              "          dataTable['output_type'] = 'display_data';\n",
              "          await google.colab.output.renderOutput(dataTable, element);\n",
              "          const docLink = document.createElement('div');\n",
              "          docLink.innerHTML = docLinkHtml;\n",
              "          element.appendChild(docLink);\n",
              "        }\n",
              "      </script>\n",
              "    </div>\n",
              "  </div>\n",
              "  "
            ],
            "text/plain": [
              "           treated  control\n",
              "Q1026119       1.0      NaN\n",
              "Q1027026       5.0      2.0\n",
              "Q1027431       6.0      7.0\n",
              "Q1029527       2.0      4.0\n",
              "Q10327963      2.0      2.0\n",
              "...            ...      ...\n",
              "Q984010        9.0      3.0\n",
              "Q984183        6.0      NaN\n",
              "Q984205        8.0     12.0\n",
              "Q984509        3.0      5.0\n",
              "Q991746        1.0      NaN\n",
              "\n",
              "[3175 rows x 2 columns]"
            ]
          },
          "metadata": {},
          "execution_count": 135
        }
      ]
    },
    {
      "cell_type": "markdown",
      "source": [
        "But note that some of the speaker are not matched, i.e. they did not have any climate change related quote in one of the groups (treated or control).\n",
        "Let's filter them out, and look at the distributions."
      ],
      "metadata": {
        "id": "f9zRJWeZvU4Q"
      }
    },
    {
      "cell_type": "code",
      "source": [
        "# Filtering unmatched\n",
        "matched = matched.dropna()\n",
        "\n",
        "# Histrograms\n",
        "fig = plt.figure(figsize = (10,6))\n",
        "matched.treated.hist(bins = 100, label = 'Campaign period', alpha = 0.75, cumulative=-1)\n",
        "matched.control.hist(bins = 100, label = 'Non-campaign period', alpha = 0.75, cumulative=-1)\n",
        "plt.xlabel('Number of climate change related quotes by speaker')\n",
        "plt.ylabel('Speaker count')\n",
        "plt.title('Histogram  of climate change related quotes in (non)campaign periods')\n",
        "plt.loglog(True)\n",
        "plt.legend()\n",
        "print()"
      ],
      "metadata": {
        "colab": {
          "base_uri": "https://localhost:8080/",
          "height": 425
        },
        "id": "OJ9dpzlCvrEC",
        "outputId": "e49fa735-c790-4a6a-c059-cc21140e371f"
      },
      "execution_count": 137,
      "outputs": [
        {
          "output_type": "stream",
          "name": "stdout",
          "text": [
            "\n"
          ]
        },
        {
          "output_type": "display_data",
          "data": {
            "image/png": "[encoded data removed]",
            "text/plain": [
              "<Figure size 720x432 with 1 Axes>"
            ]
          },
          "metadata": {
            "needs_background": "light"
          }
        }
      ]
    },
    {
      "cell_type": "markdown",
      "source": [
        "Since this CCDF graph is close to linear on loglog scale, we can conclude that underlying distributioin is sort of a power-law. <br>\n",
        "We can see that distribution of the treated group is slightly shifted, so it could express a tendency in quoting climate change issues during the period of political campaigns. <br>\n",
        "But is it common to all politicians, or only specific for some political parties? Let's test it with respect to political party."
      ],
      "metadata": {
        "id": "8mSH-oahoXIa"
      }
    },
    {
      "cell_type": "code",
      "source": [
        "fig, ax = plt.subplots(1,2, figsize= (20,5))\n",
        "party = ['Democratic Party', 'Republican Party']\n",
        "for i in range(2) :\n",
        "  # Extract quotes for party\n",
        "  df_party = df_quotes[df_quotes.party_name==party[i]]\n",
        "\n",
        "  # Separate data by treatment indicator\n",
        "  treated_party = df_party[df_party.treated].groupby('qids').count()['quotation']\n",
        "  control_party = df_party[~df_party.treated].groupby('qids').count()['quotation']\n",
        "\n",
        "  # Perform matching\n",
        "  matched = pd.DataFrame({'treated': treated_party, 'control':control_party})\n",
        "\n",
        "  # Filtering unmatched\n",
        "  matched = matched.dropna()\n",
        "\n",
        "  # Histrograms\n",
        "  ax[i].hist(matched.treated, label = 'Campaign period', bins = 100,  alpha = 0.75, cumulative=-1)\n",
        "  ax[i].hist(matched.control, label = 'Non-campaign period', bins = 100,  alpha = 0.75, cumulative=-1)\n",
        "  # matched.control.hist(bins = 100, label = 'Control', alpha = 0.75, cumulative=-1)\n",
        "  ax[i].set_xlabel('Number of climate change quotes by speaker')\n",
        "  ax[i].set_ylabel('Speaker count')\n",
        "  ax[i].set_title('Histogram of climate change related quotes in (non)campaign periods - %s'%party[i])\n",
        "  ax[i].loglog(True)\n",
        "  ax[i].legend()\n",
        "  print()"
      ],
      "metadata": {
        "colab": {
          "base_uri": "https://localhost:8080/",
          "height": 387
        },
        "id": "9uM6Cp2aWGRF",
        "outputId": "77dc3c2b-90dd-4026-eeca-f453f5688a84"
      },
      "execution_count": 138,
      "outputs": [
        {
          "output_type": "stream",
          "name": "stdout",
          "text": [
            "\n",
            "\n"
          ]
        },
        {
          "output_type": "display_data",
          "data": {
            "image/png": "[encoded data removed]",
            "text/plain": [
              "<Figure size 1440x360 with 2 Axes>"
            ]
          },
          "metadata": {
            "needs_background": "light"
          }
        }
      ]
    },
    {
      "cell_type": "markdown",
      "source": [
        "Wow, interesting.\n",
        "So, Democrats are more prone to inhance usage of climate change topic in their political campaigns. Shifty, shifty..."
      ],
      "metadata": {
        "id": "hr4LtTA2sdie"
      }
    },
    {
      "cell_type": "markdown",
      "source": [
        "# 4. Helper functions"
      ],
      "metadata": {
        "id": "oxu3HG3yzJbj"
      }
    },
    {
      "cell_type": "code",
      "source": [
        "# Plotting number of quotes by party\n",
        "# Pie chart\n",
        "def pie_chart(labels , titles, data, columns, explode= (0, 0.1), colors = ['b','r']):\n",
        "  '''\n",
        "  Plots pie chart on gived data.\n",
        "\n",
        "  Parameters\n",
        "  ----------\n",
        "  labels : array-like structure of labels\n",
        "  values : array-like structure of values\n",
        "  ax1 : subplot\n",
        "  explode : graphical parameter for exploding the pie chart\n",
        "  titles : array-like structure of plot titles\n",
        "  data: pd.DataFrame\n",
        "  colors : array-like structure of color names\n",
        "  columns: array-like structure of column names\n",
        "\n",
        "  Returns\n",
        "  -------\n",
        "  None\n",
        "  '''\n",
        "  fig1, ax1 = plt.subplots(1,len(titles),figsize=(20,6))\n",
        "  # Plotting data\n",
        "  \n",
        "  for i in range(len(titles)):\n",
        "    values=data[columns[i]]\n",
        "    sizes = values *100 / values.sum()\n",
        "    ax1[i].pie(sizes, \n",
        "            explode=explode,\n",
        "            labels=None,\n",
        "            autopct='%1.2f%%',\n",
        "            colors=colors,\n",
        "            shadow=True,\n",
        "            startangle=90)\n",
        "    # Equal aspect ratio ensures that pie is drawn as a circle.\n",
        "    ax1[i].axis('equal') \n",
        "    ax1[i].legend(labels=labels, loc='best')\n",
        "    ax1[i].title.set_text(titles[i])\n",
        "    print()"
      ],
      "metadata": {
        "id": "UGHr3GWjzMm6"
      },
      "execution_count": 9,
      "outputs": []
    },
    {
      "cell_type": "code",
      "metadata": {
        "id": "uv1hfLJmD2bY"
      },
      "source": [
        "def timeline_analysis_for_politician(name, log_flag = False, bins= 40,sentiment_analysis= 1, ratio_flag = False , bymonth=(1,2,3,4,5,6,7,8,9,10,11,12), data=df_quotes):\n",
        "    '''\n",
        "    Extracts quotes from given speaker, and plots distribution\n",
        "    with respect to quotation's time\n",
        "\n",
        "    Parameters\n",
        "    ----------\n",
        "    name: String\n",
        "      Name of the speaker\n",
        "    log_flag: boolean\n",
        "      Idicator if plot should be log\n",
        "    axes_modifier: int\n",
        "      Number of bins\n",
        "\n",
        "    Returns\n",
        "    -------\n",
        "    pd.DataFrame\n",
        "      Extracted quotations of given speaker\n",
        "      \n",
        "    '''\n",
        "\n",
        "    # Extracting politician's quotes\n",
        "    quotes = data[data.speaker == name]\n",
        "\n",
        "    # Creating title for the plot\n",
        "    title = 'Distribution of quotations in time for the %s' % name\n",
        "\n",
        "    # Creating x-axis\n",
        "    \n",
        "    date_ticks = quotes.date.sort_values().unique()\n",
        "    mpl_data = mdates.date2num(date_ticks)\n",
        "\n",
        "    # Plotting timeline histogram of his quotations\n",
        "    fig, ax = plt.subplots(1,1, figsize = (20,6))\n",
        "\n",
        "    ylabel='Number of quotations'\n",
        "    cnt_by_date= quotes\n",
        "\n",
        "    if sentiment_analysis == 1:\n",
        "\n",
        "      positive_quotes = quotes[quotes.sentimentScores >= 0]\n",
        "      negative_quotes = quotes[quotes.sentimentScores < 0]\n",
        "\n",
        "      positive_percentage = positive_quotes.shape[0] * 100 / quotes.shape[0]\n",
        "      negative_percentage = negative_quotes.shape[0] * 100 / quotes.shape[0]\n",
        "      labels =  ['Positive quotes: %.2lf%%' % positive_percentage , 'Negative quotes: %.2lf%%' % negative_percentage]\n",
        "      ax.hist([positive_quotes.date, negative_quotes.date], bins= bins, log=log_flag, label=labels, stacked=True)\n",
        "      plt.legend()\n",
        "\n",
        "    elif sentiment_analysis == 2:\n",
        "      misinformations = quotes[quotes.cardsPredLabel > 0]\n",
        "      truth_informations = quotes[quotes.cardsPredLabel == 0]\n",
        "\n",
        "      misinformations_percentage = misinformations.shape[0] * 100 / quotes.shape[0]\n",
        "      truth_informations_percentage = truth_informations.shape[0] * 100 / quotes.shape[0]\n",
        "      labels =  ['True quotes: %.2lf%%' % truth_informations_percentage , 'Misinformation quotes: %.2lf%%' % misinformations_percentage]\n",
        "      ax.hist([truth_informations.date, misinformations.date], bins= bins, log=log_flag, label=labels, stacked=True)\n",
        "      plt.legend()\n",
        "\n",
        "    else :\n",
        "      # Calculate number of climate change quotes by dates\n",
        "      cnt_by_date = quotes.groupby(by='date').agg({'quotation': 'count',\n",
        "                                                    'num_of_quotes' : 'first'\n",
        "                                                  })  \n",
        "      \n",
        "\n",
        "      # Calculate frequency of climate change quotes by dates\n",
        "      if ratio_flag:      \n",
        "        cnt_by_date.quotation =cnt_by_date.quotation *100 / cnt_by_date.num_of_quotes \n",
        "        ylabel='Percent of climate change related quotations'\n",
        "\n",
        "      # Plot \n",
        "      ax.bar( cnt_by_date.index, cnt_by_date.quotation.values,\n",
        "            width = 35,\n",
        "            log= log_flag,\n",
        "            align = 'edge')\n",
        "    \n",
        "    locator = mdates.MonthLocator(bymonth=bymonth)\n",
        "\n",
        "    ax.xaxis.set_major_locator(locator)\n",
        "    ax.xaxis.set_major_formatter(mdates.AutoDateFormatter(locator))\n",
        "    plt.xticks(rotation=90)\n",
        "    plt.title(title)\n",
        "    plt.ylabel(ylabel)\n",
        "    plt.xlabel('Date')\n",
        "    return cnt_by_date"
      ],
      "execution_count": 10,
      "outputs": []
    }
  ]
}