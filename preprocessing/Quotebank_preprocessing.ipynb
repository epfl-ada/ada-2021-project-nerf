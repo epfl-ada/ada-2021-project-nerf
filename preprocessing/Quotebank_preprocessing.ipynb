{
  "nbformat": 4,
  "nbformat_minor": 0,
  "metadata": {
    "colab": {
      "name": "Quotebank_preprocessing.ipynb",
      "provenance": [],
      "collapsed_sections": []
    },
    "kernelspec": {
      "name": "python3",
      "display_name": "Python 3"
    },
    "language_info": {
      "name": "python"
    }
  },
  "cells": [
    {
      "cell_type": "markdown",
      "metadata": {
        "id": "hmuJ_KfmBB8l"
      },
      "source": [
        "##### NOTE: Before using this notebook, you have to:\n",
        "1.  **Downgrade** pandas version."
      ]
    },
    {
      "cell_type": "code",
      "metadata": {
        "id": "R4Tl51H-BfP3"
      },
      "source": [
        "!pip install --upgrade pandas==1.0.5"
      ],
      "execution_count": null,
      "outputs": []
    },
    {
      "cell_type": "markdown",
      "metadata": {
        "id": "jGvhPK6KCcT0"
      },
      "source": [
        "2. Mount google drive which contains resources"
      ]
    },
    {
      "cell_type": "code",
      "metadata": {
        "id": "kBaFDBb8Cpvk",
        "colab": {
          "base_uri": "https://localhost:8080/"
        },
        "outputId": "5329054a-5404-4708-aa1c-128cad1ca02e"
      },
      "source": [
        "from google.colab import drive\n",
        "drive.mount('/content/drive')"
      ],
      "execution_count": 10,
      "outputs": [
        {
          "output_type": "stream",
          "name": "stdout",
          "text": [
            "Drive already mounted at /content/drive; to attempt to forcibly remount, call drive.mount(\"/content/drive\", force_remount=True).\n"
          ]
        }
      ]
    },
    {
      "cell_type": "markdown",
      "metadata": {
        "id": "FIFfvctFBo-g"
      },
      "source": [
        "# Quotebank preprocessing\n",
        "\n",
        "## 1. Coarse-grain preprocessing"
      ]
    },
    {
      "cell_type": "code",
      "metadata": {
        "colab": {
          "base_uri": "https://localhost:8080/"
        },
        "id": "jjBDANUuCNha",
        "outputId": "11b68724-501c-4574-a598-93e8296ee8f4"
      },
      "source": [
        "import pandas as pd\n",
        "import matplotlib.pyplot as plt\n",
        "from statsmodels.stats import diagnostic \n",
        "import datetime"
      ],
      "execution_count": 12,
      "outputs": [
        {
          "output_type": "stream",
          "name": "stderr",
          "text": [
            "/usr/local/lib/python3.7/dist-packages/statsmodels/tools/_testing.py:19: FutureWarning: pandas.util.testing is deprecated. Use the functions in the public API at pandas.testing instead.\n",
            "  import pandas.util.testing as tm\n"
          ]
        }
      ]
    },
    {
      "cell_type": "code",
      "metadata": {
        "id": "QcsBqaPFC0p7"
      },
      "source": [
        "INPUT_PATH_PREFIX = '/content/drive/MyDrive/Quotebank/quotes-'\n",
        "OUTPUT_PATH_PREFIX = '/content/drive/MyDrive/ADA_Resources/quotes'\n",
        "FILE_EXTENSION = '.json.bz2'\n",
        "POLITICIANS_PATH  = '/content/drive/MyDrive/ADA_Resources/speakers/us_politicians.json.bz2'"
      ],
      "execution_count": 11,
      "outputs": []
    },
    {
      "cell_type": "markdown",
      "metadata": {
        "id": "9ULkasWhD6UT"
      },
      "source": [
        "Since files containing quotes are too big, and they cannot fit in the RAM,\n",
        "we will process them chunk by chunk. <br>\n",
        "Coarse-grain preprocessing phase includes filtering empty quotes, dropping meaningless columns and perserving quotes if speaker is a politician (for more details, refer to notebook 'Wikidata_preprocessing.ipynb') <br>\n",
        "In additon, processed chunks are merged, and if the size of merged data surpasses 1000000 quotes (size that can fit in the RAM), then merged data is written to a file."
      ]
    },
    {
      "cell_type": "code",
      "metadata": {
        "id": "jiH2vqRwGWuP"
      },
      "source": [
        "# Load US politicians from pre-parsed parquet database\n",
        "speakers = pd.read_json(POLITICIANS_PATH, lines= True, compression= 'bz2') "
      ],
      "execution_count": 13,
      "outputs": []
    },
    {
      "cell_type": "code",
      "metadata": {
        "id": "3z3_RAIaDWwj"
      },
      "source": [
        "# Create set of qids\n",
        "speaker_ids = set(speakers.id.values)\n",
        "\n",
        "# Process years\n",
        "for year in range(2015,2021):\n",
        "  \n",
        "  input_path  = INPUT_PATH_PREFIX + str(year) + FILE_EXTENSION\n",
        "\n",
        "  # Create data chunks iterator\n",
        "  data_chunks = pd.read_json(input_path, lines=True, \n",
        "                           compression='bz2', chunksize=100000)\n",
        "  \n",
        "  # Process data chunks\n",
        "  MEANINGLESS_COLUMNS = ['phase', 'probas']\n",
        "\n",
        "  # Create empty DataFrame for merging\n",
        "  merged_data = pd.DataFrame([])\n",
        "  i=0\n",
        "  for chunk in data_chunks:\n",
        "\n",
        "    # Create DataFrame \n",
        "    data = pd.DataFrame(chunk)\n",
        "\n",
        "    # Filter data\n",
        "    # Definitions of these functions are at the end of the notebook\n",
        "    data = filter_politicians(data, speaker_ids)\n",
        "    data = filter_empty_quotes(data)\n",
        "    data = filter_by_phase(data)\n",
        "    \n",
        "    # Drop meaningless columns\n",
        "    data = data.drop(columns=MEANINGLESS_COLUMNS)\n",
        "\n",
        "    merged_data = pd.concat([merged_data, data])\n",
        "    \n",
        "    ''' \n",
        "    If size of merged_data surpasses 1000000 quotes, write it to file\n",
        "    and clear merged_data DataFrame\n",
        "    ''' \n",
        "    if merged_data.shape[0] > 1e6:\n",
        "      i+=1\n",
        "      output_path = OUTPUT_PATH_PREFIX + str(year) +\n",
        "                    '_chunk_'+str(i) + OUTPUT_EXTENSION\n",
        "      merged_data.to_json(output_path, compression='bz2', lines= True, orient='records')\n",
        "      merged_data =  pd.DataFrame([])"
      ],
      "execution_count": null,
      "outputs": []
    },
    {
      "cell_type": "markdown",
      "metadata": {
        "id": "FwuI2LL_IrYp"
      },
      "source": [
        "NOTE: Execution of the above cell consumes enormous amount of time <br>\n",
        " "
      ]
    },
    {
      "cell_type": "markdown",
      "metadata": {
        "id": "agv3YYKqkVoA"
      },
      "source": [
        "## 2. Fine-grain preprocessing\n",
        "<a id='2'></a>"
      ]
    },
    {
      "cell_type": "markdown",
      "metadata": {
        "id": "3Q9Yu-Qm_7Gw"
      },
      "source": [
        "Note that the same preprocessing process is performed on all data, but in order not to overflood the notebook, only fine-grain preprocessing of the data from year 2020 will be shown. "
      ]
    },
    {
      "cell_type": "code",
      "metadata": {
        "id": "ZrQZu6ehYJ2_"
      },
      "source": [
        "# Load data \n",
        "input_path = '/content/drive/MyDrive/ADA_Resources/Merged/quotes2020_merged_part_1' + FILE_EXTENSION\n",
        "quotes2020 = pd.read_json(input_path, lines=True, \n",
        "                           compression='bz2')"
      ],
      "execution_count": 14,
      "outputs": []
    },
    {
      "cell_type": "markdown",
      "metadata": {
        "id": "VEuVN7Mat_QS"
      },
      "source": [
        "- <h3> Preprocessing quotations with multiple qids </h3>\n",
        "Now we will examine how many quotes exists which have multiple qids for their speakers."
      ]
    },
    {
      "cell_type": "code",
      "metadata": {
        "colab": {
          "base_uri": "https://localhost:8080/"
        },
        "id": "E9peHiqSlPkJ",
        "outputId": "d736541f-4bfb-403c-98c3-c04bb32a1c98"
      },
      "source": [
        "quote_count_with_multiple_qids = (quotes2020.qids.str.len() > 1).sum()\n",
        "print('There are %d quotes with multiple qids.' % quote_count_with_multiple_qids)\n",
        "print('There are %.2lf%% quotes with multiple qids.' % (quote_count_with_multiple_qids*100 / quotes2020.shape[0]))"
      ],
      "execution_count": 15,
      "outputs": [
        {
          "output_type": "stream",
          "name": "stdout",
          "text": [
            "There are 121913 quotes with multiple qids.\n",
            "There are 26.58% quotes with multiple qids.\n"
          ]
        }
      ]
    },
    {
      "cell_type": "markdown",
      "metadata": {
        "id": "DVyFINnxmVTw"
      },
      "source": [
        "For the year 2020, we can conclude that approximately 30% of the quotations do not have unique speaker's qid. <br>\n",
        "Let us see how many quotations have more than one qids which correspond to a politician."
      ]
    },
    {
      "cell_type": "code",
      "metadata": {
        "id": "Uqui6eI3HlwU"
      },
      "source": [
        "# Create set of qid of all politicians\n",
        "speakers_id_set = set(speakers.id.values)"
      ],
      "execution_count": 16,
      "outputs": []
    },
    {
      "cell_type": "code",
      "metadata": {
        "colab": {
          "base_uri": "https://localhost:8080/"
        },
        "id": "ZOV-9Axmr-Fs",
        "outputId": "f561a3c2-add5-4a7a-b062-f3f75cc19928"
      },
      "source": [
        "# Extracting number of politicians in qids array of each quote\n",
        "def count_politicians(qids):\n",
        "  '''\n",
        "  Counts how many politicians are there in qids array.\n",
        "  Arguments:\n",
        "    qids: pd.Series\n",
        "      Series of qids\n",
        "  Returns: int\n",
        "    Number of politicians in qids \n",
        "  '''\n",
        "  return len(set(qids) & (speakers_id_set))\n",
        "\n",
        "politicians_in_qids_count = quotes2020.qids.apply(count_politicians)\n",
        "multiple_politicians_in_qids = (politicians_in_qids_count> 1).sum()\n",
        "print('There are %d quotes which in qids array have more than 1 politician.' % \n",
        "      multiple_politicians_in_qids)"
      ],
      "execution_count": 17,
      "outputs": [
        {
          "output_type": "stream",
          "name": "stdout",
          "text": [
            "There are 18350 quotes which in qids array have more than 1 politician.\n"
          ]
        }
      ]
    },
    {
      "cell_type": "markdown",
      "metadata": {
        "id": "EMIZ67bbth44"
      },
      "source": [
        "Since we cannot with certainty link these quotes (quotes with more than one qid) to the specific person, we decided to:\n",
        "1. Discard all quotes which have more than one US politician in the qids array. <br>\n",
        "Situation where single quote could be assigned to one of multiple politicians introduces enormous uncertainty. In addition, such quotes represent minority of the dataset, so this type of quotes will be discarded.\n"
      ]
    },
    {
      "cell_type": "code",
      "metadata": {
        "id": "85WXCMwoEpzk"
      },
      "source": [
        "# Discarding quotes with multiple politicians in qids array\n",
        "quotes2020 = quotes2020[politicians_in_qids_count == 1]"
      ],
      "execution_count": 18,
      "outputs": []
    },
    {
      "cell_type": "markdown",
      "metadata": {
        "id": "-j-y6blxGbgJ"
      },
      "source": [
        "2. Perserve quotes which have only one US politician in qids array. <br>\n",
        "After thorough analysis, we found out that there are too many quotes of this type. If we discard them, then we will discard too many valuable speakers from our dataset. If speaker is someone like Donald Trump, it is justified to assume that it is the president of the USA, and not the [physician](https://www.wikidata.org/wiki/Q27947481).<br>\n",
        "Our decision will rely on a fact that politicians are more likely to be present in media.\n",
        "Therefore, we will assume that the speaker is most likely a politician, and quote will be assigned to politician's qid. However, this assumption introduces uncertainty, and we will have to be aware of that while making decisions."
      ]
    },
    {
      "cell_type": "code",
      "metadata": {
        "colab": {
          "base_uri": "https://localhost:8080/",
          "height": 192
        },
        "id": "MvI8tWTuGc7D",
        "outputId": "f834a346-0f9c-49a8-e1ed-a8f6aefcb576"
      },
      "source": [
        "# Assigning quote to politician's qid from qids array\n",
        "quotes2020['qids'] = quotes2020.qids.apply(lambda qids: (set(qids) & speakers_id_set).pop())\n",
        "quotes2020.head(3)\n"
      ],
      "execution_count": 19,
      "outputs": [
        {
          "output_type": "execute_result",
          "data": {
            "text/html": [
              "<div>\n",
              "<style scoped>\n",
              "    .dataframe tbody tr th:only-of-type {\n",
              "        vertical-align: middle;\n",
              "    }\n",
              "\n",
              "    .dataframe tbody tr th {\n",
              "        vertical-align: top;\n",
              "    }\n",
              "\n",
              "    .dataframe thead th {\n",
              "        text-align: right;\n",
              "    }\n",
              "</style>\n",
              "<table border=\"1\" class=\"dataframe\">\n",
              "  <thead>\n",
              "    <tr style=\"text-align: right;\">\n",
              "      <th></th>\n",
              "      <th>quoteID</th>\n",
              "      <th>quotation</th>\n",
              "      <th>speaker</th>\n",
              "      <th>qids</th>\n",
              "      <th>date</th>\n",
              "      <th>numOccurrences</th>\n",
              "      <th>urls</th>\n",
              "    </tr>\n",
              "  </thead>\n",
              "  <tbody>\n",
              "    <tr>\n",
              "      <th>0</th>\n",
              "      <td>2020-01-16-000088</td>\n",
              "      <td>[ Department of Homeland Security ] was livid ...</td>\n",
              "      <td>Sue Myrick</td>\n",
              "      <td>Q367796</td>\n",
              "      <td>2020-01-16 12:00:13</td>\n",
              "      <td>1</td>\n",
              "      <td>[http://thehill.com/opinion/international/4782...</td>\n",
              "    </tr>\n",
              "    <tr>\n",
              "      <th>1</th>\n",
              "      <td>2020-03-19-000276</td>\n",
              "      <td>[ These ] actions will allow households who ha...</td>\n",
              "      <td>Ben Carson</td>\n",
              "      <td>Q816459</td>\n",
              "      <td>2020-03-19 19:14:00</td>\n",
              "      <td>1</td>\n",
              "      <td>[https://mortgageorb.com/hud-fha-suspend-forec...</td>\n",
              "    </tr>\n",
              "    <tr>\n",
              "      <th>2</th>\n",
              "      <td>2020-01-26-000499</td>\n",
              "      <td>a few of the candidates who will do better in ...</td>\n",
              "      <td>Dave Loebsack</td>\n",
              "      <td>Q771586</td>\n",
              "      <td>2020-01-26 13:21:36</td>\n",
              "      <td>11</td>\n",
              "      <td>[http://rss.cnn.com/~r/rss/cnn_allpolitics/~3/...</td>\n",
              "    </tr>\n",
              "  </tbody>\n",
              "</table>\n",
              "</div>"
            ],
            "text/plain": [
              "             quoteID  ...                                               urls\n",
              "0  2020-01-16-000088  ...  [http://thehill.com/opinion/international/4782...\n",
              "1  2020-03-19-000276  ...  [https://mortgageorb.com/hud-fha-suspend-forec...\n",
              "2  2020-01-26-000499  ...  [http://rss.cnn.com/~r/rss/cnn_allpolitics/~3/...\n",
              "\n",
              "[3 rows x 7 columns]"
            ]
          },
          "metadata": {},
          "execution_count": 19
        }
      ]
    },
    {
      "cell_type": "markdown",
      "metadata": {
        "id": "uOj0Do1ruYBS"
      },
      "source": [
        "- <h3> Preprocessing unconsistency in speaker's name </h3>\n",
        "Let us take an example:  "
      ]
    },
    {
      "cell_type": "code",
      "metadata": {
        "colab": {
          "base_uri": "https://localhost:8080/",
          "height": 144
        },
        "id": "DkCgjQcVvJb3",
        "outputId": "c389e33a-403e-4490-8f53-39db0423e61b"
      },
      "source": [
        "# Extract speaker's whose name contains 'Trump'\n",
        "quotes2020[quotes2020.speaker.str.contains('Trump')].head(2)"
      ],
      "execution_count": 20,
      "outputs": [
        {
          "output_type": "execute_result",
          "data": {
            "text/html": [
              "<div>\n",
              "<style scoped>\n",
              "    .dataframe tbody tr th:only-of-type {\n",
              "        vertical-align: middle;\n",
              "    }\n",
              "\n",
              "    .dataframe tbody tr th {\n",
              "        vertical-align: top;\n",
              "    }\n",
              "\n",
              "    .dataframe thead th {\n",
              "        text-align: right;\n",
              "    }\n",
              "</style>\n",
              "<table border=\"1\" class=\"dataframe\">\n",
              "  <thead>\n",
              "    <tr style=\"text-align: right;\">\n",
              "      <th></th>\n",
              "      <th>quoteID</th>\n",
              "      <th>quotation</th>\n",
              "      <th>speaker</th>\n",
              "      <th>qids</th>\n",
              "      <th>date</th>\n",
              "      <th>numOccurrences</th>\n",
              "      <th>urls</th>\n",
              "    </tr>\n",
              "  </thead>\n",
              "  <tbody>\n",
              "    <tr>\n",
              "      <th>19</th>\n",
              "      <td>2020-02-19-010736</td>\n",
              "      <td>But I happen to like Prime Minister (Narendra)...</td>\n",
              "      <td>Donald Trump</td>\n",
              "      <td>Q22686</td>\n",
              "      <td>2020-02-19 03:24:32</td>\n",
              "      <td>8</td>\n",
              "      <td>[https://www.orissapost.com/donald-trump-hints...</td>\n",
              "    </tr>\n",
              "    <tr>\n",
              "      <th>20</th>\n",
              "      <td>2020-02-07-012379</td>\n",
              "      <td>but [ President ] Trump (was) eager to make a ...</td>\n",
              "      <td>President Donald Trump</td>\n",
              "      <td>Q22686</td>\n",
              "      <td>2020-02-07 23:05:05</td>\n",
              "      <td>1</td>\n",
              "      <td>[http://uspolitics.einnews.com/article/5092030...</td>\n",
              "    </tr>\n",
              "  </tbody>\n",
              "</table>\n",
              "</div>"
            ],
            "text/plain": [
              "              quoteID  ...                                               urls\n",
              "19  2020-02-19-010736  ...  [https://www.orissapost.com/donald-trump-hints...\n",
              "20  2020-02-07-012379  ...  [http://uspolitics.einnews.com/article/5092030...\n",
              "\n",
              "[2 rows x 7 columns]"
            ]
          },
          "metadata": {},
          "execution_count": 20
        }
      ]
    },
    {
      "cell_type": "markdown",
      "metadata": {
        "id": "Xvgzydh_vZ9d"
      },
      "source": [
        "As we can see, there exist speakers with different names, but same qids. <br> In order to fix this unconsistency, we will replace speaker's name (column 'speaker') in the 'Quotebank' database with column 'label' from the 'us_politicians' database (i.e. speakers DataFrame). "
      ]
    },
    {
      "cell_type": "code",
      "metadata": {
        "id": "9FX2XW_rwgWl"
      },
      "source": [
        "# Merge Quotebank 2020 and 'us_politicians' DataFrames\n",
        "quotes2020 = pd.merge(right = quotes2020, right_on='qids',\n",
        "          left=speakers[['id', 'label']], left_on='id')\n",
        "\n",
        "# Drop redundant columns\n",
        "quotes2020 = quotes2020.drop(columns=['speaker', 'id'])\n",
        "\n",
        "# Rename columns in order to perserve consistency\n",
        "quotes2020 = quotes2020.rename(columns={'label': 'speaker'})"
      ],
      "execution_count": 21,
      "outputs": []
    },
    {
      "cell_type": "markdown",
      "metadata": {
        "id": "g3Qh96Q57WSI"
      },
      "source": [
        "- <h3> Removing duplicates </h3>\n",
        "Now we will determine if there exist duplicates in column 'quoteID'."
      ]
    },
    {
      "cell_type": "code",
      "metadata": {
        "colab": {
          "base_uri": "https://localhost:8080/"
        },
        "id": "tavWorio7Xsg",
        "outputId": "e748d6f6-6a37-4e03-c9f1-d6b32673a322"
      },
      "source": [
        "# Extract number of duplicates\n",
        "duplicates = quotes2020.quoteID.duplicated()\n",
        "print('There are %d duplicates.' % duplicates.sum())"
      ],
      "execution_count": 22,
      "outputs": [
        {
          "output_type": "stream",
          "name": "stdout",
          "text": [
            "There are 29310 duplicates.\n"
          ]
        }
      ]
    },
    {
      "cell_type": "markdown",
      "metadata": {
        "id": "4JnQ1AVh8rzL"
      },
      "source": [
        "And now we will drop them."
      ]
    },
    {
      "cell_type": "code",
      "metadata": {
        "id": "hABf1Z2k8AAx"
      },
      "source": [
        "# Drop duplicates\n",
        "quotes2020 = quotes2020[~duplicates]"
      ],
      "execution_count": 23,
      "outputs": []
    },
    {
      "cell_type": "markdown",
      "metadata": {
        "id": "gq1Tn_LO2xh6"
      },
      "source": [
        "- <h3> Removing short quotations </h3>\n",
        "We will observe length of quotes described in number of words. "
      ]
    },
    {
      "cell_type": "code",
      "metadata": {
        "colab": {
          "base_uri": "https://localhost:8080/",
          "height": 312
        },
        "id": "bTc6o3mO3RfW",
        "outputId": "64bd440e-e40f-425b-d9de-42d948a42073"
      },
      "source": [
        "# Extract number of words in each quote\n",
        "quote_length = quotes2020.quotation.apply(lambda quote: len(quote.split()))\n",
        "\n",
        "# Plot histogram\n",
        "quote_length.hist(bins=1000, log=True)\n",
        "plt.title('Histogram of length of quotes')\n",
        "plt.ylabel('Quotation instances')\n",
        "plt.xlabel('Length of quotation')\n"
      ],
      "execution_count": null,
      "outputs": [
        {
          "output_type": "execute_result",
          "data": {
            "text/plain": [
              "Text(0.5, 0, 'Length of quotation')"
            ]
          },
          "metadata": {},
          "execution_count": 90
        },
        {
          "output_type": "display_data",
          "data": {
            "image/png": "[encoded data removed]",
            "text/plain": [
              "<Figure size 432x288 with 1 Axes>"
            ]
          },
          "metadata": {
            "needs_background": "light"
          }
        }
      ]
    },
    {
      "cell_type": "code",
      "metadata": {
        "colab": {
          "base_uri": "https://localhost:8080/",
          "height": 316
        },
        "id": "v7q13szB4OAF",
        "outputId": "86d5027e-157e-46da-d4c1-4234fc2c2a67"
      },
      "source": [
        "# Boxplot of length of quotes\n",
        "plt.boxplot(quote_length.values)\n",
        "plt.title('Boxplot of length of quotes')\n",
        "plt.xlabel('Quotation')\n",
        "plt.ylabel('Length of quotation')\n",
        "plt.loglog(True)"
      ],
      "execution_count": null,
      "outputs": [
        {
          "output_type": "execute_result",
          "data": {
            "text/plain": [
              "[<matplotlib.lines.Line2D at 0x7f609a6b5f50>]"
            ]
          },
          "metadata": {},
          "execution_count": 91
        },
        {
          "output_type": "display_data",
          "data": {
            "image/png": "[encoded data removed]",
            "text/plain": [
              "<Figure size 432x288 with 1 Axes>"
            ]
          },
          "metadata": {
            "needs_background": "light"
          }
        }
      ]
    },
    {
      "cell_type": "markdown",
      "metadata": {
        "id": "qbInVQ2oCYfk"
      },
      "source": [
        "On the plot we can notice that there exist quotes containing a small number of words. Moreover, we will discard quotes consisting of less than 3 words, since they provide very little information."
      ]
    },
    {
      "cell_type": "code",
      "metadata": {
        "id": "Uls7YIN8CRvo"
      },
      "source": [
        "# Discarding quotes containing length less than 3 words\n",
        "quotes2020 = quotes2020[quote_length > 2]"
      ],
      "execution_count": null,
      "outputs": []
    },
    {
      "cell_type": "markdown",
      "metadata": {
        "id": "VsLprUZ3uPpf"
      },
      "source": [
        "- <h3> Converting column 'date' to Date type  </h3>\n",
        "Lastly, we will convert column 'date' to Date type."
      ]
    },
    {
      "cell_type": "code",
      "metadata": {
        "id": "-Xnb-Nx0Lji8"
      },
      "source": [
        "# Convert column to DateTime type\n",
        "quotes2020.date = pd.to_datetime(quotes2020.date)\n",
        "\n",
        "# Truncate hours, minutes and seconds\n",
        "quotes2020.date = quotes2020.date.apply(lambda date: datetime.date(date.year, date.month, date.day))"
      ],
      "execution_count": null,
      "outputs": []
    },
    {
      "cell_type": "markdown",
      "metadata": {
        "id": "gKBEphttQn0B"
      },
      "source": [
        "## EXAMINING DATA\n",
        "\n",
        "Now we will perform some descriptive analysis. <br>\n",
        "As a representative, again, we will use preprocessed quotes from year 2020. "
      ]
    },
    {
      "cell_type": "markdown",
      "metadata": {
        "id": "7iSVmnXtY4rw"
      },
      "source": [
        "### 1. Examining speakers and their occurrences  "
      ]
    },
    {
      "cell_type": "markdown",
      "metadata": {
        "id": "aY18JZi1aL0r"
      },
      "source": [
        "Firstly, we will examine occurences of speakers, and try to infer \n",
        "from which underlying distribution the data comes from."
      ]
    },
    {
      "cell_type": "code",
      "metadata": {
        "colab": {
          "base_uri": "https://localhost:8080/",
          "height": 388
        },
        "id": "xPwE8pvEZn8q",
        "outputId": "29b204e6-0314-4603-c088-4d58e12ba199"
      },
      "source": [
        "# Extract number of occurences of given speaker\n",
        "speaker_occurences = quotes2020.groupby('speaker').count().sort_values(by='quotation', ascending = False)[['quotation']]\n",
        "speaker_occurences[:10]"
      ],
      "execution_count": null,
      "outputs": [
        {
          "output_type": "execute_result",
          "data": {
            "text/html": [
              "<div>\n",
              "<style scoped>\n",
              "    .dataframe tbody tr th:only-of-type {\n",
              "        vertical-align: middle;\n",
              "    }\n",
              "\n",
              "    .dataframe tbody tr th {\n",
              "        vertical-align: top;\n",
              "    }\n",
              "\n",
              "    .dataframe thead th {\n",
              "        text-align: right;\n",
              "    }\n",
              "</style>\n",
              "<table border=\"1\" class=\"dataframe\">\n",
              "  <thead>\n",
              "    <tr style=\"text-align: right;\">\n",
              "      <th></th>\n",
              "      <th>quotation</th>\n",
              "    </tr>\n",
              "    <tr>\n",
              "      <th>speaker</th>\n",
              "      <th></th>\n",
              "    </tr>\n",
              "  </thead>\n",
              "  <tbody>\n",
              "    <tr>\n",
              "      <th>Donald Trump</th>\n",
              "      <td>48544</td>\n",
              "    </tr>\n",
              "    <tr>\n",
              "      <th>Bernie Sanders</th>\n",
              "      <td>39912</td>\n",
              "    </tr>\n",
              "    <tr>\n",
              "      <th>Joe Biden</th>\n",
              "      <td>12937</td>\n",
              "    </tr>\n",
              "    <tr>\n",
              "      <th>Andrew Cuomo</th>\n",
              "      <td>11133</td>\n",
              "    </tr>\n",
              "    <tr>\n",
              "      <th>Elizabeth Warren</th>\n",
              "      <td>7672</td>\n",
              "    </tr>\n",
              "    <tr>\n",
              "      <th>Pete Buttigieg</th>\n",
              "      <td>6111</td>\n",
              "    </tr>\n",
              "    <tr>\n",
              "      <th>Michael Bloomberg</th>\n",
              "      <td>6041</td>\n",
              "    </tr>\n",
              "    <tr>\n",
              "      <th>Mike Pompeo</th>\n",
              "      <td>6000</td>\n",
              "    </tr>\n",
              "    <tr>\n",
              "      <th>Nancy Pelosi</th>\n",
              "      <td>5656</td>\n",
              "    </tr>\n",
              "    <tr>\n",
              "      <th>Bill de Blasio</th>\n",
              "      <td>4354</td>\n",
              "    </tr>\n",
              "  </tbody>\n",
              "</table>\n",
              "</div>"
            ],
            "text/plain": [
              "                   quotation\n",
              "speaker                     \n",
              "Donald Trump           48544\n",
              "Bernie Sanders         39912\n",
              "Joe Biden              12937\n",
              "Andrew Cuomo           11133\n",
              "Elizabeth Warren        7672\n",
              "Pete Buttigieg          6111\n",
              "Michael Bloomberg       6041\n",
              "Mike Pompeo             6000\n",
              "Nancy Pelosi            5656\n",
              "Bill de Blasio          4354"
            ]
          },
          "metadata": {},
          "execution_count": 65
        }
      ]
    },
    {
      "cell_type": "code",
      "metadata": {
        "colab": {
          "base_uri": "https://localhost:8080/",
          "height": 312
        },
        "id": "hdQqQS5Ekiok",
        "outputId": "91ff484c-0789-4694-a898-4ed1b169a2f1"
      },
      "source": [
        "speaker_occurences.quotation.hist(log = True, bins= 50)\n",
        "plt.xlabel('Number of speaker occurrences')\n",
        "plt.ylabel('Speaker instances')\n",
        "plt.title('Histogram of number of speaker\\'s occurrences')"
      ],
      "execution_count": null,
      "outputs": [
        {
          "output_type": "execute_result",
          "data": {
            "text/plain": [
              "Text(0.5, 1.0, \"Histogram of number of speaker's occurrences\")"
            ]
          },
          "metadata": {},
          "execution_count": 66
        },
        {
          "output_type": "display_data",
          "data": {
            "image/png": "[encoded data removed]",
            "text/plain": [
              "<Figure size 432x288 with 1 Axes>"
            ]
          },
          "metadata": {
            "needs_background": "light"
          }
        }
      ]
    },
    {
      "cell_type": "markdown",
      "metadata": {
        "id": "6wM47aBSl2Nw"
      },
      "source": [
        "It looks like random variable describing number of quotes said by specific speaker could follow exponential or heavy-tailed distribution. <br>\n",
        "Let us test it:"
      ]
    },
    {
      "cell_type": "code",
      "metadata": {
        "colab": {
          "base_uri": "https://localhost:8080/"
        },
        "id": "kxFW8NWzlmpO",
        "outputId": "1c8862fd-b640-4a01-b924-3856ace36d79"
      },
      "source": [
        "diagnostic.kstest_normal(speaker_occurences.quotation.values, dist = 'exp')"
      ],
      "execution_count": null,
      "outputs": [
        {
          "output_type": "execute_result",
          "data": {
            "text/plain": [
              "(0.4200622097748876, 0.01)"
            ]
          },
          "metadata": {},
          "execution_count": 67
        }
      ]
    },
    {
      "cell_type": "markdown",
      "metadata": {
        "id": "_mGkoYStmiL6"
      },
      "source": [
        "Since p-value is smaller than 0.05, we reject hypothesis that it comes from exponential dristribution. <br>\n",
        "How about heavy-tailed?"
      ]
    },
    {
      "cell_type": "code",
      "metadata": {
        "colab": {
          "base_uri": "https://localhost:8080/",
          "height": 316
        },
        "id": "-kZbYj3JmuPO",
        "outputId": "605aadb0-5cd7-4eb6-c373-345b105a85d0"
      },
      "source": [
        "speaker_occurences.quotation.hist(log=True, bins = 10000, cumulative= -1)\n",
        "plt.xlabel('Number of speaker occurrences')\n",
        "plt.ylabel('Speaker instances')\n",
        "plt.title('Cumulative histogram of number of speaker\\'s occurrences')\n",
        "plt.loglog(True)"
      ],
      "execution_count": null,
      "outputs": [
        {
          "output_type": "execute_result",
          "data": {
            "text/plain": [
              "[<matplotlib.lines.Line2D at 0x7f609dada750>]"
            ]
          },
          "metadata": {},
          "execution_count": 68
        },
        {
          "output_type": "display_data",
          "data": {
            "image/png": "[encoded data removed]",
            "text/plain": [
              "<Figure size 432x288 with 1 Axes>"
            ]
          },
          "metadata": {
            "needs_background": "light"
          }
        }
      ]
    },
    {
      "cell_type": "markdown",
      "metadata": {
        "id": "avfN2SYvvmMY"
      },
      "source": [
        "It looks like power-law distribution may actually be the underlying distribution. <br>Since we now believe that it is power-law distribution, we should be aware that some speakers are overrepresented in the data. Thus, we should be aware that data may be biased towards frequently quoted speakers. <br>\n",
        "Let us use Donald Trump as an example. He is the most frequently quoted speaker, and he is a member of the Republican party. However, his attidute towards certain topics does not necessarily reflect the attitude of his party towards the same topic. But, the sheer number of his quotes gives rise to a correlation between his party's attitudes and his own, so we will have use more sophisticated methods (e.g. matching) in order to find causality."
      ]
    },
    {
      "cell_type": "markdown",
      "metadata": {
        "id": "O1i7elD3ri0K"
      },
      "source": [
        "### 2. Examining number of occurences of quotes  "
      ]
    },
    {
      "cell_type": "markdown",
      "metadata": {
        "id": "iTf0l8fvzivk"
      },
      "source": [
        "Now we will try to infer underlying distribution of the random variable that describes number of occurences of specific topic in different media. <br>"
      ]
    },
    {
      "cell_type": "code",
      "metadata": {
        "colab": {
          "base_uri": "https://localhost:8080/",
          "height": 598
        },
        "id": "eDQAWdZnbpyU",
        "outputId": "b8fa1f00-be95-415d-e7eb-a12ac0a585c4"
      },
      "source": [
        "# Boxplot of a column 'numOccurrences'\n",
        "quotes2020.boxplot(column = 'numOccurrences')\n",
        "plt.ylabel('Number of occurrences of quotation')\n",
        "plt.xlabel('Quotation')\n",
        "plt.title('Boxplot of number of quote\\'s occurrences')\n",
        "plt.loglog(True)\n",
        "\n",
        "# Histogram of a column 'numOccurrences'\n",
        "quotes2020.hist(column = 'numOccurrences', bins = 1000)\n",
        "plt.ylabel('Quotes')\n",
        "plt.xlabel('Number of occurrences of quotation')\n",
        "plt.title('Histogram of number of quote\\'s occurrences')\n",
        "plt.loglog(True)"
      ],
      "execution_count": null,
      "outputs": [
        {
          "output_type": "execute_result",
          "data": {
            "text/plain": [
              "[<matplotlib.lines.Line2D at 0x7f609eb0a350>]"
            ]
          },
          "metadata": {},
          "execution_count": 69
        },
        {
          "output_type": "display_data",
          "data": {
            "image/png": "[encoded data removed]",
            "text/plain": [
              "<Figure size 432x288 with 1 Axes>"
            ]
          },
          "metadata": {
            "needs_background": "light"
          }
        },
        {
          "output_type": "display_data",
          "data": {
            "image/png": "[encoded data removed]",
            "text/plain": [
              "<Figure size 432x288 with 1 Axes>"
            ]
          },
          "metadata": {
            "needs_background": "light"
          }
        }
      ]
    },
    {
      "cell_type": "markdown",
      "metadata": {
        "id": "xDjiotOPz2l6"
      },
      "source": [
        "Presented plots show us that extreme values are rare, but not very rare.<br> It can be concluded that this random variable also follows heavy-tailed distribution, so metrics like mean and std are not credible in describing this attribute. This attribute can be used to describe level of impact that the quote had (i.e. if more sources have cited the quotation, then the quotation is more valuable)."
      ]
    },
    {
      "cell_type": "markdown",
      "metadata": {
        "id": "4z2kKVvGoycP"
      },
      "source": [
        "### 3. Examining quotes by date\n",
        "Finally, we will examine distribution of quotes in time sequence. Unit of time would be a day."
      ]
    },
    {
      "cell_type": "code",
      "metadata": {
        "colab": {
          "base_uri": "https://localhost:8080/",
          "height": 396
        },
        "id": "NNxFJ61QpCyo",
        "outputId": "1367f14d-7a9c-4a2b-c763-f52f8453e5ba"
      },
      "source": [
        "# Extract every date in sorted order from 'date' column\n",
        "date_ticks = quotes2020.date.sort_values().unique()\n",
        "\n",
        "# Plot histogram\n",
        "fig = plt.figure(figsize=(28,6))\n",
        "quotes2020.date.hist(bins = date_ticks.shape[0])\n",
        "plt.xticks(rotation=90 , ticks= date_ticks)\n",
        "plt.ylabel('Number of quotations')\n",
        "plt.title('Distribution of quotations in time')\n",
        "plt.xlabel('Date')\n",
        "plt.show()"
      ],
      "execution_count": null,
      "outputs": [
        {
          "output_type": "display_data",
          "data": {
            "image/png": "[encoded data removed]",
            "text/plain": [
              "<Figure size 2016x432 with 1 Axes>"
            ]
          },
          "metadata": {
            "needs_background": "light"
          }
        }
      ]
    },
    {
      "cell_type": "markdown",
      "metadata": {
        "id": "hqo3Yjn-rxTK"
      },
      "source": [
        "From the plot above, we can observe periodicity on a weekly basis, with spikes on days with important events. For example, the spike on 16/01/2020 is the day the [impeachment trial](https://www.onthisday.com/date/2020/january/16) of US President Donald Trump began. <br> It would be interested to observe how much of a media awarness gained quotes relevant to our topic, despite the fact that different events on different dates got more attention.  "
      ]
    },
    {
      "cell_type": "markdown",
      "metadata": {
        "id": "PdBzu-Nm65gO"
      },
      "source": [
        "## HELPER FUNCTIONS"
      ]
    },
    {
      "cell_type": "code",
      "metadata": {
        "id": "e_t3Szpm7R1X"
      },
      "source": [
        "def filter_politicians(data, speaker_ids):\n",
        "  '''\n",
        "  Filtering quotations by speakers. Perserving quotes whose speakers are\n",
        "  politicians\n",
        "  Arguments:\n",
        "    data: pandas.DataFrame\n",
        "      frame of quotes\n",
        "    speaker_ids: set\n",
        "      set of qids od politicians\n",
        "  Returns:\n",
        "    pandas.Dataframe\n",
        "  '''\n",
        "  data  = data[ data.speaker !='None']\n",
        "  is_politician = data.qids.apply(lambda qids: len((set(qids)  & (speaker_ids)))>0)\n",
        "  return data[is_politician]"
      ],
      "execution_count": null,
      "outputs": []
    },
    {
      "cell_type": "code",
      "metadata": {
        "id": "rP_d8bF17Wx3"
      },
      "source": [
        "def filter_by_phase(data):\n",
        "  '''\n",
        "  Filtering quotation by phase. Perserving quotes extracted in phase E\n",
        "  Arguments:\n",
        "    data: pandas.DataFrame\n",
        "      frame of quotes\n",
        "  Returns:\n",
        "    pandas.Dataframe\n",
        "  '''\n",
        "  return data[data.phase=='E']"
      ],
      "execution_count": null,
      "outputs": []
    },
    {
      "cell_type": "code",
      "metadata": {
        "id": "hU192TQN7VL6"
      },
      "source": [
        "def filter_empty_quotes(data):\n",
        "  '''\n",
        "  Dropping empty quotes\n",
        "  Arguments:\n",
        "    data: pandas.DataFrame\n",
        "      frame of quotes\n",
        "  Returns:\n",
        "    pandas.Dataframe\n",
        "  '''\n",
        "  data = data[~(data.quotation.str.len()==0)]\n",
        "  data = data[data.quotation.notnull()]\n",
        "  return data "
      ],
      "execution_count": null,
      "outputs": []
    }
  ]
}