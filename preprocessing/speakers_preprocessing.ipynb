{
 "cells": [
  {
   "cell_type": "markdown",
   "source": [
    "# Data preprocessing of `.parquet` file"
   ],
   "metadata": {
    "id": "zjpMXM9XSOwo"
   }
  },
  {
   "cell_type": "markdown",
   "source": [
    "### Load libraries"
   ],
   "metadata": {
    "id": "f098UHxASOwu"
   }
  },
  {
   "cell_type": "code",
   "execution_count": 1,
   "source": [
    "import matplotlib.pyplot as plt\n",
    "import numpy as np\n",
    "import pandas as pd\n",
    "import pyarrow \n",
    "import seaborn as sns\n",
    "\n",
    "from datetime import datetime\n",
    "\n",
    "%matplotlib inline"
   ],
   "outputs": [],
   "metadata": {
    "id": "u62_tJthSOwv",
    "tags": []
   }
  },
  {
   "cell_type": "markdown",
   "source": [
    "### Load speakers from the `.parquet` file"
   ],
   "metadata": {
    "id": "kcIw91B7SOww"
   }
  },
  {
   "cell_type": "code",
   "execution_count": 2,
   "source": [
    "PARQUET_PATH = \"../../speaker_attributes.parquet\""
   ],
   "outputs": [],
   "metadata": {
    "id": "DWZDcGOmSOwx"
   }
  },
  {
   "cell_type": "code",
   "execution_count": 3,
   "source": [
    "speakers = pd.read_parquet(PARQUET_PATH)\n",
    "print(\"The .parquet dataset contains \", speakers.shape[0], \" rows.\")\n",
    "speakers.head()"
   ],
   "outputs": [
    {
     "output_type": "stream",
     "name": "stdout",
     "text": [
      "The .parquet dataset contains  9055981  rows.\n"
     ]
    },
    {
     "output_type": "execute_result",
     "data": {
      "text/html": [
       "<div>\n",
       "<style scoped>\n",
       "    .dataframe tbody tr th:only-of-type {\n",
       "        vertical-align: middle;\n",
       "    }\n",
       "\n",
       "    .dataframe tbody tr th {\n",
       "        vertical-align: top;\n",
       "    }\n",
       "\n",
       "    .dataframe thead th {\n",
       "        text-align: right;\n",
       "    }\n",
       "</style>\n",
       "<table border=\"1\" class=\"dataframe\">\n",
       "  <thead>\n",
       "    <tr style=\"text-align: right;\">\n",
       "      <th></th>\n",
       "      <th>aliases</th>\n",
       "      <th>date_of_birth</th>\n",
       "      <th>nationality</th>\n",
       "      <th>gender</th>\n",
       "      <th>lastrevid</th>\n",
       "      <th>ethnic_group</th>\n",
       "      <th>US_congress_bio_ID</th>\n",
       "      <th>occupation</th>\n",
       "      <th>party</th>\n",
       "      <th>academic_degree</th>\n",
       "      <th>id</th>\n",
       "      <th>label</th>\n",
       "      <th>candidacy</th>\n",
       "      <th>type</th>\n",
       "      <th>religion</th>\n",
       "    </tr>\n",
       "  </thead>\n",
       "  <tbody>\n",
       "    <tr>\n",
       "      <th>0</th>\n",
       "      <td>[Washington, President Washington, G. Washingt...</td>\n",
       "      <td>[+1732-02-22T00:00:00Z]</td>\n",
       "      <td>[Q161885, Q30]</td>\n",
       "      <td>[Q6581097]</td>\n",
       "      <td>1395141751</td>\n",
       "      <td>None</td>\n",
       "      <td>W000178</td>\n",
       "      <td>[Q82955, Q189290, Q131512, Q1734662, Q294126, ...</td>\n",
       "      <td>[Q327591]</td>\n",
       "      <td>None</td>\n",
       "      <td>Q23</td>\n",
       "      <td>George Washington</td>\n",
       "      <td>[Q698073, Q697949]</td>\n",
       "      <td>item</td>\n",
       "      <td>[Q682443]</td>\n",
       "    </tr>\n",
       "    <tr>\n",
       "      <th>1</th>\n",
       "      <td>[Douglas Noel Adams, Douglas Noël Adams, Dougl...</td>\n",
       "      <td>[+1952-03-11T00:00:00Z]</td>\n",
       "      <td>[Q145]</td>\n",
       "      <td>[Q6581097]</td>\n",
       "      <td>1395737157</td>\n",
       "      <td>[Q7994501]</td>\n",
       "      <td>None</td>\n",
       "      <td>[Q214917, Q28389, Q6625963, Q4853732, Q1884422...</td>\n",
       "      <td>None</td>\n",
       "      <td>None</td>\n",
       "      <td>Q42</td>\n",
       "      <td>Douglas Adams</td>\n",
       "      <td>None</td>\n",
       "      <td>item</td>\n",
       "      <td>None</td>\n",
       "    </tr>\n",
       "    <tr>\n",
       "      <th>2</th>\n",
       "      <td>[Paul Marie Ghislain Otlet, Paul Marie Otlet]</td>\n",
       "      <td>[+1868-08-23T00:00:00Z]</td>\n",
       "      <td>[Q31]</td>\n",
       "      <td>[Q6581097]</td>\n",
       "      <td>1380367296</td>\n",
       "      <td>None</td>\n",
       "      <td>None</td>\n",
       "      <td>[Q36180, Q40348, Q182436, Q1265807, Q205375, Q...</td>\n",
       "      <td>None</td>\n",
       "      <td>None</td>\n",
       "      <td>Q1868</td>\n",
       "      <td>Paul Otlet</td>\n",
       "      <td>None</td>\n",
       "      <td>item</td>\n",
       "      <td>None</td>\n",
       "    </tr>\n",
       "    <tr>\n",
       "      <th>3</th>\n",
       "      <td>[George Walker Bush, Bush Jr., Dubya, GWB, Bus...</td>\n",
       "      <td>[+1946-07-06T00:00:00Z]</td>\n",
       "      <td>[Q30]</td>\n",
       "      <td>[Q6581097]</td>\n",
       "      <td>1395142029</td>\n",
       "      <td>None</td>\n",
       "      <td>None</td>\n",
       "      <td>[Q82955, Q15982858, Q18814623, Q1028181, Q1408...</td>\n",
       "      <td>[Q29468]</td>\n",
       "      <td>None</td>\n",
       "      <td>Q207</td>\n",
       "      <td>George W. Bush</td>\n",
       "      <td>[Q327959, Q464075, Q3586276, Q4450587]</td>\n",
       "      <td>item</td>\n",
       "      <td>[Q329646, Q682443, Q33203]</td>\n",
       "    </tr>\n",
       "    <tr>\n",
       "      <th>4</th>\n",
       "      <td>[Velázquez, Diego Rodríguez de Silva y Velázqu...</td>\n",
       "      <td>[+1599-06-06T00:00:00Z]</td>\n",
       "      <td>[Q29]</td>\n",
       "      <td>[Q6581097]</td>\n",
       "      <td>1391704596</td>\n",
       "      <td>None</td>\n",
       "      <td>None</td>\n",
       "      <td>[Q1028181]</td>\n",
       "      <td>None</td>\n",
       "      <td>None</td>\n",
       "      <td>Q297</td>\n",
       "      <td>Diego Velázquez</td>\n",
       "      <td>None</td>\n",
       "      <td>item</td>\n",
       "      <td>None</td>\n",
       "    </tr>\n",
       "  </tbody>\n",
       "</table>\n",
       "</div>"
      ],
      "text/plain": [
       "                                             aliases            date_of_birth  \\\n",
       "0  [Washington, President Washington, G. Washingt...  [+1732-02-22T00:00:00Z]   \n",
       "1  [Douglas Noel Adams, Douglas Noël Adams, Dougl...  [+1952-03-11T00:00:00Z]   \n",
       "2      [Paul Marie Ghislain Otlet, Paul Marie Otlet]  [+1868-08-23T00:00:00Z]   \n",
       "3  [George Walker Bush, Bush Jr., Dubya, GWB, Bus...  [+1946-07-06T00:00:00Z]   \n",
       "4  [Velázquez, Diego Rodríguez de Silva y Velázqu...  [+1599-06-06T00:00:00Z]   \n",
       "\n",
       "      nationality      gender   lastrevid ethnic_group US_congress_bio_ID  \\\n",
       "0  [Q161885, Q30]  [Q6581097]  1395141751         None            W000178   \n",
       "1          [Q145]  [Q6581097]  1395737157   [Q7994501]               None   \n",
       "2           [Q31]  [Q6581097]  1380367296         None               None   \n",
       "3           [Q30]  [Q6581097]  1395142029         None               None   \n",
       "4           [Q29]  [Q6581097]  1391704596         None               None   \n",
       "\n",
       "                                          occupation      party  \\\n",
       "0  [Q82955, Q189290, Q131512, Q1734662, Q294126, ...  [Q327591]   \n",
       "1  [Q214917, Q28389, Q6625963, Q4853732, Q1884422...       None   \n",
       "2  [Q36180, Q40348, Q182436, Q1265807, Q205375, Q...       None   \n",
       "3  [Q82955, Q15982858, Q18814623, Q1028181, Q1408...   [Q29468]   \n",
       "4                                         [Q1028181]       None   \n",
       "\n",
       "  academic_degree     id              label  \\\n",
       "0            None    Q23  George Washington   \n",
       "1            None    Q42      Douglas Adams   \n",
       "2            None  Q1868         Paul Otlet   \n",
       "3            None   Q207     George W. Bush   \n",
       "4            None   Q297    Diego Velázquez   \n",
       "\n",
       "                                candidacy  type                    religion  \n",
       "0                      [Q698073, Q697949]  item                   [Q682443]  \n",
       "1                                    None  item                        None  \n",
       "2                                    None  item                        None  \n",
       "3  [Q327959, Q464075, Q3586276, Q4450587]  item  [Q329646, Q682443, Q33203]  \n",
       "4                                    None  item                        None  "
      ]
     },
     "metadata": {},
     "execution_count": 3
    }
   ],
   "metadata": {
    "colab": {
     "base_uri": "https://localhost:8080/",
     "height": 593
    },
    "id": "57EMheQISOwx",
    "outputId": "69a4000d-3f95-4cd5-d13d-6fb1a6b2a9f0"
   }
  },
  {
   "cell_type": "markdown",
   "source": [
    "There is an enormous amount of speakers (>9M). We need to filter out all the speakers we don't need for our analysis."
   ],
   "metadata": {
    "id": "TjaC76ATSOw0"
   }
  },
  {
   "cell_type": "markdown",
   "source": [
    "### Extraction of speakers"
   ],
   "metadata": {
    "id": "15upAfa7SOw1"
   }
  },
  {
   "cell_type": "markdown",
   "source": [
    "#### 1. Extracting politicians affiliated with at least one political party"
   ],
   "metadata": {
    "id": "SKcbZZmwSOw2"
   }
  },
  {
   "cell_type": "code",
   "execution_count": 4,
   "source": [
    "OCCUPATION_POLITICIAN_QID = 'Q82955'\n",
    "\n",
    "speakers = speakers[speakers.occupation.notna() & speakers.party.notna()]\n",
    "politicians = speakers[speakers.occupation.apply(lambda x: OCCUPATION_POLITICIAN_QID in x)]\n",
    "\n",
    "print(\"There are \", politicians.shape[0], \" politicians affiliated with at least one political party.\")\n",
    "politicians.head()"
   ],
   "outputs": [
    {
     "output_type": "stream",
     "name": "stdout",
     "text": [
      "There are  305134  politicians affiliated with at least one political party.\n"
     ]
    },
    {
     "output_type": "execute_result",
     "data": {
      "text/html": [
       "<div>\n",
       "<style scoped>\n",
       "    .dataframe tbody tr th:only-of-type {\n",
       "        vertical-align: middle;\n",
       "    }\n",
       "\n",
       "    .dataframe tbody tr th {\n",
       "        vertical-align: top;\n",
       "    }\n",
       "\n",
       "    .dataframe thead th {\n",
       "        text-align: right;\n",
       "    }\n",
       "</style>\n",
       "<table border=\"1\" class=\"dataframe\">\n",
       "  <thead>\n",
       "    <tr style=\"text-align: right;\">\n",
       "      <th></th>\n",
       "      <th>aliases</th>\n",
       "      <th>date_of_birth</th>\n",
       "      <th>nationality</th>\n",
       "      <th>gender</th>\n",
       "      <th>lastrevid</th>\n",
       "      <th>ethnic_group</th>\n",
       "      <th>US_congress_bio_ID</th>\n",
       "      <th>occupation</th>\n",
       "      <th>party</th>\n",
       "      <th>academic_degree</th>\n",
       "      <th>id</th>\n",
       "      <th>label</th>\n",
       "      <th>candidacy</th>\n",
       "      <th>type</th>\n",
       "      <th>religion</th>\n",
       "    </tr>\n",
       "  </thead>\n",
       "  <tbody>\n",
       "    <tr>\n",
       "      <th>0</th>\n",
       "      <td>[Washington, President Washington, G. Washingt...</td>\n",
       "      <td>[+1732-02-22T00:00:00Z]</td>\n",
       "      <td>[Q161885, Q30]</td>\n",
       "      <td>[Q6581097]</td>\n",
       "      <td>1395141751</td>\n",
       "      <td>None</td>\n",
       "      <td>W000178</td>\n",
       "      <td>[Q82955, Q189290, Q131512, Q1734662, Q294126, ...</td>\n",
       "      <td>[Q327591]</td>\n",
       "      <td>None</td>\n",
       "      <td>Q23</td>\n",
       "      <td>George Washington</td>\n",
       "      <td>[Q698073, Q697949]</td>\n",
       "      <td>item</td>\n",
       "      <td>[Q682443]</td>\n",
       "    </tr>\n",
       "    <tr>\n",
       "      <th>3</th>\n",
       "      <td>[George Walker Bush, Bush Jr., Dubya, GWB, Bus...</td>\n",
       "      <td>[+1946-07-06T00:00:00Z]</td>\n",
       "      <td>[Q30]</td>\n",
       "      <td>[Q6581097]</td>\n",
       "      <td>1395142029</td>\n",
       "      <td>None</td>\n",
       "      <td>None</td>\n",
       "      <td>[Q82955, Q15982858, Q18814623, Q1028181, Q1408...</td>\n",
       "      <td>[Q29468]</td>\n",
       "      <td>None</td>\n",
       "      <td>Q207</td>\n",
       "      <td>George W. Bush</td>\n",
       "      <td>[Q327959, Q464075, Q3586276, Q4450587]</td>\n",
       "      <td>item</td>\n",
       "      <td>[Q329646, Q682443, Q33203]</td>\n",
       "    </tr>\n",
       "    <tr>\n",
       "      <th>5</th>\n",
       "      <td>[Augusto Pinochet Ugarte, Augusto José Ramón P...</td>\n",
       "      <td>[+1915-11-25T00:00:00Z]</td>\n",
       "      <td>[Q298]</td>\n",
       "      <td>[Q6581097]</td>\n",
       "      <td>1392242213</td>\n",
       "      <td>None</td>\n",
       "      <td>None</td>\n",
       "      <td>[Q189290, Q82955]</td>\n",
       "      <td>[Q327591]</td>\n",
       "      <td>None</td>\n",
       "      <td>Q368</td>\n",
       "      <td>Augusto Pinochet</td>\n",
       "      <td>None</td>\n",
       "      <td>item</td>\n",
       "      <td>[Q1841]</td>\n",
       "    </tr>\n",
       "    <tr>\n",
       "      <th>11</th>\n",
       "      <td>[Gabriel González Videla, Gabriel Gonzales Vid...</td>\n",
       "      <td>[+1898-11-22T00:00:00Z]</td>\n",
       "      <td>[Q298]</td>\n",
       "      <td>[Q6581097]</td>\n",
       "      <td>1329810558</td>\n",
       "      <td>None</td>\n",
       "      <td>None</td>\n",
       "      <td>[Q40348, Q193391, Q82955]</td>\n",
       "      <td>[Q1759368]</td>\n",
       "      <td>None</td>\n",
       "      <td>Q815</td>\n",
       "      <td>Gabriel Gonzáles Videla</td>\n",
       "      <td>[Q1069391]</td>\n",
       "      <td>item</td>\n",
       "      <td>None</td>\n",
       "    </tr>\n",
       "    <tr>\n",
       "      <th>15</th>\n",
       "      <td>[Donald Franciszek Tusk]</td>\n",
       "      <td>[+1957-04-22T00:00:00Z]</td>\n",
       "      <td>[Q36]</td>\n",
       "      <td>[Q6581097]</td>\n",
       "      <td>1390487039</td>\n",
       "      <td>None</td>\n",
       "      <td>None</td>\n",
       "      <td>[Q82955, Q201788]</td>\n",
       "      <td>[Q156868, Q208242]</td>\n",
       "      <td>None</td>\n",
       "      <td>Q946</td>\n",
       "      <td>Donald Tusk</td>\n",
       "      <td>[Q2586050]</td>\n",
       "      <td>item</td>\n",
       "      <td>[Q9592]</td>\n",
       "    </tr>\n",
       "  </tbody>\n",
       "</table>\n",
       "</div>"
      ],
      "text/plain": [
       "                                              aliases  \\\n",
       "0   [Washington, President Washington, G. Washingt...   \n",
       "3   [George Walker Bush, Bush Jr., Dubya, GWB, Bus...   \n",
       "5   [Augusto Pinochet Ugarte, Augusto José Ramón P...   \n",
       "11  [Gabriel González Videla, Gabriel Gonzales Vid...   \n",
       "15                           [Donald Franciszek Tusk]   \n",
       "\n",
       "              date_of_birth     nationality      gender   lastrevid  \\\n",
       "0   [+1732-02-22T00:00:00Z]  [Q161885, Q30]  [Q6581097]  1395141751   \n",
       "3   [+1946-07-06T00:00:00Z]           [Q30]  [Q6581097]  1395142029   \n",
       "5   [+1915-11-25T00:00:00Z]          [Q298]  [Q6581097]  1392242213   \n",
       "11  [+1898-11-22T00:00:00Z]          [Q298]  [Q6581097]  1329810558   \n",
       "15  [+1957-04-22T00:00:00Z]           [Q36]  [Q6581097]  1390487039   \n",
       "\n",
       "   ethnic_group US_congress_bio_ID  \\\n",
       "0          None            W000178   \n",
       "3          None               None   \n",
       "5          None               None   \n",
       "11         None               None   \n",
       "15         None               None   \n",
       "\n",
       "                                           occupation               party  \\\n",
       "0   [Q82955, Q189290, Q131512, Q1734662, Q294126, ...           [Q327591]   \n",
       "3   [Q82955, Q15982858, Q18814623, Q1028181, Q1408...            [Q29468]   \n",
       "5                                   [Q189290, Q82955]           [Q327591]   \n",
       "11                          [Q40348, Q193391, Q82955]          [Q1759368]   \n",
       "15                                  [Q82955, Q201788]  [Q156868, Q208242]   \n",
       "\n",
       "   academic_degree    id                    label  \\\n",
       "0             None   Q23        George Washington   \n",
       "3             None  Q207           George W. Bush   \n",
       "5             None  Q368         Augusto Pinochet   \n",
       "11            None  Q815  Gabriel Gonzáles Videla   \n",
       "15            None  Q946              Donald Tusk   \n",
       "\n",
       "                                 candidacy  type                    religion  \n",
       "0                       [Q698073, Q697949]  item                   [Q682443]  \n",
       "3   [Q327959, Q464075, Q3586276, Q4450587]  item  [Q329646, Q682443, Q33203]  \n",
       "5                                     None  item                     [Q1841]  \n",
       "11                              [Q1069391]  item                        None  \n",
       "15                              [Q2586050]  item                     [Q9592]  "
      ]
     },
     "metadata": {},
     "execution_count": 4
    }
   ],
   "metadata": {
    "colab": {
     "base_uri": "https://localhost:8080/",
     "height": 576
    },
    "id": "ydt8rp7XIedX",
    "outputId": "c8706777-4d9f-495c-ac8f-9a52eb3cd1af"
   }
  },
  {
   "cell_type": "markdown",
   "source": [
    "At the moment, we have about 300K politicians. \n",
    "<br>However, we can easily notice that we have included people that are no longer alive (e.g. George Washington in first line)."
   ],
   "metadata": {
    "id": "CxIXmXJ5IedZ"
   }
  },
  {
   "cell_type": "markdown",
   "source": [
    "#### 2. Extracting _alive_ politicians affiliated with at least one political party"
   ],
   "metadata": {
    "id": "aZxt0DlJIeda"
   }
  },
  {
   "cell_type": "markdown",
   "source": [
    "Let us see how _old_ are our politicians in the dataset."
   ],
   "metadata": {
    "id": "2pPPHntZIedb"
   }
  },
  {
   "cell_type": "code",
   "execution_count": 5,
   "source": [
    "politicians = politicians[politicians.date_of_birth.notna()]\n",
    "politicians.loc[:, 'age'] = politicians.date_of_birth.apply(lambda x: abs((datetime.strptime(x[-1][1:5],\"%Y\").year - datetime.now().year)))\n",
    "\n",
    "politicians_age_hist = politicians.age.hist(log=True, bins=80)\n",
    "politicians_age_hist.set_xlabel(\"Age in years\")\n",
    "politicians_age_hist.set_ylabel(\"Number of politicians\")\n",
    "plt.title(\"The age distribution of politicians\")"
   ],
   "outputs": [
    {
     "output_type": "execute_result",
     "data": {
      "text/plain": [
       "Text(0.5, 1.0, 'The age distribution of politicians')"
      ]
     },
     "metadata": {},
     "execution_count": 5
    },
    {
     "output_type": "display_data",
     "data": {
      "image/png": "[encoded data removed]",
      "text/plain": [
       "<Figure size 432x288 with 1 Axes>"
      ]
     },
     "metadata": {
      "needs_background": "light"
     }
    }
   ],
   "metadata": {
    "colab": {
     "base_uri": "https://localhost:8080/",
     "height": 312
    },
    "id": "8TI1xaeCIedb",
    "outputId": "8757cd74-71b0-4973-a9f6-6c085b0329f2"
   }
  },
  {
   "cell_type": "markdown",
   "source": [
    "On the above-painted plot we can notice that there is a huge amount of politicians that were born more than 100 years ago.\n",
    "<br>We are assuming that the majority of politicians that were born before 1914, were already dead by the time of printing their quotes in 2015.\n",
    "<br>In order to avoid the influence of these politicians, we will remove all the speakers that were born before 1914 (i.e. today's age of 107 years). "
   ],
   "metadata": {
    "id": "V0PvnkdJIedb"
   }
  },
  {
   "cell_type": "code",
   "execution_count": 6,
   "source": [
    "politicians_alive = politicians[politicians.age < 107]\n",
    "print(politicians_alive.shape)\n",
    "politicians_alive.head()"
   ],
   "outputs": [
    {
     "output_type": "stream",
     "name": "stdout",
     "text": [
      "(178695, 16)\n"
     ]
    },
    {
     "output_type": "execute_result",
     "data": {
      "text/html": [
       "<div>\n",
       "<style scoped>\n",
       "    .dataframe tbody tr th:only-of-type {\n",
       "        vertical-align: middle;\n",
       "    }\n",
       "\n",
       "    .dataframe tbody tr th {\n",
       "        vertical-align: top;\n",
       "    }\n",
       "\n",
       "    .dataframe thead th {\n",
       "        text-align: right;\n",
       "    }\n",
       "</style>\n",
       "<table border=\"1\" class=\"dataframe\">\n",
       "  <thead>\n",
       "    <tr style=\"text-align: right;\">\n",
       "      <th></th>\n",
       "      <th>aliases</th>\n",
       "      <th>date_of_birth</th>\n",
       "      <th>nationality</th>\n",
       "      <th>gender</th>\n",
       "      <th>lastrevid</th>\n",
       "      <th>ethnic_group</th>\n",
       "      <th>US_congress_bio_ID</th>\n",
       "      <th>occupation</th>\n",
       "      <th>party</th>\n",
       "      <th>academic_degree</th>\n",
       "      <th>id</th>\n",
       "      <th>label</th>\n",
       "      <th>candidacy</th>\n",
       "      <th>type</th>\n",
       "      <th>religion</th>\n",
       "      <th>age</th>\n",
       "    </tr>\n",
       "  </thead>\n",
       "  <tbody>\n",
       "    <tr>\n",
       "      <th>3</th>\n",
       "      <td>[George Walker Bush, Bush Jr., Dubya, GWB, Bus...</td>\n",
       "      <td>[+1946-07-06T00:00:00Z]</td>\n",
       "      <td>[Q30]</td>\n",
       "      <td>[Q6581097]</td>\n",
       "      <td>1395142029</td>\n",
       "      <td>None</td>\n",
       "      <td>None</td>\n",
       "      <td>[Q82955, Q15982858, Q18814623, Q1028181, Q1408...</td>\n",
       "      <td>[Q29468]</td>\n",
       "      <td>None</td>\n",
       "      <td>Q207</td>\n",
       "      <td>George W. Bush</td>\n",
       "      <td>[Q327959, Q464075, Q3586276, Q4450587]</td>\n",
       "      <td>item</td>\n",
       "      <td>[Q329646, Q682443, Q33203]</td>\n",
       "      <td>75</td>\n",
       "    </tr>\n",
       "    <tr>\n",
       "      <th>5</th>\n",
       "      <td>[Augusto Pinochet Ugarte, Augusto José Ramón P...</td>\n",
       "      <td>[+1915-11-25T00:00:00Z]</td>\n",
       "      <td>[Q298]</td>\n",
       "      <td>[Q6581097]</td>\n",
       "      <td>1392242213</td>\n",
       "      <td>None</td>\n",
       "      <td>None</td>\n",
       "      <td>[Q189290, Q82955]</td>\n",
       "      <td>[Q327591]</td>\n",
       "      <td>None</td>\n",
       "      <td>Q368</td>\n",
       "      <td>Augusto Pinochet</td>\n",
       "      <td>None</td>\n",
       "      <td>item</td>\n",
       "      <td>[Q1841]</td>\n",
       "      <td>106</td>\n",
       "    </tr>\n",
       "    <tr>\n",
       "      <th>15</th>\n",
       "      <td>[Donald Franciszek Tusk]</td>\n",
       "      <td>[+1957-04-22T00:00:00Z]</td>\n",
       "      <td>[Q36]</td>\n",
       "      <td>[Q6581097]</td>\n",
       "      <td>1390487039</td>\n",
       "      <td>None</td>\n",
       "      <td>None</td>\n",
       "      <td>[Q82955, Q201788]</td>\n",
       "      <td>[Q156868, Q208242]</td>\n",
       "      <td>None</td>\n",
       "      <td>Q946</td>\n",
       "      <td>Donald Tusk</td>\n",
       "      <td>[Q2586050]</td>\n",
       "      <td>item</td>\n",
       "      <td>[Q9592]</td>\n",
       "      <td>64</td>\n",
       "    </tr>\n",
       "    <tr>\n",
       "      <th>18</th>\n",
       "      <td>[Namo, Modi, Narendra Bhai, Narendra Damodarda...</td>\n",
       "      <td>[+1950-09-17T00:00:00Z]</td>\n",
       "      <td>[Q668]</td>\n",
       "      <td>[Q6581097]</td>\n",
       "      <td>1395415052</td>\n",
       "      <td>[Q1282294, Q6889284]</td>\n",
       "      <td>None</td>\n",
       "      <td>[Q82955, Q36180, Q7019111, Q10429346]</td>\n",
       "      <td>[Q10230]</td>\n",
       "      <td>None</td>\n",
       "      <td>Q1058</td>\n",
       "      <td>Narendra Modi</td>\n",
       "      <td>[Q63988227, Q63988919, Q16841231, Q16251961, Q...</td>\n",
       "      <td>item</td>\n",
       "      <td>[Q9089]</td>\n",
       "      <td>71</td>\n",
       "    </tr>\n",
       "    <tr>\n",
       "      <th>19</th>\n",
       "      <td>[Indira Nehru, Indira Priyadarshini Gandhi, In...</td>\n",
       "      <td>[+1917-11-19T00:00:00Z]</td>\n",
       "      <td>[Q668, Q129286, Q1775277]</td>\n",
       "      <td>[Q6581072]</td>\n",
       "      <td>1390256502</td>\n",
       "      <td>[Q1996554]</td>\n",
       "      <td>None</td>\n",
       "      <td>[Q82955]</td>\n",
       "      <td>[Q10225]</td>\n",
       "      <td>None</td>\n",
       "      <td>Q1149</td>\n",
       "      <td>Indira Gandhi</td>\n",
       "      <td>[Q3532192, Q3531393]</td>\n",
       "      <td>item</td>\n",
       "      <td>[Q9089]</td>\n",
       "      <td>104</td>\n",
       "    </tr>\n",
       "  </tbody>\n",
       "</table>\n",
       "</div>"
      ],
      "text/plain": [
       "                                              aliases  \\\n",
       "3   [George Walker Bush, Bush Jr., Dubya, GWB, Bus...   \n",
       "5   [Augusto Pinochet Ugarte, Augusto José Ramón P...   \n",
       "15                           [Donald Franciszek Tusk]   \n",
       "18  [Namo, Modi, Narendra Bhai, Narendra Damodarda...   \n",
       "19  [Indira Nehru, Indira Priyadarshini Gandhi, In...   \n",
       "\n",
       "              date_of_birth                nationality      gender  \\\n",
       "3   [+1946-07-06T00:00:00Z]                      [Q30]  [Q6581097]   \n",
       "5   [+1915-11-25T00:00:00Z]                     [Q298]  [Q6581097]   \n",
       "15  [+1957-04-22T00:00:00Z]                      [Q36]  [Q6581097]   \n",
       "18  [+1950-09-17T00:00:00Z]                     [Q668]  [Q6581097]   \n",
       "19  [+1917-11-19T00:00:00Z]  [Q668, Q129286, Q1775277]  [Q6581072]   \n",
       "\n",
       "     lastrevid          ethnic_group US_congress_bio_ID  \\\n",
       "3   1395142029                  None               None   \n",
       "5   1392242213                  None               None   \n",
       "15  1390487039                  None               None   \n",
       "18  1395415052  [Q1282294, Q6889284]               None   \n",
       "19  1390256502            [Q1996554]               None   \n",
       "\n",
       "                                           occupation               party  \\\n",
       "3   [Q82955, Q15982858, Q18814623, Q1028181, Q1408...            [Q29468]   \n",
       "5                                   [Q189290, Q82955]           [Q327591]   \n",
       "15                                  [Q82955, Q201788]  [Q156868, Q208242]   \n",
       "18              [Q82955, Q36180, Q7019111, Q10429346]            [Q10230]   \n",
       "19                                           [Q82955]            [Q10225]   \n",
       "\n",
       "   academic_degree     id             label  \\\n",
       "3             None   Q207    George W. Bush   \n",
       "5             None   Q368  Augusto Pinochet   \n",
       "15            None   Q946       Donald Tusk   \n",
       "18            None  Q1058     Narendra Modi   \n",
       "19            None  Q1149     Indira Gandhi   \n",
       "\n",
       "                                            candidacy  type  \\\n",
       "3              [Q327959, Q464075, Q3586276, Q4450587]  item   \n",
       "5                                                None  item   \n",
       "15                                         [Q2586050]  item   \n",
       "18  [Q63988227, Q63988919, Q16841231, Q16251961, Q...  item   \n",
       "19                               [Q3532192, Q3531393]  item   \n",
       "\n",
       "                      religion  age  \n",
       "3   [Q329646, Q682443, Q33203]   75  \n",
       "5                      [Q1841]  106  \n",
       "15                     [Q9592]   64  \n",
       "18                     [Q9089]   71  \n",
       "19                     [Q9089]  104  "
      ]
     },
     "metadata": {},
     "execution_count": 6
    }
   ],
   "metadata": {
    "colab": {
     "base_uri": "https://localhost:8080/",
     "height": 526
    },
    "id": "j0-YiJXDIedc",
    "outputId": "fd6c34aa-0b67-48ba-c543-a929d12f89bf"
   }
  },
  {
   "cell_type": "markdown",
   "source": [
    "At the moment we have ~170K politicians, however, we are interested in only US politicians. Hence, we should extract those politicians that are affiliated with a US party (i.e. The Republican or The Democratic party). "
   ],
   "metadata": {}
  },
  {
   "cell_type": "markdown",
   "source": [
    "#### 3. Extracting politicians affiliated with a US party"
   ],
   "metadata": {
    "id": "l85pbb4UIedc"
   }
  },
  {
   "cell_type": "markdown",
   "source": [
    "Firstly, let us find out if there are speakers that are associated with multiple parties."
   ],
   "metadata": {
    "id": "vEjKZigiSOw3"
   }
  },
  {
   "cell_type": "code",
   "execution_count": 7,
   "source": [
    "politicians_alive.loc[:, ('party_count')] = politicians_alive.party.apply(lambda x: len(x))\n",
    "max_num_parties = politicians_alive.party_count.max()\n",
    "multiple_parties_count = politicians_alive[politicians_alive.party_count > 1].shape\n",
    "\n",
    "print(\"The maximum number of parties for one speaker is \", max_num_parties, \".\")\n",
    "print(\"There are \", multiple_parties_count[0], \" speakers that are associated with at least two political parties.\")\n"
   ],
   "outputs": [
    {
     "output_type": "stream",
     "name": "stdout",
     "text": [
      "The maximum number of parties for one speaker is  9 .\n",
      "There are  16030  speakers that are associated with at least two political parties.\n"
     ]
    }
   ],
   "metadata": {
    "colab": {
     "base_uri": "https://localhost:8080/"
    },
    "id": "0zX4pe2wSOw3",
    "outputId": "ef463ae3-ff06-401d-8def-917696a57e25"
   }
  },
  {
   "cell_type": "markdown",
   "source": [
    "As can be seen, there is a lot of politicians affiliated with multiple parties. This, we should have in mind during further analysis."
   ],
   "metadata": {
    "id": "e3oS-ZjZIedd"
   }
  },
  {
   "cell_type": "markdown",
   "source": [
    "Our next step is to extract US politicians. We are only interested in politicians affiliated with at least one US party (i.e. Republican or Democratic party)."
   ],
   "metadata": {
    "id": "FQSt_VkpIede"
   }
  },
  {
   "cell_type": "code",
   "execution_count": 8,
   "source": [
    "REPUBLICAN_PARTY_QID = 'Q29468'\n",
    "DEMOCRATIC_PARTY_QID = 'Q29552'\n",
    "\n",
    "us_politicians = politicians_alive[politicians_alive.party.apply(lambda x: (REPUBLICAN_PARTY_QID in x)\n",
    "                                                                 | (DEMOCRATIC_PARTY_QID in x))]\n",
    "us_politicians.shape"
   ],
   "outputs": [
    {
     "output_type": "execute_result",
     "data": {
      "text/plain": [
       "(21705, 17)"
      ]
     },
     "metadata": {},
     "execution_count": 8
    }
   ],
   "metadata": {
    "colab": {
     "base_uri": "https://localhost:8080/"
    },
    "id": "evoERbHhIede",
    "outputId": "319a579e-969f-41cb-b2d2-160cb8e14a7e"
   }
  },
  {
   "cell_type": "markdown",
   "source": [
    "There are about 21K politicians that were affiliated with a US party once in their lifetime.\n",
    "<br> For our analysis, it is important that we know to which party the politician belonged when he was quoted. It is possible that a politician switched parties during his/hers lifetime - this should be taken into account as well."
   ],
   "metadata": {
    "id": "ybj-_PNoIede"
   }
  },
  {
   "cell_type": "markdown",
   "source": [
    "If a politician belonged to multiple parties during the period 2015-2020 we will insert this politician multiple times in the dataset, each time with different party-start and end dates."
   ],
   "metadata": {
    "id": "mnoI6oXoIedf"
   }
  },
  {
   "cell_type": "code",
   "execution_count": 9,
   "source": [
    "us_politicians.loc[:, \"party_start_date\"] = None\n",
    "us_politicians.loc[:, \"party_end_date\"] = None"
   ],
   "outputs": [],
   "metadata": {
    "id": "dPvzxKKzIedf"
   }
  },
  {
   "cell_type": "markdown",
   "source": [
    "##### a) Extracting politicians affiliated with only one US party"
   ],
   "metadata": {
    "id": "kr8f5Cn8SOw6",
    "tags": []
   }
  },
  {
   "cell_type": "code",
   "execution_count": 10,
   "source": [
    "us_politicians_unique_party = us_politicians[us_politicians.party.apply(lambda x: len(x) == 1)]\n",
    "print(us_politicians_unique_party.shape)"
   ],
   "outputs": [
    {
     "output_type": "stream",
     "name": "stdout",
     "text": [
      "(20351, 19)\n"
     ]
    }
   ],
   "metadata": {
    "colab": {
     "base_uri": "https://localhost:8080/"
    },
    "id": "Xl5EBIT8Iedg",
    "outputId": "71313147-919e-4339-c1d4-e67ff8128609"
   }
  },
  {
   "cell_type": "markdown",
   "source": [
    "There are ~20K US politicians that are affilated with a single US party."
   ],
   "metadata": {
    "id": "Lz3k4RpPIedg"
   }
  },
  {
   "cell_type": "markdown",
   "source": [
    "##### b) Handling politicians affiliated with multiple parties (but at least one US party)"
   ],
   "metadata": {
    "id": "CthVGOU8Iedg"
   }
  },
  {
   "cell_type": "code",
   "execution_count": 11,
   "source": [
    "us_politicians_multiple_party = us_politicians[us_politicians.party.apply(lambda x: len(x) > 1)]\n",
    "print(us_politicians_multiple_party.shape)\n",
    "us_politicians_multiple_party.head()"
   ],
   "outputs": [
    {
     "output_type": "stream",
     "name": "stdout",
     "text": [
      "(1354, 19)\n"
     ]
    },
    {
     "output_type": "execute_result",
     "data": {
      "text/html": [
       "<div>\n",
       "<style scoped>\n",
       "    .dataframe tbody tr th:only-of-type {\n",
       "        vertical-align: middle;\n",
       "    }\n",
       "\n",
       "    .dataframe tbody tr th {\n",
       "        vertical-align: top;\n",
       "    }\n",
       "\n",
       "    .dataframe thead th {\n",
       "        text-align: right;\n",
       "    }\n",
       "</style>\n",
       "<table border=\"1\" class=\"dataframe\">\n",
       "  <thead>\n",
       "    <tr style=\"text-align: right;\">\n",
       "      <th></th>\n",
       "      <th>aliases</th>\n",
       "      <th>date_of_birth</th>\n",
       "      <th>nationality</th>\n",
       "      <th>gender</th>\n",
       "      <th>lastrevid</th>\n",
       "      <th>ethnic_group</th>\n",
       "      <th>US_congress_bio_ID</th>\n",
       "      <th>occupation</th>\n",
       "      <th>party</th>\n",
       "      <th>academic_degree</th>\n",
       "      <th>id</th>\n",
       "      <th>label</th>\n",
       "      <th>candidacy</th>\n",
       "      <th>type</th>\n",
       "      <th>religion</th>\n",
       "      <th>age</th>\n",
       "      <th>party_count</th>\n",
       "      <th>party_start_date</th>\n",
       "      <th>party_end_date</th>\n",
       "    </tr>\n",
       "  </thead>\n",
       "  <tbody>\n",
       "    <tr>\n",
       "      <th>10098</th>\n",
       "      <td>None</td>\n",
       "      <td>[+1928-11-11T00:00:00Z]</td>\n",
       "      <td>[Q30]</td>\n",
       "      <td>[Q6581097]</td>\n",
       "      <td>1392741346</td>\n",
       "      <td>None</td>\n",
       "      <td>Z000013</td>\n",
       "      <td>[Q82955]</td>\n",
       "      <td>[Q29468, Q29552]</td>\n",
       "      <td>None</td>\n",
       "      <td>Q265668</td>\n",
       "      <td>Edward Zorinsky</td>\n",
       "      <td>None</td>\n",
       "      <td>item</td>\n",
       "      <td>[Q9268]</td>\n",
       "      <td>93</td>\n",
       "      <td>2</td>\n",
       "      <td>None</td>\n",
       "      <td>None</td>\n",
       "    </tr>\n",
       "    <tr>\n",
       "      <th>11762</th>\n",
       "      <td>[Henry Ross Perot, H. Ross Perot, Henry Ray Pe...</td>\n",
       "      <td>[+1930-06-27T00:00:00Z]</td>\n",
       "      <td>[Q30]</td>\n",
       "      <td>[Q6581097]</td>\n",
       "      <td>1393140990</td>\n",
       "      <td>None</td>\n",
       "      <td>None</td>\n",
       "      <td>[Q10669499, Q82955, Q131524]</td>\n",
       "      <td>[Q29468, Q1893430]</td>\n",
       "      <td>None</td>\n",
       "      <td>Q313697</td>\n",
       "      <td>Ross Perot</td>\n",
       "      <td>[Q659166]</td>\n",
       "      <td>item</td>\n",
       "      <td>None</td>\n",
       "      <td>91</td>\n",
       "      <td>2</td>\n",
       "      <td>None</td>\n",
       "      <td>None</td>\n",
       "    </tr>\n",
       "    <tr>\n",
       "      <th>18541</th>\n",
       "      <td>None</td>\n",
       "      <td>[+1938-04-15T00:00:00Z]</td>\n",
       "      <td>[Q30]</td>\n",
       "      <td>[Q6581097]</td>\n",
       "      <td>1392460323</td>\n",
       "      <td>None</td>\n",
       "      <td>None</td>\n",
       "      <td>[Q47064, Q82955]</td>\n",
       "      <td>[Q29552, Q29468]</td>\n",
       "      <td>None</td>\n",
       "      <td>Q489037</td>\n",
       "      <td>Jay Garner</td>\n",
       "      <td>None</td>\n",
       "      <td>item</td>\n",
       "      <td>None</td>\n",
       "      <td>83</td>\n",
       "      <td>2</td>\n",
       "      <td>None</td>\n",
       "      <td>None</td>\n",
       "    </tr>\n",
       "    <tr>\n",
       "      <th>20263</th>\n",
       "      <td>[Albio B. Sires]</td>\n",
       "      <td>[+1951-01-26T00:00:00Z]</td>\n",
       "      <td>[Q30, Q241]</td>\n",
       "      <td>[Q6581097]</td>\n",
       "      <td>1393425845</td>\n",
       "      <td>None</td>\n",
       "      <td>S001165</td>\n",
       "      <td>[Q82955, Q37226, Q43845]</td>\n",
       "      <td>[Q29552, Q29468]</td>\n",
       "      <td>None</td>\n",
       "      <td>Q527509</td>\n",
       "      <td>Albio Sires</td>\n",
       "      <td>None</td>\n",
       "      <td>item</td>\n",
       "      <td>None</td>\n",
       "      <td>70</td>\n",
       "      <td>2</td>\n",
       "      <td>None</td>\n",
       "      <td>None</td>\n",
       "    </tr>\n",
       "    <tr>\n",
       "      <th>23224</th>\n",
       "      <td>None</td>\n",
       "      <td>[+1940-10-07T00:00:00Z]</td>\n",
       "      <td>[Q30]</td>\n",
       "      <td>[Q6581097]</td>\n",
       "      <td>1393283295</td>\n",
       "      <td>None</td>\n",
       "      <td>V000087</td>\n",
       "      <td>[Q82955, Q37226]</td>\n",
       "      <td>[Q1937395, Q29552]</td>\n",
       "      <td>None</td>\n",
       "      <td>Q609379</td>\n",
       "      <td>Bruce Vento</td>\n",
       "      <td>None</td>\n",
       "      <td>item</td>\n",
       "      <td>[Q9592]</td>\n",
       "      <td>81</td>\n",
       "      <td>2</td>\n",
       "      <td>None</td>\n",
       "      <td>None</td>\n",
       "    </tr>\n",
       "  </tbody>\n",
       "</table>\n",
       "</div>"
      ],
      "text/plain": [
       "                                                 aliases  \\\n",
       "10098                                               None   \n",
       "11762  [Henry Ross Perot, H. Ross Perot, Henry Ray Pe...   \n",
       "18541                                               None   \n",
       "20263                                   [Albio B. Sires]   \n",
       "23224                                               None   \n",
       "\n",
       "                 date_of_birth  nationality      gender   lastrevid  \\\n",
       "10098  [+1928-11-11T00:00:00Z]        [Q30]  [Q6581097]  1392741346   \n",
       "11762  [+1930-06-27T00:00:00Z]        [Q30]  [Q6581097]  1393140990   \n",
       "18541  [+1938-04-15T00:00:00Z]        [Q30]  [Q6581097]  1392460323   \n",
       "20263  [+1951-01-26T00:00:00Z]  [Q30, Q241]  [Q6581097]  1393425845   \n",
       "23224  [+1940-10-07T00:00:00Z]        [Q30]  [Q6581097]  1393283295   \n",
       "\n",
       "      ethnic_group US_congress_bio_ID                    occupation  \\\n",
       "10098         None            Z000013                      [Q82955]   \n",
       "11762         None               None  [Q10669499, Q82955, Q131524]   \n",
       "18541         None               None              [Q47064, Q82955]   \n",
       "20263         None            S001165      [Q82955, Q37226, Q43845]   \n",
       "23224         None            V000087              [Q82955, Q37226]   \n",
       "\n",
       "                    party academic_degree       id            label  \\\n",
       "10098    [Q29468, Q29552]            None  Q265668  Edward Zorinsky   \n",
       "11762  [Q29468, Q1893430]            None  Q313697       Ross Perot   \n",
       "18541    [Q29552, Q29468]            None  Q489037       Jay Garner   \n",
       "20263    [Q29552, Q29468]            None  Q527509      Albio Sires   \n",
       "23224  [Q1937395, Q29552]            None  Q609379      Bruce Vento   \n",
       "\n",
       "       candidacy  type religion  age  party_count party_start_date  \\\n",
       "10098       None  item  [Q9268]   93            2             None   \n",
       "11762  [Q659166]  item     None   91            2             None   \n",
       "18541       None  item     None   83            2             None   \n",
       "20263       None  item     None   70            2             None   \n",
       "23224       None  item  [Q9592]   81            2             None   \n",
       "\n",
       "      party_end_date  \n",
       "10098           None  \n",
       "11762           None  \n",
       "18541           None  \n",
       "20263           None  \n",
       "23224           None  "
      ]
     },
     "metadata": {},
     "execution_count": 11
    }
   ],
   "metadata": {
    "colab": {
     "base_uri": "https://localhost:8080/",
     "height": 442
    },
    "id": "EQqKyF0cIedg",
    "outputId": "6cc5e10a-761a-4229-cbfa-4c23a7b50f53"
   }
  },
  {
   "cell_type": "markdown",
   "source": [
    "~1300 politicians are affiliated with multiple parties. In order to extract at which time they belonged to which party we need to perform additional analysis (e.g. querying wikidata)."
   ],
   "metadata": {
    "id": "7hASafa2Iedh"
   }
  },
  {
   "cell_type": "markdown",
   "source": [
    "When sending a SPARQL query we will use the ID's of the ~1300 politicians. However, this is too much and should be split into smaller chunks (e.g. chunk size ~350).\n",
    "<br>At the same time, the query will:\n",
    "- check if politician is alive or died after 2015\n",
    "- extract parties between 2015-2020 for each politician"
   ],
   "metadata": {
    "id": "Z5IrbAQ8Iedh"
   }
  },
  {
   "cell_type": "code",
   "execution_count": 12,
   "source": [
    "qids_multiple_party = us_politicians_multiple_party.id.apply(lambda x: \"wd:\"+x)\n",
    "qids_multiple_party = qids_multiple_party.tolist()\n",
    "\n",
    "CHUNK_SIZE = 350\n",
    "qids_multiple_party_chunks = [qids_multiple_party[x:x+CHUNK_SIZE] for x in range(0, len(qids_multiple_party), CHUNK_SIZE)]"
   ],
   "outputs": [],
   "metadata": {
    "id": "sUTDLHMWIedh"
   }
  },
  {
   "cell_type": "code",
   "execution_count": 13,
   "source": [
    "import requests\n",
    "\n",
    "us_politicians_party = us_politicians_unique_party \n",
    "\n",
    "url = 'https://query.wikidata.org/sparql'\n",
    "query_start = '''\n",
    "    SELECT ?item ?party ?startDate ?endDate WHERE{ \n",
    "      ?item\n",
    "      p:P102 ?statement.\n",
    "      ?statement ps:P102 ?party.\n",
    "\n",
    "      OPTIONAL {\n",
    "        ?statement pq:P580 ?startDate.\n",
    "      }\n",
    "\n",
    "      OPTIONAL {\n",
    "        ?statement pq:P582 ?endDate.\n",
    "      }\n",
    "\n",
    "      OPTIONAL {\n",
    "        ?item wdt:P570 ?dday.  \n",
    "      }\n",
    "\n",
    "      FILTER (?item in (\n",
    "      ''' \n",
    "query_end = '''\n",
    "        ))\n",
    "      \n",
    "      FILTER ((bound(?endDate) && year(?endDate) > 2015) || (bound(?startDate) && !bound(?endDate)))\n",
    "  \n",
    "      FILTER (!bound(?dday) || year(?dday) > 2015) \n",
    "  \n",
    "      SERVICE wikibase:label {\n",
    "        bd:serviceParam wikibase:language \"en\" .\n",
    "      }\n",
    "    }\n",
    "    ORDER BY ?item ?startDate\n",
    "'''\n",
    "\n",
    "for chunk in qids_multiple_party_chunks:\n",
    "    \n",
    "    chunk_string = \",\".join(chunk)\n",
    "    query = query_start + chunk_string + query_end\n",
    "    \n",
    "    r = requests.get(url, params = {'format': 'json', 'query': query})\n",
    "    data = r.json()\n",
    "\n",
    "    for result in data[\"results\"][\"bindings\"]:\n",
    "        \n",
    "        qid = result[\"item\"][\"value\"].split('/')[-1]\n",
    "        party = result[\"party\"][\"value\"].split('/')[-1]\n",
    "        party_start_date = result.get(\"startDate\", {}).get(\"value\", {})\n",
    "        party_end_date = result.get(\"endDate\", {}).get(\"value\", {})\n",
    "        \n",
    "        politician = us_politicians_multiple_party.loc[us_politicians_multiple_party['id'] == qid]\n",
    "        politician.loc[:, ('party')] = party\n",
    "        politician.loc[:, ('party_start_date')] = party_start_date if bool(party_start_date) else None\n",
    "        politician.loc[:, ('party_end_date')] = party_end_date if bool(party_end_date) else None\n",
    "        \n",
    "        us_politicians_party = us_politicians_party.append(politician, ignore_index=True)\n",
    "    \n",
    "print(us_politicians_party.shape)\n",
    "us_politicians_party.tail()"
   ],
   "outputs": [
    {
     "output_type": "stream",
     "name": "stdout",
     "text": [
      "(20459, 19)\n"
     ]
    },
    {
     "output_type": "execute_result",
     "data": {
      "text/html": [
       "<div>\n",
       "<style scoped>\n",
       "    .dataframe tbody tr th:only-of-type {\n",
       "        vertical-align: middle;\n",
       "    }\n",
       "\n",
       "    .dataframe tbody tr th {\n",
       "        vertical-align: top;\n",
       "    }\n",
       "\n",
       "    .dataframe thead th {\n",
       "        text-align: right;\n",
       "    }\n",
       "</style>\n",
       "<table border=\"1\" class=\"dataframe\">\n",
       "  <thead>\n",
       "    <tr style=\"text-align: right;\">\n",
       "      <th></th>\n",
       "      <th>aliases</th>\n",
       "      <th>date_of_birth</th>\n",
       "      <th>nationality</th>\n",
       "      <th>gender</th>\n",
       "      <th>lastrevid</th>\n",
       "      <th>ethnic_group</th>\n",
       "      <th>US_congress_bio_ID</th>\n",
       "      <th>occupation</th>\n",
       "      <th>party</th>\n",
       "      <th>academic_degree</th>\n",
       "      <th>id</th>\n",
       "      <th>label</th>\n",
       "      <th>candidacy</th>\n",
       "      <th>type</th>\n",
       "      <th>religion</th>\n",
       "      <th>age</th>\n",
       "      <th>party_count</th>\n",
       "      <th>party_start_date</th>\n",
       "      <th>party_end_date</th>\n",
       "    </tr>\n",
       "  </thead>\n",
       "  <tbody>\n",
       "    <tr>\n",
       "      <th>20454</th>\n",
       "      <td>[William F. Weld, William Floyd Weld, William ...</td>\n",
       "      <td>[+1945-07-31T00:00:00Z]</td>\n",
       "      <td>[Q30]</td>\n",
       "      <td>[Q6581097]</td>\n",
       "      <td>1393565868</td>\n",
       "      <td>None</td>\n",
       "      <td>None</td>\n",
       "      <td>[Q40348, Q6625963, Q82955]</td>\n",
       "      <td>Q558334</td>\n",
       "      <td>None</td>\n",
       "      <td>Q720242</td>\n",
       "      <td>Bill Weld</td>\n",
       "      <td>[Q38051523]</td>\n",
       "      <td>item</td>\n",
       "      <td>[Q682443]</td>\n",
       "      <td>76</td>\n",
       "      <td>3</td>\n",
       "      <td>2016-05-01T00:00:00Z</td>\n",
       "      <td>2019-01-01T00:00:00Z</td>\n",
       "    </tr>\n",
       "    <tr>\n",
       "      <th>20455</th>\n",
       "      <td>[William F. Weld, William Floyd Weld, William ...</td>\n",
       "      <td>[+1945-07-31T00:00:00Z]</td>\n",
       "      <td>[Q30]</td>\n",
       "      <td>[Q6581097]</td>\n",
       "      <td>1393565868</td>\n",
       "      <td>None</td>\n",
       "      <td>None</td>\n",
       "      <td>[Q40348, Q6625963, Q82955]</td>\n",
       "      <td>Q29468</td>\n",
       "      <td>None</td>\n",
       "      <td>Q720242</td>\n",
       "      <td>Bill Weld</td>\n",
       "      <td>[Q38051523]</td>\n",
       "      <td>item</td>\n",
       "      <td>[Q682443]</td>\n",
       "      <td>76</td>\n",
       "      <td>3</td>\n",
       "      <td>2019-01-17T00:00:00Z</td>\n",
       "      <td>None</td>\n",
       "    </tr>\n",
       "    <tr>\n",
       "      <th>20456</th>\n",
       "      <td>None</td>\n",
       "      <td>[+1940-10-31T00:00:00Z]</td>\n",
       "      <td>[Q30]</td>\n",
       "      <td>[Q6581097]</td>\n",
       "      <td>1392111332</td>\n",
       "      <td>None</td>\n",
       "      <td>None</td>\n",
       "      <td>[Q82955]</td>\n",
       "      <td>Q29552</td>\n",
       "      <td>None</td>\n",
       "      <td>Q7287985</td>\n",
       "      <td>Ralph R. Caputo</td>\n",
       "      <td>None</td>\n",
       "      <td>item</td>\n",
       "      <td>None</td>\n",
       "      <td>81</td>\n",
       "      <td>2</td>\n",
       "      <td>1982-01-01T00:00:00Z</td>\n",
       "      <td>None</td>\n",
       "    </tr>\n",
       "    <tr>\n",
       "      <th>20457</th>\n",
       "      <td>[Wilbur L. Ross, Jr., Wilbur Louis Ross Jr.]</td>\n",
       "      <td>[+1937-11-28T00:00:00Z]</td>\n",
       "      <td>[Q30]</td>\n",
       "      <td>[Q6581097]</td>\n",
       "      <td>1393402827</td>\n",
       "      <td>None</td>\n",
       "      <td>None</td>\n",
       "      <td>[Q1979607, Q557880, Q82955, Q806798, Q10732476]</td>\n",
       "      <td>Q29552</td>\n",
       "      <td>None</td>\n",
       "      <td>Q8000233</td>\n",
       "      <td>Wilbur Ross</td>\n",
       "      <td>None</td>\n",
       "      <td>item</td>\n",
       "      <td>[Q1841]</td>\n",
       "      <td>84</td>\n",
       "      <td>2</td>\n",
       "      <td>None</td>\n",
       "      <td>2016-01-01T00:00:00Z</td>\n",
       "    </tr>\n",
       "    <tr>\n",
       "      <th>20458</th>\n",
       "      <td>[Wilbur L. Ross, Jr., Wilbur Louis Ross Jr.]</td>\n",
       "      <td>[+1937-11-28T00:00:00Z]</td>\n",
       "      <td>[Q30]</td>\n",
       "      <td>[Q6581097]</td>\n",
       "      <td>1393402827</td>\n",
       "      <td>None</td>\n",
       "      <td>None</td>\n",
       "      <td>[Q1979607, Q557880, Q82955, Q806798, Q10732476]</td>\n",
       "      <td>Q29468</td>\n",
       "      <td>None</td>\n",
       "      <td>Q8000233</td>\n",
       "      <td>Wilbur Ross</td>\n",
       "      <td>None</td>\n",
       "      <td>item</td>\n",
       "      <td>[Q1841]</td>\n",
       "      <td>84</td>\n",
       "      <td>2</td>\n",
       "      <td>2016-01-01T00:00:00Z</td>\n",
       "      <td>None</td>\n",
       "    </tr>\n",
       "  </tbody>\n",
       "</table>\n",
       "</div>"
      ],
      "text/plain": [
       "                                                 aliases  \\\n",
       "20454  [William F. Weld, William Floyd Weld, William ...   \n",
       "20455  [William F. Weld, William Floyd Weld, William ...   \n",
       "20456                                               None   \n",
       "20457       [Wilbur L. Ross, Jr., Wilbur Louis Ross Jr.]   \n",
       "20458       [Wilbur L. Ross, Jr., Wilbur Louis Ross Jr.]   \n",
       "\n",
       "                 date_of_birth nationality      gender   lastrevid  \\\n",
       "20454  [+1945-07-31T00:00:00Z]       [Q30]  [Q6581097]  1393565868   \n",
       "20455  [+1945-07-31T00:00:00Z]       [Q30]  [Q6581097]  1393565868   \n",
       "20456  [+1940-10-31T00:00:00Z]       [Q30]  [Q6581097]  1392111332   \n",
       "20457  [+1937-11-28T00:00:00Z]       [Q30]  [Q6581097]  1393402827   \n",
       "20458  [+1937-11-28T00:00:00Z]       [Q30]  [Q6581097]  1393402827   \n",
       "\n",
       "      ethnic_group US_congress_bio_ID  \\\n",
       "20454         None               None   \n",
       "20455         None               None   \n",
       "20456         None               None   \n",
       "20457         None               None   \n",
       "20458         None               None   \n",
       "\n",
       "                                            occupation    party  \\\n",
       "20454                       [Q40348, Q6625963, Q82955]  Q558334   \n",
       "20455                       [Q40348, Q6625963, Q82955]   Q29468   \n",
       "20456                                         [Q82955]   Q29552   \n",
       "20457  [Q1979607, Q557880, Q82955, Q806798, Q10732476]   Q29552   \n",
       "20458  [Q1979607, Q557880, Q82955, Q806798, Q10732476]   Q29468   \n",
       "\n",
       "      academic_degree        id            label    candidacy  type  \\\n",
       "20454            None   Q720242        Bill Weld  [Q38051523]  item   \n",
       "20455            None   Q720242        Bill Weld  [Q38051523]  item   \n",
       "20456            None  Q7287985  Ralph R. Caputo         None  item   \n",
       "20457            None  Q8000233      Wilbur Ross         None  item   \n",
       "20458            None  Q8000233      Wilbur Ross         None  item   \n",
       "\n",
       "        religion  age  party_count      party_start_date        party_end_date  \n",
       "20454  [Q682443]   76            3  2016-05-01T00:00:00Z  2019-01-01T00:00:00Z  \n",
       "20455  [Q682443]   76            3  2019-01-17T00:00:00Z                  None  \n",
       "20456       None   81            2  1982-01-01T00:00:00Z                  None  \n",
       "20457    [Q1841]   84            2                  None  2016-01-01T00:00:00Z  \n",
       "20458    [Q1841]   84            2  2016-01-01T00:00:00Z                  None  "
      ]
     },
     "metadata": {},
     "execution_count": 13
    }
   ],
   "metadata": {
    "colab": {
     "base_uri": "https://localhost:8080/",
     "height": 677
    },
    "id": "omo-qT8TIedh",
    "outputId": "8e9db7ef-4390-4c74-8dad-4bad52fe7332"
   }
  },
  {
   "cell_type": "markdown",
   "source": [
    "### Removing unnecessary columns\n",
    "\n",
    "At the moment our dataset has 19 columns. However, some of them (e.g. lastrevid, type, etc.) are not important for our analysis and should be removed before exporting the dataset in order to reduce memory consumption."
   ],
   "metadata": {
    "id": "u1QDuTpmMBon"
   }
  },
  {
   "cell_type": "code",
   "execution_count": 14,
   "source": [
    "unnecessary_columns = ['lastrevid', 'aliases', 'type', 'party_count']\n",
    "us_politicians_party = us_politicians_party.drop(columns=unnecessary_columns)\n",
    "\n",
    "us_politicians_party.head()"
   ],
   "outputs": [
    {
     "output_type": "execute_result",
     "data": {
      "text/html": [
       "<div>\n",
       "<style scoped>\n",
       "    .dataframe tbody tr th:only-of-type {\n",
       "        vertical-align: middle;\n",
       "    }\n",
       "\n",
       "    .dataframe tbody tr th {\n",
       "        vertical-align: top;\n",
       "    }\n",
       "\n",
       "    .dataframe thead th {\n",
       "        text-align: right;\n",
       "    }\n",
       "</style>\n",
       "<table border=\"1\" class=\"dataframe\">\n",
       "  <thead>\n",
       "    <tr style=\"text-align: right;\">\n",
       "      <th></th>\n",
       "      <th>date_of_birth</th>\n",
       "      <th>nationality</th>\n",
       "      <th>gender</th>\n",
       "      <th>ethnic_group</th>\n",
       "      <th>US_congress_bio_ID</th>\n",
       "      <th>occupation</th>\n",
       "      <th>party</th>\n",
       "      <th>academic_degree</th>\n",
       "      <th>id</th>\n",
       "      <th>label</th>\n",
       "      <th>candidacy</th>\n",
       "      <th>religion</th>\n",
       "      <th>age</th>\n",
       "      <th>party_start_date</th>\n",
       "      <th>party_end_date</th>\n",
       "    </tr>\n",
       "  </thead>\n",
       "  <tbody>\n",
       "    <tr>\n",
       "      <th>0</th>\n",
       "      <td>[+1946-07-06T00:00:00Z]</td>\n",
       "      <td>[Q30]</td>\n",
       "      <td>[Q6581097]</td>\n",
       "      <td>None</td>\n",
       "      <td>None</td>\n",
       "      <td>[Q82955, Q15982858, Q18814623, Q1028181, Q1408...</td>\n",
       "      <td>[Q29468]</td>\n",
       "      <td>None</td>\n",
       "      <td>Q207</td>\n",
       "      <td>George W. Bush</td>\n",
       "      <td>[Q327959, Q464075, Q3586276, Q4450587]</td>\n",
       "      <td>[Q329646, Q682443, Q33203]</td>\n",
       "      <td>75</td>\n",
       "      <td>None</td>\n",
       "      <td>None</td>\n",
       "    </tr>\n",
       "    <tr>\n",
       "      <th>1</th>\n",
       "      <td>[+1947-03-12T00:00:00Z]</td>\n",
       "      <td>[Q30]</td>\n",
       "      <td>[Q6581097]</td>\n",
       "      <td>None</td>\n",
       "      <td>R000615</td>\n",
       "      <td>[Q82955, Q15978655, Q43845, Q15980158, Q219477]</td>\n",
       "      <td>[Q29468]</td>\n",
       "      <td>[Q1765120, Q191701, Q1540185]</td>\n",
       "      <td>Q4496</td>\n",
       "      <td>Mitt Romney</td>\n",
       "      <td>[Q937607, Q4226, Q4791860, Q17100322]</td>\n",
       "      <td>[Q42504]</td>\n",
       "      <td>74</td>\n",
       "      <td>None</td>\n",
       "      <td>None</td>\n",
       "    </tr>\n",
       "    <tr>\n",
       "      <th>2</th>\n",
       "      <td>[+1938-08-15T00:00:00Z]</td>\n",
       "      <td>[Q30]</td>\n",
       "      <td>[Q6581097]</td>\n",
       "      <td>None</td>\n",
       "      <td>None</td>\n",
       "      <td>[Q185351, Q16533, Q40348, Q1622272, Q82955]</td>\n",
       "      <td>[Q29552]</td>\n",
       "      <td>None</td>\n",
       "      <td>Q11124</td>\n",
       "      <td>Stephen Breyer</td>\n",
       "      <td>None</td>\n",
       "      <td>[Q9268]</td>\n",
       "      <td>83</td>\n",
       "      <td>None</td>\n",
       "      <td>None</td>\n",
       "    </tr>\n",
       "    <tr>\n",
       "      <th>3</th>\n",
       "      <td>[+1954-05-20T00:00:00Z]</td>\n",
       "      <td>[Q30]</td>\n",
       "      <td>[Q6581097]</td>\n",
       "      <td>[Q49085]</td>\n",
       "      <td>None</td>\n",
       "      <td>[Q82955]</td>\n",
       "      <td>[Q29552]</td>\n",
       "      <td>None</td>\n",
       "      <td>Q11674</td>\n",
       "      <td>David Paterson</td>\n",
       "      <td>None</td>\n",
       "      <td>None</td>\n",
       "      <td>67</td>\n",
       "      <td>None</td>\n",
       "      <td>None</td>\n",
       "    </tr>\n",
       "    <tr>\n",
       "      <th>4</th>\n",
       "      <td>[+1951-09-02T00:00:00Z]</td>\n",
       "      <td>[Q30]</td>\n",
       "      <td>[Q6581097]</td>\n",
       "      <td>None</td>\n",
       "      <td>D000595</td>\n",
       "      <td>[Q82955, Q2961975]</td>\n",
       "      <td>[Q29468]</td>\n",
       "      <td>None</td>\n",
       "      <td>Q22201</td>\n",
       "      <td>Jim DeMint</td>\n",
       "      <td>None</td>\n",
       "      <td>[Q178169]</td>\n",
       "      <td>70</td>\n",
       "      <td>None</td>\n",
       "      <td>None</td>\n",
       "    </tr>\n",
       "  </tbody>\n",
       "</table>\n",
       "</div>"
      ],
      "text/plain": [
       "             date_of_birth nationality      gender ethnic_group  \\\n",
       "0  [+1946-07-06T00:00:00Z]       [Q30]  [Q6581097]         None   \n",
       "1  [+1947-03-12T00:00:00Z]       [Q30]  [Q6581097]         None   \n",
       "2  [+1938-08-15T00:00:00Z]       [Q30]  [Q6581097]         None   \n",
       "3  [+1954-05-20T00:00:00Z]       [Q30]  [Q6581097]     [Q49085]   \n",
       "4  [+1951-09-02T00:00:00Z]       [Q30]  [Q6581097]         None   \n",
       "\n",
       "  US_congress_bio_ID                                         occupation  \\\n",
       "0               None  [Q82955, Q15982858, Q18814623, Q1028181, Q1408...   \n",
       "1            R000615    [Q82955, Q15978655, Q43845, Q15980158, Q219477]   \n",
       "2               None        [Q185351, Q16533, Q40348, Q1622272, Q82955]   \n",
       "3               None                                           [Q82955]   \n",
       "4            D000595                                 [Q82955, Q2961975]   \n",
       "\n",
       "      party                academic_degree      id           label  \\\n",
       "0  [Q29468]                           None    Q207  George W. Bush   \n",
       "1  [Q29468]  [Q1765120, Q191701, Q1540185]   Q4496     Mitt Romney   \n",
       "2  [Q29552]                           None  Q11124  Stephen Breyer   \n",
       "3  [Q29552]                           None  Q11674  David Paterson   \n",
       "4  [Q29468]                           None  Q22201      Jim DeMint   \n",
       "\n",
       "                                candidacy                    religion  age  \\\n",
       "0  [Q327959, Q464075, Q3586276, Q4450587]  [Q329646, Q682443, Q33203]   75   \n",
       "1   [Q937607, Q4226, Q4791860, Q17100322]                    [Q42504]   74   \n",
       "2                                    None                     [Q9268]   83   \n",
       "3                                    None                        None   67   \n",
       "4                                    None                   [Q178169]   70   \n",
       "\n",
       "  party_start_date party_end_date  \n",
       "0             None           None  \n",
       "1             None           None  \n",
       "2             None           None  \n",
       "3             None           None  \n",
       "4             None           None  "
      ]
     },
     "metadata": {},
     "execution_count": 14
    }
   ],
   "metadata": {
    "colab": {
     "base_uri": "https://localhost:8080/",
     "height": 458
    },
    "id": "DamGtpb2MZRB",
    "outputId": "cd088f15-205a-4f76-bede-9fdc60554740"
   }
  },
  {
   "cell_type": "markdown",
   "source": [
    "### Exporting the dataset of US politicians"
   ],
   "metadata": {
    "id": "ox1z14jpMyc0"
   }
  },
  {
   "cell_type": "code",
   "execution_count": 15,
   "source": [
    "us_politicians_party.to_json('../data/us_politicians.json.bz2', compression='bz2', lines=True, orient='records')"
   ],
   "outputs": [],
   "metadata": {
    "id": "WxSZpzZVIedk"
   }
  }
 ],
 "metadata": {
  "colab": {
   "collapsed_sections": [],
   "name": "Copy_of_data_preprocessing.ipynb",
   "provenance": [],
   "toc_visible": true
  },
  "kernelspec": {
   "display_name": "Python 3 (ipykernel)",
   "language": "python",
   "name": "python3"
  },
  "language_info": {
   "codemirror_mode": {
    "name": "ipython",
    "version": 3
   },
   "file_extension": ".py",
   "mimetype": "text/x-python",
   "name": "python",
   "nbconvert_exporter": "python",
   "pygments_lexer": "ipython3",
   "version": "3.8.11"
  },
  "toc": {
   "base_numbering": 1,
   "nav_menu": {},
   "number_sections": true,
   "sideBar": true,
   "skip_h1_title": true,
   "title_cell": "Table of Contents",
   "title_sidebar": "Contents",
   "toc_cell": false,
   "toc_position": {},
   "toc_section_display": true,
   "toc_window_display": true
  }
 },
 "nbformat": 4,
 "nbformat_minor": 4
}