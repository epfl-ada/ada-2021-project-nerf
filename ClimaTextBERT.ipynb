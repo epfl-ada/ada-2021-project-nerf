{
 "cells": [
  {
   "cell_type": "markdown",
   "id": "3fc12362-4f3a-41d3-a41a-d3676079a007",
   "metadata": {
    "id": "iZWU2t0LZDwq"
   },
   "source": [
    "# BERT ClimaText\n",
    "\n",
    "In this notebook we will train and evaluate the BERT ClimaText model which will be used for extracting quotes which have to do with climate change.\n",
    "The dataset used is presented in [[1]](#refs)\n",
    "\n",
    "Contents:\n",
    "- [Training the model](#train)\n",
    "- [Using ClimaTextBERT to extract quotes](#extracteval)\n",
    "    - [Evaluating the model](#eval)\n",
    "    - [Extracting Quotes using the model](#extract)\n",
    "\n"
   ]
  },
  {
   "cell_type": "markdown",
   "id": "f59768ea-abdf-4837-b3cd-34be2f099efc",
   "metadata": {},
   "source": [
    "<a id='train'></a>\n",
    "# Training the model\n",
    "\n",
    "First we download the training and validation datasets as provided in ClimaText"
   ]
  },
  {
   "cell_type": "code",
   "execution_count": null,
   "id": "33412430-044a-45f0-a5ff-767f0cb35ff1",
   "metadata": {
    "colab": {
     "base_uri": "https://localhost:8080/"
    },
    "id": "zs0YgSy1ZCPl",
    "outputId": "2bf69219-5f28-4cd9-ca48-6878ea2b8dae"
   },
   "outputs": [],
   "source": [
    "!wget \"https://www.sustainablefinance.uzh.ch/dam/jcr:c4f6e427-6b84-41ca-a016-e66337fb283b/Wiki-Doc-Train.tsv\" -O \"WikiDoc.tsv\"\n",
    "!wget \"https://www.sustainablefinance.uzh.ch/dam/jcr:43546a2f-82d6-49a3-af54-69b02cff54a9/AL-10Ks.tsv%20:%203000%20(58%20positives,%202942%20negatives)%20(TSV,%20127138%20KB).tsv\" -O \"AL10Ks.tsv\"\n",
    "!wget \"https://www.sustainablefinance.uzh.ch/dam/jcr:9d139a47-878c-4d2c-b9a7-cbb982e284b9/AL-Wiki%20(train).tsv\" -O \"ALWiki.tsv\""
   ]
  },
  {
   "cell_type": "markdown",
   "id": "bb152d90-2269-43de-b2d8-754df6425cdd",
   "metadata": {
    "id": "Rxboc1GsaBts"
   },
   "source": [
    "For training the model we will use transformers module from HuggingFact. To be more precise, we will use Distil BERT for Sequence Classification which will be finetuned on the WikiDoc and AL10Ks datasets. <br>\n",
    "We will import the needed modules\n"
   ]
  },
  {
   "cell_type": "code",
   "execution_count": null,
   "id": "635a5f8c-ec57-4708-834a-a5bcd68d6dfa",
   "metadata": {
    "colab": {
     "base_uri": "https://localhost:8080/"
    },
    "id": "JebGpI-IZKhZ",
    "outputId": "2aa65479-a1d3-45aa-90f7-8a75783ae974"
   },
   "outputs": [],
   "source": [
    "from sklearn.model_selection import train_test_split\n",
    "# Load Huggingface transformers\n",
    "from transformers import DistilBertTokenizerFast, DistilBertForSequenceClassification, Trainer, TrainingArguments\n",
    "import pandas as pd\n",
    "import torch\n",
    "import numpy as np"
   ]
  },
  {
   "cell_type": "markdown",
   "id": "f168d315-57a9-4ad9-a3ea-9ea383dceecf",
   "metadata": {
    "id": "mwHX0hVSdWGs"
   },
   "source": [
    "First we load the datasets"
   ]
  },
  {
   "cell_type": "code",
   "execution_count": 2,
   "id": "e1b76182-4f1c-4526-8445-1c39b1080e66",
   "metadata": {
    "id": "bQZeWphicd4c"
   },
   "outputs": [],
   "source": [
    "wiki_train_data = pd.read_csv(\"WikiDoc.tsv\", sep='\\t')\n",
    "al10ks_train_data = pd.read_csv(\"AL10Ks.tsv\", sep='\\t')\n",
    "alwiki_train_data = pd.read_csv(\"ALWiki.tsv\", sep='\\t')"
   ]
  },
  {
   "cell_type": "code",
   "execution_count": 3,
   "id": "c0aa48f1-0621-4c7e-a01b-d42a10034481",
   "metadata": {
    "id": "0OG2yw1wddkM"
   },
   "outputs": [],
   "source": [
    "train1 = wiki_train_data\n",
    "train2 = pd.concat([al10ks_train_data, alwiki_train_data])"
   ]
  },
  {
   "cell_type": "markdown",
   "id": "d98a9bbe-bb11-4a5a-b4d6-2d3f49eb748e",
   "metadata": {},
   "source": [
    "The first training set will be the WikiDoc dataset which is made from wikipedia extractions from pages which are classified as related to climate change. <br>\n",
    "This data set is large containing 115k sentences. However, this dataset has a lot of mistakes because it assumes that a sentence will be related to climate change only due to the fact that it is from an article which might be in some way connected to the topic of climate change. Additionally, this dataset does not contain quotes, but reather scientific statements. "
   ]
  },
  {
   "cell_type": "code",
   "execution_count": 4,
   "id": "3e5def92-5b1f-4521-92d8-fd427c1c4385",
   "metadata": {
    "colab": {
     "base_uri": "https://localhost:8080/",
     "height": 424
    },
    "id": "alZW4ECMkdyu",
    "outputId": "f6515a8e-bb84-4b88-efc4-a0057484e7d4"
   },
   "outputs": [
    {
     "data": {
      "text/html": [
       "<div>\n",
       "<style scoped>\n",
       "    .dataframe tbody tr th:only-of-type {\n",
       "        vertical-align: middle;\n",
       "    }\n",
       "\n",
       "    .dataframe tbody tr th {\n",
       "        vertical-align: top;\n",
       "    }\n",
       "\n",
       "    .dataframe thead th {\n",
       "        text-align: right;\n",
       "    }\n",
       "</style>\n",
       "<table border=\"1\" class=\"dataframe\">\n",
       "  <thead>\n",
       "    <tr style=\"text-align: right;\">\n",
       "      <th></th>\n",
       "      <th>id</th>\n",
       "      <th>label</th>\n",
       "      <th>title</th>\n",
       "      <th>paragraph</th>\n",
       "      <th>sentence</th>\n",
       "    </tr>\n",
       "  </thead>\n",
       "  <tbody>\n",
       "    <tr>\n",
       "      <th>0</th>\n",
       "      <td>0</td>\n",
       "      <td>1</td>\n",
       "      <td>Algae</td>\n",
       "      <td>1</td>\n",
       "      <td>Algae (; singular alga ) is an informal term f...</td>\n",
       "    </tr>\n",
       "    <tr>\n",
       "      <th>1</th>\n",
       "      <td>1</td>\n",
       "      <td>1</td>\n",
       "      <td>Algae</td>\n",
       "      <td>1</td>\n",
       "      <td>Included organisms range from unicellular micr...</td>\n",
       "    </tr>\n",
       "    <tr>\n",
       "      <th>2</th>\n",
       "      <td>2</td>\n",
       "      <td>1</td>\n",
       "      <td>Algae</td>\n",
       "      <td>1</td>\n",
       "      <td>Most are aquatic and autotrophic and lack many...</td>\n",
       "    </tr>\n",
       "    <tr>\n",
       "      <th>3</th>\n",
       "      <td>3</td>\n",
       "      <td>1</td>\n",
       "      <td>Algae</td>\n",
       "      <td>1</td>\n",
       "      <td>The largest and most complex marine algae are ...</td>\n",
       "    </tr>\n",
       "    <tr>\n",
       "      <th>4</th>\n",
       "      <td>4</td>\n",
       "      <td>1</td>\n",
       "      <td>Algae</td>\n",
       "      <td>2</td>\n",
       "      <td>No definition of algae is generally accepted.</td>\n",
       "    </tr>\n",
       "    <tr>\n",
       "      <th>...</th>\n",
       "      <td>...</td>\n",
       "      <td>...</td>\n",
       "      <td>...</td>\n",
       "      <td>...</td>\n",
       "      <td>...</td>\n",
       "    </tr>\n",
       "    <tr>\n",
       "      <th>115842</th>\n",
       "      <td>115849</td>\n",
       "      <td>0</td>\n",
       "      <td>Igor Uporov</td>\n",
       "      <td>7</td>\n",
       "      <td>The Ural Siberian Bar Association gathers expe...</td>\n",
       "    </tr>\n",
       "    <tr>\n",
       "      <th>115843</th>\n",
       "      <td>115850</td>\n",
       "      <td>0</td>\n",
       "      <td>Roberta Allen</td>\n",
       "      <td>3</td>\n",
       "      <td>In 2014, the Athenaeum Music &amp; Arts Library in...</td>\n",
       "    </tr>\n",
       "    <tr>\n",
       "      <th>115844</th>\n",
       "      <td>115851</td>\n",
       "      <td>0</td>\n",
       "      <td>Mons</td>\n",
       "      <td>55</td>\n",
       "      <td>The Neo-Egyptian style then became a reference...</td>\n",
       "    </tr>\n",
       "    <tr>\n",
       "      <th>115845</th>\n",
       "      <td>115852</td>\n",
       "      <td>0</td>\n",
       "      <td>2005 Roger Federer tennis season</td>\n",
       "      <td>18</td>\n",
       "      <td>Federer arrived in New York and once again fou...</td>\n",
       "    </tr>\n",
       "    <tr>\n",
       "      <th>115846</th>\n",
       "      <td>115853</td>\n",
       "      <td>0</td>\n",
       "      <td>Rad Mobile</td>\n",
       "      <td>6</td>\n",
       "      <td>On release, \"Sega Saturn Tsūshin\" scored the g...</td>\n",
       "    </tr>\n",
       "  </tbody>\n",
       "</table>\n",
       "<p>115847 rows × 5 columns</p>\n",
       "</div>"
      ],
      "text/plain": [
       "            id  label                             title  paragraph  \\\n",
       "0            0      1                             Algae          1   \n",
       "1            1      1                             Algae          1   \n",
       "2            2      1                             Algae          1   \n",
       "3            3      1                             Algae          1   \n",
       "4            4      1                             Algae          2   \n",
       "...        ...    ...                               ...        ...   \n",
       "115842  115849      0                       Igor Uporov          7   \n",
       "115843  115850      0                     Roberta Allen          3   \n",
       "115844  115851      0                              Mons         55   \n",
       "115845  115852      0  2005 Roger Federer tennis season         18   \n",
       "115846  115853      0                        Rad Mobile          6   \n",
       "\n",
       "                                                 sentence  \n",
       "0       Algae (; singular alga ) is an informal term f...  \n",
       "1       Included organisms range from unicellular micr...  \n",
       "2       Most are aquatic and autotrophic and lack many...  \n",
       "3       The largest and most complex marine algae are ...  \n",
       "4           No definition of algae is generally accepted.  \n",
       "...                                                   ...  \n",
       "115842  The Ural Siberian Bar Association gathers expe...  \n",
       "115843  In 2014, the Athenaeum Music & Arts Library in...  \n",
       "115844  The Neo-Egyptian style then became a reference...  \n",
       "115845  Federer arrived in New York and once again fou...  \n",
       "115846  On release, \"Sega Saturn Tsūshin\" scored the g...  \n",
       "\n",
       "[115847 rows x 5 columns]"
      ]
     },
     "execution_count": 4,
     "metadata": {},
     "output_type": "execute_result"
    }
   ],
   "source": [
    "train1"
   ]
  },
  {
   "cell_type": "markdown",
   "id": "1444395a-d8fe-4a34-b28f-76184827dc30",
   "metadata": {},
   "source": [
    "The second training set is related to actual claims/quotes and are much closer to our problem. Moreover, after analyzing the training set we saw that it is also noticably more accurate."
   ]
  },
  {
   "cell_type": "code",
   "execution_count": 5,
   "id": "c8d4d529-87da-4f81-b339-7a5a1b11d76c",
   "metadata": {
    "colab": {
     "base_uri": "https://localhost:8080/",
     "height": 424
    },
    "id": "lIhFFWHPkwDK",
    "outputId": "1aea5f00-1b57-4b13-9bf4-2660abaebbc6"
   },
   "outputs": [
    {
     "data": {
      "text/html": [
       "<div>\n",
       "<style scoped>\n",
       "    .dataframe tbody tr th:only-of-type {\n",
       "        vertical-align: middle;\n",
       "    }\n",
       "\n",
       "    .dataframe tbody tr th {\n",
       "        vertical-align: top;\n",
       "    }\n",
       "\n",
       "    .dataframe thead th {\n",
       "        text-align: right;\n",
       "    }\n",
       "</style>\n",
       "<table border=\"1\" class=\"dataframe\">\n",
       "  <thead>\n",
       "    <tr style=\"text-align: right;\">\n",
       "      <th></th>\n",
       "      <th>id</th>\n",
       "      <th>label</th>\n",
       "      <th>title</th>\n",
       "      <th>paragraph</th>\n",
       "      <th>sentence</th>\n",
       "    </tr>\n",
       "  </thead>\n",
       "  <tbody>\n",
       "    <tr>\n",
       "      <th>0</th>\n",
       "      <td>54</td>\n",
       "      <td>0</td>\n",
       "      <td>1000045/1000045_10K_2014.htm</td>\n",
       "      <td>11</td>\n",
       "      <td>•   collection of debts from loan customers wh...</td>\n",
       "    </tr>\n",
       "    <tr>\n",
       "      <th>1</th>\n",
       "      <td>610</td>\n",
       "      <td>0</td>\n",
       "      <td>1000229/1000229_10K_2014.htm</td>\n",
       "      <td>1</td>\n",
       "      <td>All known, material risks and uncertainties ar...</td>\n",
       "    </tr>\n",
       "    <tr>\n",
       "      <th>2</th>\n",
       "      <td>708</td>\n",
       "      <td>1</td>\n",
       "      <td>1000229/1000229_10K_2014.htm</td>\n",
       "      <td>25</td>\n",
       "      <td>Although it is not possible at this time to pr...</td>\n",
       "    </tr>\n",
       "    <tr>\n",
       "      <th>3</th>\n",
       "      <td>1013</td>\n",
       "      <td>0</td>\n",
       "      <td>1000298/1000298_10K_2014.htm</td>\n",
       "      <td>80</td>\n",
       "      <td>Ifthere is a decline in real estate values, as...</td>\n",
       "    </tr>\n",
       "    <tr>\n",
       "      <th>4</th>\n",
       "      <td>1084</td>\n",
       "      <td>0</td>\n",
       "      <td>1000694/1000694_10K_2014.htm</td>\n",
       "      <td>3</td>\n",
       "      <td>Our expenses have exceeded ourrevenue since in...</td>\n",
       "    </tr>\n",
       "    <tr>\n",
       "      <th>...</th>\n",
       "      <td>...</td>\n",
       "      <td>...</td>\n",
       "      <td>...</td>\n",
       "      <td>...</td>\n",
       "      <td>...</td>\n",
       "    </tr>\n",
       "    <tr>\n",
       "      <th>2995</th>\n",
       "      <td>115703</td>\n",
       "      <td>0</td>\n",
       "      <td>DCas9 activation system</td>\n",
       "      <td>2</td>\n",
       "      <td>Cas9 ordinarily has 2 endonuclease domains cal...</td>\n",
       "    </tr>\n",
       "    <tr>\n",
       "      <th>2996</th>\n",
       "      <td>115737</td>\n",
       "      <td>0</td>\n",
       "      <td>Qaleh-ye Gomesh Dafeh</td>\n",
       "      <td>1</td>\n",
       "      <td>Qaleh-ye Gomesh Dafeh (, also Romanized as Qal...</td>\n",
       "    </tr>\n",
       "    <tr>\n",
       "      <th>2997</th>\n",
       "      <td>115808</td>\n",
       "      <td>0</td>\n",
       "      <td>Sabine Hossenfelder</td>\n",
       "      <td>5</td>\n",
       "      <td>In 2016, Hossenfelder offered to act as a phys...</td>\n",
       "    </tr>\n",
       "    <tr>\n",
       "      <th>2998</th>\n",
       "      <td>115840</td>\n",
       "      <td>0</td>\n",
       "      <td>Debora Green</td>\n",
       "      <td>66</td>\n",
       "      <td>The Debora I knew would not have killed her ch...</td>\n",
       "    </tr>\n",
       "    <tr>\n",
       "      <th>2999</th>\n",
       "      <td>115845</td>\n",
       "      <td>0</td>\n",
       "      <td>Maceration (wine)</td>\n",
       "      <td>3</td>\n",
       "      <td>During fermentation, higher temperatures and h...</td>\n",
       "    </tr>\n",
       "  </tbody>\n",
       "</table>\n",
       "<p>6000 rows × 5 columns</p>\n",
       "</div>"
      ],
      "text/plain": [
       "          id  label                         title  paragraph  \\\n",
       "0         54      0  1000045/1000045_10K_2014.htm         11   \n",
       "1        610      0  1000229/1000229_10K_2014.htm          1   \n",
       "2        708      1  1000229/1000229_10K_2014.htm         25   \n",
       "3       1013      0  1000298/1000298_10K_2014.htm         80   \n",
       "4       1084      0  1000694/1000694_10K_2014.htm          3   \n",
       "...      ...    ...                           ...        ...   \n",
       "2995  115703      0       DCas9 activation system          2   \n",
       "2996  115737      0         Qaleh-ye Gomesh Dafeh          1   \n",
       "2997  115808      0           Sabine Hossenfelder          5   \n",
       "2998  115840      0                  Debora Green         66   \n",
       "2999  115845      0             Maceration (wine)          3   \n",
       "\n",
       "                                               sentence  \n",
       "0     •   collection of debts from loan customers wh...  \n",
       "1     All known, material risks and uncertainties ar...  \n",
       "2     Although it is not possible at this time to pr...  \n",
       "3     Ifthere is a decline in real estate values, as...  \n",
       "4     Our expenses have exceeded ourrevenue since in...  \n",
       "...                                                 ...  \n",
       "2995  Cas9 ordinarily has 2 endonuclease domains cal...  \n",
       "2996  Qaleh-ye Gomesh Dafeh (, also Romanized as Qal...  \n",
       "2997  In 2016, Hossenfelder offered to act as a phys...  \n",
       "2998  The Debora I knew would not have killed her ch...  \n",
       "2999  During fermentation, higher temperatures and h...  \n",
       "\n",
       "[6000 rows x 5 columns]"
      ]
     },
     "execution_count": 5,
     "metadata": {},
     "output_type": "execute_result"
    }
   ],
   "source": [
    "train2"
   ]
  },
  {
   "cell_type": "markdown",
   "id": "03b7a46e-4b32-434f-bb46-e11ec22739b2",
   "metadata": {},
   "source": [
    "Now we seperate the validation set from the training set with a 80/20 ratio"
   ]
  },
  {
   "cell_type": "code",
   "execution_count": 6,
   "id": "8ed1f205-db9e-42c5-afe3-6f19bc7acac8",
   "metadata": {
    "id": "tr9ZRje9lJVD"
   },
   "outputs": [],
   "source": [
    "train1, val1 = train_test_split(train1, test_size=.2)\n",
    "train2, val2 = train_test_split(train2, test_size=.2)"
   ]
  },
  {
   "cell_type": "code",
   "execution_count": 7,
   "id": "035544c0-44d3-4a46-9a94-779e50fa0277",
   "metadata": {
    "colab": {
     "base_uri": "https://localhost:8080/",
     "height": 424
    },
    "id": "zTk6gI6GlYVI",
    "outputId": "4d50d37a-0a43-4f66-a160-7bc3b99ebdb1"
   },
   "outputs": [
    {
     "data": {
      "text/html": [
       "<div>\n",
       "<style scoped>\n",
       "    .dataframe tbody tr th:only-of-type {\n",
       "        vertical-align: middle;\n",
       "    }\n",
       "\n",
       "    .dataframe tbody tr th {\n",
       "        vertical-align: top;\n",
       "    }\n",
       "\n",
       "    .dataframe thead th {\n",
       "        text-align: right;\n",
       "    }\n",
       "</style>\n",
       "<table border=\"1\" class=\"dataframe\">\n",
       "  <thead>\n",
       "    <tr style=\"text-align: right;\">\n",
       "      <th></th>\n",
       "      <th>id</th>\n",
       "      <th>label</th>\n",
       "      <th>title</th>\n",
       "      <th>paragraph</th>\n",
       "      <th>sentence</th>\n",
       "    </tr>\n",
       "  </thead>\n",
       "  <tbody>\n",
       "    <tr>\n",
       "      <th>2588</th>\n",
       "      <td>485571</td>\n",
       "      <td>0</td>\n",
       "      <td>1530950/1530950_10K_2014.htm</td>\n",
       "      <td>60</td>\n",
       "      <td>Avian influenza occasionally affects the domes...</td>\n",
       "    </tr>\n",
       "    <tr>\n",
       "      <th>51</th>\n",
       "      <td>1252</td>\n",
       "      <td>0</td>\n",
       "      <td>Coal</td>\n",
       "      <td>17</td>\n",
       "      <td>In 1700, five-sixths of the world's coal was m...</td>\n",
       "    </tr>\n",
       "    <tr>\n",
       "      <th>2997</th>\n",
       "      <td>115808</td>\n",
       "      <td>0</td>\n",
       "      <td>Sabine Hossenfelder</td>\n",
       "      <td>5</td>\n",
       "      <td>In 2016, Hossenfelder offered to act as a phys...</td>\n",
       "    </tr>\n",
       "    <tr>\n",
       "      <th>1894</th>\n",
       "      <td>347358</td>\n",
       "      <td>0</td>\n",
       "      <td>1404912/1404912_10K_2014.htm</td>\n",
       "      <td>45</td>\n",
       "      <td>These structures also are subject to potential...</td>\n",
       "    </tr>\n",
       "    <tr>\n",
       "      <th>1448</th>\n",
       "      <td>47923</td>\n",
       "      <td>0</td>\n",
       "      <td>Bio-energy with carbon capture and storage</td>\n",
       "      <td>36</td>\n",
       "      <td>Biomass cofiring with coal has efficiency near...</td>\n",
       "    </tr>\n",
       "    <tr>\n",
       "      <th>...</th>\n",
       "      <td>...</td>\n",
       "      <td>...</td>\n",
       "      <td>...</td>\n",
       "      <td>...</td>\n",
       "      <td>...</td>\n",
       "    </tr>\n",
       "    <tr>\n",
       "      <th>780</th>\n",
       "      <td>26490</td>\n",
       "      <td>0</td>\n",
       "      <td>Tim Flannery</td>\n",
       "      <td>6</td>\n",
       "      <td>In 2007, Flannery became professor in the Clim...</td>\n",
       "    </tr>\n",
       "    <tr>\n",
       "      <th>1096</th>\n",
       "      <td>190625</td>\n",
       "      <td>0</td>\n",
       "      <td>1217234/1217234_10K_2014.htm</td>\n",
       "      <td>121</td>\n",
       "      <td>We cannot be assured that future cuts would be...</td>\n",
       "    </tr>\n",
       "    <tr>\n",
       "      <th>2404</th>\n",
       "      <td>86152</td>\n",
       "      <td>0</td>\n",
       "      <td>Dunces and Dragons</td>\n",
       "      <td>13</td>\n",
       "      <td>The episode was also the highest-rated program...</td>\n",
       "    </tr>\n",
       "    <tr>\n",
       "      <th>342</th>\n",
       "      <td>10808</td>\n",
       "      <td>0</td>\n",
       "      <td>Eutrophication</td>\n",
       "      <td>34</td>\n",
       "      <td>In order for a policy to have any effect, the ...</td>\n",
       "    </tr>\n",
       "    <tr>\n",
       "      <th>1876</th>\n",
       "      <td>342263</td>\n",
       "      <td>0</td>\n",
       "      <td>1403431/1403431_10K_2014.htm</td>\n",
       "      <td>19</td>\n",
       "      <td>Borrowings under our Credit Agreement are tied...</td>\n",
       "    </tr>\n",
       "  </tbody>\n",
       "</table>\n",
       "<p>1200 rows × 5 columns</p>\n",
       "</div>"
      ],
      "text/plain": [
       "          id  label                                       title  paragraph  \\\n",
       "2588  485571      0                1530950/1530950_10K_2014.htm         60   \n",
       "51      1252      0                                        Coal         17   \n",
       "2997  115808      0                         Sabine Hossenfelder          5   \n",
       "1894  347358      0                1404912/1404912_10K_2014.htm         45   \n",
       "1448   47923      0  Bio-energy with carbon capture and storage         36   \n",
       "...      ...    ...                                         ...        ...   \n",
       "780    26490      0                                Tim Flannery          6   \n",
       "1096  190625      0                1217234/1217234_10K_2014.htm        121   \n",
       "2404   86152      0                          Dunces and Dragons         13   \n",
       "342    10808      0                              Eutrophication         34   \n",
       "1876  342263      0                1403431/1403431_10K_2014.htm         19   \n",
       "\n",
       "                                               sentence  \n",
       "2588  Avian influenza occasionally affects the domes...  \n",
       "51    In 1700, five-sixths of the world's coal was m...  \n",
       "2997  In 2016, Hossenfelder offered to act as a phys...  \n",
       "1894  These structures also are subject to potential...  \n",
       "1448  Biomass cofiring with coal has efficiency near...  \n",
       "...                                                 ...  \n",
       "780   In 2007, Flannery became professor in the Clim...  \n",
       "1096  We cannot be assured that future cuts would be...  \n",
       "2404  The episode was also the highest-rated program...  \n",
       "342   In order for a policy to have any effect, the ...  \n",
       "1876  Borrowings under our Credit Agreement are tied...  \n",
       "\n",
       "[1200 rows x 5 columns]"
      ]
     },
     "execution_count": 7,
     "metadata": {},
     "output_type": "execute_result"
    }
   ],
   "source": [
    "val2"
   ]
  },
  {
   "cell_type": "markdown",
   "id": "a546646e-703c-45c5-8c82-8f8cb5fb1222",
   "metadata": {},
   "source": [
    "Now we load the needed tokenizer and encode the dataset."
   ]
  },
  {
   "cell_type": "code",
   "execution_count": 6,
   "id": "9d852c55-9fe6-460b-8e06-5dd8ceff795d",
   "metadata": {
    "colab": {
     "base_uri": "https://localhost:8080/",
     "height": 145,
     "referenced_widgets": [
      "0fc311832a454317a8999dbcbff2c56e",
      "53b63bfe3e98465691bd9ebd9f973bfb",
      "0ceed64ab9ea48c6977c36c8b629ae49",
      "81d0109a8b1d43d89622ed5a489c4794",
      "955ab92f4cb44a088e41a8441dc9cbbc",
      "588413b15ee342c9928124e4d22b9f2e",
      "4dc1c966a8ac4168a50eb41b5aabfe49",
      "8038c832fd8c4b84ad9ecbab58b0bf9a",
      "de78ec6ac3234ec880478946cf08ee46",
      "6223c7e7119e497b9c41e7044c203374",
      "981d4a921a03489b9d28127d64a91835",
      "e929d50525ec44b2bafc4e83542a1ebc",
      "c6aac113d22d4cce9deb6c6dbf7822b7",
      "f49f79cf4b434caf9c6d953f3bf3884c",
      "c8551deaf112426994845f2897749bf1",
      "11ec23676c8b4bdb888aec0907dad829",
      "ed22dd8a5c664729b07209b6a288ae8a",
      "fc8aaf34c14a452b8b598f7920cd6287",
      "afd80ecef03649c69d3d747a893975f7",
      "61cfd4b474ab4961863d01d3ac7e7db0",
      "31f597da4cab4aab90ec07d2a0bce4ea",
      "cb8c83434deb4ed9a806fb4d4a99b05a",
      "09a15bb5938b40cc97f42e03a60dc0eb",
      "e19c201634634470a34e88567e0bd28c",
      "2eb0f55335e34f13a6a795fd1e4c7faf",
      "1381a9b686d5419cbed061d0b090b926",
      "3dfc85a410f441eab2854fcd87364676",
      "8f33b20a2c034270a1e320e718091dd5",
      "357bfc1e0da24ff9877e6d18a25d1b19",
      "f0487d3239ab4ba59ea7c609ead3ffcf",
      "cf9d0da0a5d2476192daf4beea349ff0",
      "2b0f9cbf3220498dbbd7108be5e24166",
      "837c439c4f3b45a19509cc95fd6c7b64",
      "310fd7c178594594bf7033e59e54981e",
      "2831dd33181748fd8d2cc0bc0c154551",
      "616dd6be380440b180f06c499c9ee0b7",
      "5a4aa2834500456089a7a3a5d01ac776",
      "397647bd8ec346a18e9c0e78710beced",
      "59921170cfad47d99df4b7f16da07050",
      "32ae107ff2aa432f907176a0d5c8d10d",
      "1594a2616e0e4f19994aa45a3fa3fef3",
      "40240a80034949718cb24d17f227e9ec",
      "a7dff8e665c64c97b5de915428608cf4",
      "c74527d0b8dd4a17a43b4ff2795ebd93"
     ]
    },
    "id": "t7GpTbX0kzWh",
    "outputId": "53361742-0af3-4fc3-fb6e-7956fcb2996d"
   },
   "outputs": [],
   "source": [
    "# Load tokenizer\n",
    "tokenizer = DistilBertTokenizerFast.from_pretrained('distilbert-base-uncased')"
   ]
  },
  {
   "cell_type": "code",
   "execution_count": 9,
   "id": "116995fe-8852-4c04-b046-f79b93417d09",
   "metadata": {
    "id": "FYxEXzZvk8Vc"
   },
   "outputs": [],
   "source": [
    "# Tokenize and encode train sets\n",
    "train1_encodings = tokenizer(list(train1['sentence']), truncation=True, padding=True, max_length=64)\n",
    "train2_encodings = tokenizer(list(train2['sentence']), truncation=True, padding=True, max_length=64)"
   ]
  },
  {
   "cell_type": "code",
   "execution_count": 10,
   "id": "22f18e99-adeb-4654-97a6-7f3fb3f2b7c4",
   "metadata": {
    "id": "egr32rNR07-U"
   },
   "outputs": [],
   "source": [
    "# Tokenize and encode validation set\n",
    "val1_encodings = tokenizer(list(val1['sentence']), truncation=True, padding=True)\n",
    "val2_encodings = tokenizer(list(val2['sentence']), truncation=True, padding=True)"
   ]
  },
  {
   "cell_type": "markdown",
   "id": "1957abf0-de17-4c56-9543-b5950436a2db",
   "metadata": {},
   "source": [
    "Load the labels into a list"
   ]
  },
  {
   "cell_type": "code",
   "execution_count": 11,
   "id": "201b5d52-fedd-4586-be6a-431b88cd1e1d",
   "metadata": {
    "id": "w9SGZ77tnhE8"
   },
   "outputs": [],
   "source": [
    "# Extract labels as a list\n",
    "train1_labels = list(train1['label'])\n",
    "train2_labels = list(train2['label'])\n",
    "val1_labels = list(val1['label'])\n",
    "val2_labels = list(val2['label'])"
   ]
  },
  {
   "cell_type": "markdown",
   "id": "789af73d-ff6f-48b8-abe9-7ba77a022e79",
   "metadata": {},
   "source": [
    "Here we construct a pytorch dataset which will be used for training"
   ]
  },
  {
   "cell_type": "code",
   "execution_count": 12,
   "id": "19cbb560-8332-49cf-86ff-5eab86d9a71b",
   "metadata": {
    "id": "anPATlbEnvxW"
   },
   "outputs": [],
   "source": [
    "class ClimaTextDataset(torch.utils.data.Dataset):\n",
    "    \"\"\" Pytorch dataset for training and validation \"\"\"\n",
    "    \n",
    "    def __init__(self, encodings, labels):\n",
    "        self.encodings = encodings\n",
    "        self.labels = labels\n",
    "\n",
    "    def __getitem__(self, idx):\n",
    "        item = {key: torch.tensor(val[idx]) for key, val in self.encodings.items()}\n",
    "        item['labels'] = torch.tensor(self.labels[idx])\n",
    "        return item\n",
    "\n",
    "    def __len__(self):\n",
    "        return len(self.labels)"
   ]
  },
  {
   "cell_type": "code",
   "execution_count": 13,
   "id": "65457275-113c-45e8-b5cc-b883ca52c6a7",
   "metadata": {
    "id": "RLDKS76CpYZb"
   },
   "outputs": [],
   "source": [
    "# Instantiate ClimaTextDatasets\n",
    "train1_dataset = ClimaTextDataset(train1_encodings, train1_labels)\n",
    "train2_dataset = ClimaTextDataset(train2_encodings, train2_labels)\n",
    "val1_dataset = ClimaTextDataset(val1_encodings, val1_labels)\n",
    "val2_dataset = ClimaTextDataset(val2_encodings, val2_labels)"
   ]
  },
  {
   "cell_type": "markdown",
   "id": "a8e4c516-4ee2-4805-ae15-e1b65df08d96",
   "metadata": {},
   "source": [
    "Now we will load a pre-trained BERT and the accompanying tokenizer. <br> We have opted for Distil BERT because of its size which makes it easier to train on limited computational resources"
   ]
  },
  {
   "cell_type": "code",
   "execution_count": null,
   "id": "2fc7899f-c588-4ae3-8c55-34b56ab46fda",
   "metadata": {
    "colab": {
     "base_uri": "https://localhost:8080/",
     "height": 1000,
     "referenced_widgets": [
      "ec036b10609d4042a961c19f5a9d8d55",
      "4e927c7a8c43460eab6757d49b9e836c",
      "2292b97608f94aefa33ac9ae1162ef6a",
      "170fb58f7227458e89823780c51e6eb2",
      "ffc7bdfc7c2e437dbe3fe5455949256a",
      "746bcab0aee044528b26df15d5715523",
      "256f828861114e3980c7139da08e31f4",
      "57f79a1145b24802a1c5dcb1d8a63033",
      "27c5f71675de488d94be99c479dbe812",
      "2c685df64a2145369a49fa60b99a4279",
      "dbb86594a0e54ece85396855b95f1238"
     ]
    },
    "id": "Z7MNyVCdt5Dd",
    "outputId": "166f9f4a-0849-4137-a1e8-d610ab517014"
   },
   "outputs": [],
   "source": [
    "# Warning this training might take a while to complete\n",
    "# outputs of cell removed for readability\n",
    "training_args = TrainingArguments(\n",
    "    output_dir='./results',\n",
    "    num_train_epochs=2,\n",
    "    per_device_train_batch_size=16,\n",
    "    per_device_eval_batch_size=16,\n",
    "    warmup_steps=500,\n",
    "    weight_decay=0.01,\n",
    "    logging_dir='./logs',\n",
    "    logging_steps=10\n",
    ")\n",
    "\n",
    "# Load pretrained model\n",
    "model = DistilBertForSequenceClassification.from_pretrained(\"distilbert-base-uncased\")\n",
    "\n",
    "trainer = Trainer(\n",
    "    model=model,\n",
    "    args=training_args,\n",
    "    train_dataset=train1_dataset,\n",
    "    eval_dataset=val1_dataset\n",
    ")\n",
    "\n",
    "# Run training\n",
    "trainer.train()"
   ]
  },
  {
   "cell_type": "code",
   "execution_count": null,
   "id": "5e8f9350-bfff-4143-8d59-5de3d3466c32",
   "metadata": {
    "colab": {
     "base_uri": "https://localhost:8080/",
     "height": 377
    },
    "id": "2XKwxLIzzGrK",
    "outputId": "8e61e310-72a8-484c-c166-fb5cedeaa664"
   },
   "outputs": [],
   "source": [
    "# Warning this training might take a while to complete\n",
    "# outputs of cell removed for readability\n",
    "training_args = TrainingArguments(\n",
    "    output_dir='./results2',\n",
    "    num_train_epochs=4,\n",
    "    per_device_train_batch_size=16,\n",
    "    per_device_eval_batch_size=16,\n",
    "    warmup_steps=500,\n",
    "    weight_decay=0.01,\n",
    "    logging_dir='./logs2',\n",
    "    logging_steps=10,\n",
    "    per_gpu_eval_batch_size=32\n",
    ")\n",
    "\n",
    "trainer = Trainer(\n",
    "    model=model,\n",
    "    args=training_args,\n",
    "    train_dataset=train2_dataset,\n",
    "    eval_dataset=val2_dataset\n",
    ")\n",
    "\n",
    "# Run training\n",
    "trainer.train()"
   ]
  },
  {
   "cell_type": "markdown",
   "id": "69c3db2c-4990-4e84-9112-dfb784b56f81",
   "metadata": {},
   "source": [
    "Now we export the model"
   ]
  },
  {
   "cell_type": "code",
   "execution_count": 94,
   "id": "81f035e8-b781-4aae-a6db-03ca854888c5",
   "metadata": {},
   "outputs": [
    {
     "name": "stderr",
     "output_type": "stream",
     "text": [
      "Configuration saved in extractor/config.json\n",
      "Model weights saved in extractor/pytorch_model.bin\n"
     ]
    }
   ],
   "source": [
    "# Export trained model\n",
    "model.save_pretrained('extractor')"
   ]
  },
  {
   "cell_type": "markdown",
   "id": "bf35cb57-bb62-4059-8c57-3ee5c57a7130",
   "metadata": {},
   "source": [
    "<a id='extracteval'></a>\n",
    "# Using ClimaTextBERT to extract quotes\n",
    "\n",
    "First we need to download the test set"
   ]
  },
  {
   "cell_type": "code",
   "execution_count": null,
   "id": "010c4834-b009-4aee-b4d1-dc797b316697",
   "metadata": {},
   "outputs": [],
   "source": [
    "!wget \"https://www.sustainablefinance.uzh.ch/dam/jcr:d5e1ac74-0bf1-4d84-910f-7a9c7cd28764/Claims%20(test).tsv\" -O \"Claims.tsv\""
   ]
  },
  {
   "cell_type": "markdown",
   "id": "0c8dcc6c-37ec-4da4-9771-35f3744d8ea8",
   "metadata": {},
   "source": [
    "Import the needed modules"
   ]
  },
  {
   "cell_type": "code",
   "execution_count": 1,
   "id": "49535db5-8b97-4527-ae5a-6cb4810d1288",
   "metadata": {},
   "outputs": [],
   "source": [
    "from transformers import DistilBertTokenizerFast, DistilBertForSequenceClassification\n",
    "import pandas as pd\n",
    "import torch\n",
    "import numpy as np\n",
    "import matplotlib.pyplot as plt\n",
    "from sklearn.metrics import precision_recall_curve"
   ]
  },
  {
   "cell_type": "markdown",
   "id": "bf2f3ec8-ebf4-4d5c-a9e4-6d638ac79e2f",
   "metadata": {},
   "source": [
    "<a id='eval'></a>\n",
    "## Evaluating the model performance"
   ]
  },
  {
   "cell_type": "markdown",
   "id": "1934be19-d306-4fe0-840b-c3b9862e57fc",
   "metadata": {},
   "source": [
    "In order to see how powerful out model is we must run it on a labeled test set. <br>\n",
    "The test set was provided by [[1]](#refs) <br>\n",
    "It consists of quotes extracted from online articles. Overall, the dataset consists of 1000 quotes perfectly balanced with 500 having to do with climate change and 500 unrelated to the topic. <br>\n",
    "This dataset is very similar to quotebank! <br>\n",
    "\n",
    "Lets load the test set."
   ]
  },
  {
   "cell_type": "code",
   "execution_count": 2,
   "id": "e4b0d77f-3ed7-4720-857c-8ff80f528ff7",
   "metadata": {},
   "outputs": [
    {
     "data": {
      "text/html": [
       "<div>\n",
       "<style scoped>\n",
       "    .dataframe tbody tr th:only-of-type {\n",
       "        vertical-align: middle;\n",
       "    }\n",
       "\n",
       "    .dataframe tbody tr th {\n",
       "        vertical-align: top;\n",
       "    }\n",
       "\n",
       "    .dataframe thead th {\n",
       "        text-align: right;\n",
       "    }\n",
       "</style>\n",
       "<table border=\"1\" class=\"dataframe\">\n",
       "  <thead>\n",
       "    <tr style=\"text-align: right;\">\n",
       "      <th></th>\n",
       "      <th>id</th>\n",
       "      <th>label</th>\n",
       "      <th>title</th>\n",
       "      <th>paragraph</th>\n",
       "      <th>sentence</th>\n",
       "    </tr>\n",
       "  </thead>\n",
       "  <tbody>\n",
       "    <tr>\n",
       "      <th>0</th>\n",
       "      <td>0</td>\n",
       "      <td>1</td>\n",
       "      <td>https://climatefeedback.org/evaluation/pope-fr...</td>\n",
       "      <td>-1</td>\n",
       "      <td>In recent decades this warming has been accomp...</td>\n",
       "    </tr>\n",
       "    <tr>\n",
       "      <th>1</th>\n",
       "      <td>1</td>\n",
       "      <td>1</td>\n",
       "      <td>https://climatefeedback.org/evaluation/playing...</td>\n",
       "      <td>-1</td>\n",
       "      <td>“Some experts, such as UN climate scientist Dr...</td>\n",
       "    </tr>\n",
       "    <tr>\n",
       "      <th>2</th>\n",
       "      <td>2</td>\n",
       "      <td>1</td>\n",
       "      <td>https://climatefeedback.org/evaluation/comment...</td>\n",
       "      <td>-1</td>\n",
       "      <td>The grasslands, crops, forests and territorial...</td>\n",
       "    </tr>\n",
       "    <tr>\n",
       "      <th>3</th>\n",
       "      <td>3</td>\n",
       "      <td>1</td>\n",
       "      <td>https://www.skepticalscience.com/melting-ice-g...</td>\n",
       "      <td>-1</td>\n",
       "      <td>Arctic summer sea ice has shrunk by an area eq...</td>\n",
       "    </tr>\n",
       "    <tr>\n",
       "      <th>4</th>\n",
       "      <td>4</td>\n",
       "      <td>1</td>\n",
       "      <td>https://climatefeedback.org/evaluation/big-mel...</td>\n",
       "      <td>-1</td>\n",
       "      <td>“There is now less sea ice on Earth than at an...</td>\n",
       "    </tr>\n",
       "    <tr>\n",
       "      <th>...</th>\n",
       "      <td>...</td>\n",
       "      <td>...</td>\n",
       "      <td>...</td>\n",
       "      <td>...</td>\n",
       "      <td>...</td>\n",
       "    </tr>\n",
       "    <tr>\n",
       "      <th>995</th>\n",
       "      <td>995</td>\n",
       "      <td>0</td>\n",
       "      <td>https://www.nasa.gov/feature/goddard/2020/rock...</td>\n",
       "      <td>-1</td>\n",
       "      <td>Hi-C captured these images on its third flight...</td>\n",
       "    </tr>\n",
       "    <tr>\n",
       "      <th>996</th>\n",
       "      <td>996</td>\n",
       "      <td>0</td>\n",
       "      <td>https://www.nasa.gov/feature/jpl/how-engineers...</td>\n",
       "      <td>-1</td>\n",
       "      <td>On April 23, NASA Administrator Jim Bridenstin...</td>\n",
       "    </tr>\n",
       "    <tr>\n",
       "      <th>997</th>\n",
       "      <td>997</td>\n",
       "      <td>0</td>\n",
       "      <td>https://www.nasa.gov/feature/goddard/2020/rock...</td>\n",
       "      <td>-1</td>\n",
       "      <td>The images show loops as thin as 125 miles acr...</td>\n",
       "    </tr>\n",
       "    <tr>\n",
       "      <th>998</th>\n",
       "      <td>998</td>\n",
       "      <td>0</td>\n",
       "      <td>https://www.skepticalscience.com/print.php?n=4742</td>\n",
       "      <td>-1</td>\n",
       "      <td>Or Germany, where gas output remains unchanged...</td>\n",
       "    </tr>\n",
       "    <tr>\n",
       "      <th>999</th>\n",
       "      <td>999</td>\n",
       "      <td>0</td>\n",
       "      <td>https://www.nasa.gov/feature/goddard/2020/9-re...</td>\n",
       "      <td>-1</td>\n",
       "      <td>Jupiter’s breathtaking swirls of colorful clou...</td>\n",
       "    </tr>\n",
       "  </tbody>\n",
       "</table>\n",
       "<p>1000 rows × 5 columns</p>\n",
       "</div>"
      ],
      "text/plain": [
       "      id  label                                              title  paragraph  \\\n",
       "0      0      1  https://climatefeedback.org/evaluation/pope-fr...         -1   \n",
       "1      1      1  https://climatefeedback.org/evaluation/playing...         -1   \n",
       "2      2      1  https://climatefeedback.org/evaluation/comment...         -1   \n",
       "3      3      1  https://www.skepticalscience.com/melting-ice-g...         -1   \n",
       "4      4      1  https://climatefeedback.org/evaluation/big-mel...         -1   \n",
       "..   ...    ...                                                ...        ...   \n",
       "995  995      0  https://www.nasa.gov/feature/goddard/2020/rock...         -1   \n",
       "996  996      0  https://www.nasa.gov/feature/jpl/how-engineers...         -1   \n",
       "997  997      0  https://www.nasa.gov/feature/goddard/2020/rock...         -1   \n",
       "998  998      0  https://www.skepticalscience.com/print.php?n=4742         -1   \n",
       "999  999      0  https://www.nasa.gov/feature/goddard/2020/9-re...         -1   \n",
       "\n",
       "                                              sentence  \n",
       "0    In recent decades this warming has been accomp...  \n",
       "1    “Some experts, such as UN climate scientist Dr...  \n",
       "2    The grasslands, crops, forests and territorial...  \n",
       "3    Arctic summer sea ice has shrunk by an area eq...  \n",
       "4    “There is now less sea ice on Earth than at an...  \n",
       "..                                                 ...  \n",
       "995  Hi-C captured these images on its third flight...  \n",
       "996  On April 23, NASA Administrator Jim Bridenstin...  \n",
       "997  The images show loops as thin as 125 miles acr...  \n",
       "998  Or Germany, where gas output remains unchanged...  \n",
       "999  Jupiter’s breathtaking swirls of colorful clou...  \n",
       "\n",
       "[1000 rows x 5 columns]"
      ]
     },
     "execution_count": 2,
     "metadata": {},
     "output_type": "execute_result"
    }
   ],
   "source": [
    "# Load test set\n",
    "claims = pd.read_csv('Claims.tsv', sep='\\t')\n",
    "claims"
   ]
  },
  {
   "cell_type": "markdown",
   "id": "2fd0885e-479e-4d2b-bf5e-2d98f2447477",
   "metadata": {},
   "source": [
    "Load the trained ClimaTextBERT from file"
   ]
  },
  {
   "cell_type": "code",
   "execution_count": 3,
   "id": "4e0b0846-04c0-4223-9706-e50068ab6543",
   "metadata": {},
   "outputs": [],
   "source": [
    "# Load trained model\n",
    "model = DistilBertForSequenceClassification.from_pretrained('./extractor/', local_files_only=True)"
   ]
  },
  {
   "cell_type": "code",
   "execution_count": null,
   "id": "e0f514aa-672e-4c29-81c6-d94411ebcebf",
   "metadata": {},
   "outputs": [],
   "source": [
    "# Setting the device and model to eval mode\n",
    "device = torch.device(\"cuda\" if torch.cuda.is_available() else \"cpu\")\n",
    "model.to(device)\n",
    "model.eval()\n",
    "print()"
   ]
  },
  {
   "cell_type": "markdown",
   "id": "f2c6668b-896a-4bb3-9710-e7dcd2663c1f",
   "metadata": {},
   "source": [
    "Load the Tokenizer model"
   ]
  },
  {
   "cell_type": "code",
   "execution_count": null,
   "id": "caece095-77c2-48ba-a62f-e503295453e5",
   "metadata": {},
   "outputs": [],
   "source": [
    "# Load tokenizer\n",
    "tokenizer = DistilBertTokenizerFast.from_pretrained('distilbert-base-uncased')"
   ]
  },
  {
   "cell_type": "markdown",
   "id": "c04d1738-5896-467e-a13f-661d49534f4b",
   "metadata": {},
   "source": [
    "Run the model on the test set"
   ]
  },
  {
   "cell_type": "code",
   "execution_count": 6,
   "id": "593ab495-7331-4abe-9849-c13e1c686aaf",
   "metadata": {},
   "outputs": [],
   "source": [
    "# Evaluate model on test set\n",
    "outs = []\n",
    "with torch.no_grad(): # do not calculate gradients\n",
    "    for i in range(0, len(claims), 100):\n",
    "        tokens = tokenizer(list(claims['sentence'][i:i+100]), truncation=True, padding=True, max_length=64, return_tensors=\"pt\")\n",
    "        ids = tokens['input_ids'].to(device)\n",
    "        mask = tokens['attention_mask'].to(device)\n",
    "        labels = torch.ones((100,1), dtype=torch.long).to(device)\n",
    "        out = model(input_ids=ids, attention_mask=mask, labels=labels) # infer\n",
    "        out = torch.sigmoid(out.logits[:,1]).to('cpu').detach().numpy()\n",
    "        outs.append(out)\n",
    "outs = np.concatenate(outs)"
   ]
  },
  {
   "cell_type": "markdown",
   "id": "63a99baf-4b03-4601-8a8e-96e18b2d3b84",
   "metadata": {},
   "source": [
    "To show how effective our model is we will plot the Precision/Recall curve"
   ]
  },
  {
   "cell_type": "code",
   "execution_count": 7,
   "id": "5d989f8e-e768-4b0f-af1a-bce579cf23f8",
   "metadata": {},
   "outputs": [
    {
     "data": {
      "text/plain": [
       "[<matplotlib.lines.Line2D at 0x7f92379d8f70>]"
      ]
     },
     "execution_count": 7,
     "metadata": {},
     "output_type": "execute_result"
    },
    {
     "data": {
      "image/png": "[encoded data removed]",
      "text/plain": [
       "<Figure size 432x288 with 1 Axes>"
      ]
     },
     "metadata": {
      "needs_background": "light"
     },
     "output_type": "display_data"
    }
   ],
   "source": [
    "# Plot precision recall curve\n",
    "y = np.array(claims['label'])\n",
    "precision, recall, thresh = precision_recall_curve(y, outs)\n",
    "plt.title('Precision/Recall Curve')\n",
    "plt.xlabel('Recall')\n",
    "plt.ylabel('Precision')\n",
    "plt.plot(recall, precision)"
   ]
  },
  {
   "cell_type": "markdown",
   "id": "d4a712bb-8a13-4674-9a53-fba2563a911a",
   "metadata": {},
   "source": [
    "<a id='extract'></a>\n",
    "## Extracting quotes using the model\n",
    "Now we extract the quotes that have to do with climate change"
   ]
  },
  {
   "cell_type": "code",
   "execution_count": null,
   "id": "92309301-1ebd-4f45-ba63-3cf8c3d48848",
   "metadata": {},
   "outputs": [],
   "source": [
    "# warning might take a while\n",
    "import glob\n",
    "files = glob.glob('quotes*')\n",
    "batch_size = 2000\n",
    "step_cnt = 0\n",
    "outs = pd.Series([], dtype='object')\n",
    "extracted = 0\n",
    "thresh = 0.1 # Treshold for same precision and recall\n",
    "with torch.no_grad(): # Turn off gradient computation\n",
    "    for f in files:\n",
    "        print('FILE: ' + f)\n",
    "        quotes = pd.read_json(f, compression='bz2', lines=True)\n",
    "        quotes.set_index('quoteID', inplace=True)\n",
    "        cnt = 0\n",
    "        for i in range(0, len(quotes), batch_size):\n",
    "            tokens = tokenizer(list(quotes.iloc[i:i + batch_size].quotation),\n",
    "                               truncation=True, padding=True,\n",
    "                               max_length=64, return_tensors=\"pt\")\n",
    "            ids = tokens['input_ids'].to(device)\n",
    "            mask = tokens['attention_mask'].to(device)\n",
    "            labels = torch.ones((len(ids),1), dtype=torch.long).to(device)\n",
    "            out = model(input_ids=ids, attention_mask=mask, labels=labels) # infer\n",
    "            out = torch.sigmoid(out.logits[:,1])\n",
    "            out = out.to('cpu').detach().numpy()\n",
    "            cnt += len(out)\n",
    "            out_series = pd.Series(data=out, index=quotes.iloc[i:i + batch_size].index)\n",
    "            out_series = out_series[out_series >= thresh]\n",
    "            outs = pd.concat([outs, out_series])\n",
    "            extracted += len(out_series)\n",
    "            if(step_cnt % 10 == 0):\n",
    "                print('Progress: ' + str(round(cnt/len(quotes)*100.)) + '%')\n",
    "                print('Extracted: ' + str(extracted))\n",
    "            step_cnt += 1"
   ]
  },
  {
   "cell_type": "markdown",
   "id": "4a5a0dc4-55c1-4abf-90f8-fb0913141c57",
   "metadata": {},
   "source": [
    "Retrieve the extracted quotes"
   ]
  },
  {
   "cell_type": "code",
   "execution_count": 11,
   "id": "2ce25281-3a42-44b4-8498-d52c3b2e0be1",
   "metadata": {},
   "outputs": [
    {
     "name": "stdout",
     "output_type": "stream",
     "text": [
      "FILE: quotes2015_merged_part_1.json.bz2\n",
      "FILE: quotes2015_merged_part_2.json.bz2\n",
      "FILE: quotes2016_merged_part_1.json.bz2\n",
      "FILE: quotes2016_merged_part_2.json.bz2\n",
      "FILE: quotes2017_merged_part_1.json.bz2\n",
      "FILE: quotes2017_merged_part_2.json.bz2\n",
      "FILE: quotes2017_merged_part_3.json.bz2\n",
      "FILE: quotes2018_merged_part_1.json.bz2\n",
      "FILE: quotes2018_merged_part_2.json.bz2\n",
      "FILE: quotes2018_merged_part_3.json.bz2\n",
      "FILE: quotes2019_merged_part_1.json.bz2\n",
      "FILE: quotes2019_merged_part_2.json.bz2\n",
      "FILE: quotes2020_merged_part_1.json.bz2\n"
     ]
    },
    {
     "data": {
      "text/html": [
       "<div>\n",
       "<style scoped>\n",
       "    .dataframe tbody tr th:only-of-type {\n",
       "        vertical-align: middle;\n",
       "    }\n",
       "\n",
       "    .dataframe tbody tr th {\n",
       "        vertical-align: top;\n",
       "    }\n",
       "\n",
       "    .dataframe thead th {\n",
       "        text-align: right;\n",
       "    }\n",
       "</style>\n",
       "<table border=\"1\" class=\"dataframe\">\n",
       "  <thead>\n",
       "    <tr style=\"text-align: right;\">\n",
       "      <th></th>\n",
       "      <th>quotation</th>\n",
       "      <th>speaker</th>\n",
       "      <th>qids</th>\n",
       "      <th>date</th>\n",
       "      <th>numOccurrences</th>\n",
       "      <th>urls</th>\n",
       "      <th>climateChangeProb</th>\n",
       "    </tr>\n",
       "    <tr>\n",
       "      <th>quoteID</th>\n",
       "      <th></th>\n",
       "      <th></th>\n",
       "      <th></th>\n",
       "      <th></th>\n",
       "      <th></th>\n",
       "      <th></th>\n",
       "      <th></th>\n",
       "    </tr>\n",
       "  </thead>\n",
       "  <tbody>\n",
       "    <tr>\n",
       "      <th>2015-10-21-003064</th>\n",
       "      <td>a remarkable demonstration of chutzpah.</td>\n",
       "      <td>Ben Bernanke</td>\n",
       "      <td>[Q201795]</td>\n",
       "      <td>2015-10-21 06:35:00</td>\n",
       "      <td>1</td>\n",
       "      <td>[http://feeds.washingtonpost.com/c/34656/f/636...</td>\n",
       "      <td>0.017989</td>\n",
       "    </tr>\n",
       "    <tr>\n",
       "      <th>2015-02-14-014011</th>\n",
       "      <td>I have fought Obamacare from Day One and will ...</td>\n",
       "      <td>John Cornyn</td>\n",
       "      <td>[Q719568]</td>\n",
       "      <td>2015-02-14 21:01:51</td>\n",
       "      <td>2</td>\n",
       "      <td>[http://www.politico.com/story/2015/02/sylvia-...</td>\n",
       "      <td>0.018179</td>\n",
       "    </tr>\n",
       "    <tr>\n",
       "      <th>2015-11-17-010237</th>\n",
       "      <td>At the same time, we can't completely abandon ...</td>\n",
       "      <td>Dianne Feinstein</td>\n",
       "      <td>[Q230733]</td>\n",
       "      <td>2015-11-17 14:23:00</td>\n",
       "      <td>1</td>\n",
       "      <td>[http://goldrushcam.com/sierrasuntimes/index.p...</td>\n",
       "      <td>0.017977</td>\n",
       "    </tr>\n",
       "    <tr>\n",
       "      <th>2015-10-26-009343</th>\n",
       "      <td>Because America is leading by example, 150 cou...</td>\n",
       "      <td>President Obama</td>\n",
       "      <td>[Q76]</td>\n",
       "      <td>2015-10-26 19:52:30</td>\n",
       "      <td>1</td>\n",
       "      <td>[http://catholic.org/news/politics/story.php?i...</td>\n",
       "      <td>0.983340</td>\n",
       "    </tr>\n",
       "    <tr>\n",
       "      <th>2015-02-11-008068</th>\n",
       "      <td>Because domestic energy is more abundant, Amer...</td>\n",
       "      <td>Mark Green</td>\n",
       "      <td>[Q15739961, Q16224587, Q58037806, Q6767809, Q6...</td>\n",
       "      <td>2015-02-11 18:28:11</td>\n",
       "      <td>1</td>\n",
       "      <td>[http://www.acton.org/pub/commentary/2015/02/1...</td>\n",
       "      <td>0.019651</td>\n",
       "    </tr>\n",
       "    <tr>\n",
       "      <th>...</th>\n",
       "      <td>...</td>\n",
       "      <td>...</td>\n",
       "      <td>...</td>\n",
       "      <td>...</td>\n",
       "      <td>...</td>\n",
       "      <td>...</td>\n",
       "      <td>...</td>\n",
       "    </tr>\n",
       "    <tr>\n",
       "      <th>2020-04-02-024938</th>\n",
       "      <td>I think it would be an extreme change,</td>\n",
       "      <td>Jo Ann Davidson</td>\n",
       "      <td>[Q6204111]</td>\n",
       "      <td>2020-04-02 14:04:39</td>\n",
       "      <td>2</td>\n",
       "      <td>[http://www.politifact.com/article/2020/apr/02...</td>\n",
       "      <td>0.031958</td>\n",
       "    </tr>\n",
       "    <tr>\n",
       "      <th>2020-04-11-013559</th>\n",
       "      <td>I'm talking about telling the fossil fuel indu...</td>\n",
       "      <td>Bernie Sanders</td>\n",
       "      <td>[Q359442]</td>\n",
       "      <td>2020-04-11 04:00:00</td>\n",
       "      <td>2</td>\n",
       "      <td>[https://www.commondreams.org/views/2020/04/11...</td>\n",
       "      <td>0.115448</td>\n",
       "    </tr>\n",
       "    <tr>\n",
       "      <th>2020-02-03-048133</th>\n",
       "      <td>It's not say we shouldn't recognize white peop...</td>\n",
       "      <td>David Crowley</td>\n",
       "      <td>[Q28151883, Q5232694]</td>\n",
       "      <td>2020-02-03 14:47:23</td>\n",
       "      <td>11</td>\n",
       "      <td>[https://wislawjournal.com/2020/02/03/wisconsi...</td>\n",
       "      <td>0.017548</td>\n",
       "    </tr>\n",
       "    <tr>\n",
       "      <th>2020-01-21-085595</th>\n",
       "      <td>This concept of over-regulation is an interest...</td>\n",
       "      <td>Tim Ryan</td>\n",
       "      <td>[Q10381179, Q3528685, Q513960, Q7804212, Q7804...</td>\n",
       "      <td>2020-01-21 00:00:00</td>\n",
       "      <td>3</td>\n",
       "      <td>[http://nordic.businessinsider.com/pwc-ceo-sur...</td>\n",
       "      <td>0.028286</td>\n",
       "    </tr>\n",
       "    <tr>\n",
       "      <th>2020-03-01-041433</th>\n",
       "      <td>We really believe this is about limiting Senat...</td>\n",
       "      <td>Michael R. Bloomberg</td>\n",
       "      <td>[Q607]</td>\n",
       "      <td>2020-03-01 01:36:00</td>\n",
       "      <td>1</td>\n",
       "      <td>[https://www.msn.com/en-us/news/elections-2020...</td>\n",
       "      <td>0.017154</td>\n",
       "    </tr>\n",
       "  </tbody>\n",
       "</table>\n",
       "<p>297180 rows × 7 columns</p>\n",
       "</div>"
      ],
      "text/plain": [
       "                                                           quotation  \\\n",
       "quoteID                                                                \n",
       "2015-10-21-003064            a remarkable demonstration of chutzpah.   \n",
       "2015-02-14-014011  I have fought Obamacare from Day One and will ...   \n",
       "2015-11-17-010237  At the same time, we can't completely abandon ...   \n",
       "2015-10-26-009343  Because America is leading by example, 150 cou...   \n",
       "2015-02-11-008068  Because domestic energy is more abundant, Amer...   \n",
       "...                                                              ...   \n",
       "2020-04-02-024938             I think it would be an extreme change,   \n",
       "2020-04-11-013559  I'm talking about telling the fossil fuel indu...   \n",
       "2020-02-03-048133  It's not say we shouldn't recognize white peop...   \n",
       "2020-01-21-085595  This concept of over-regulation is an interest...   \n",
       "2020-03-01-041433  We really believe this is about limiting Senat...   \n",
       "\n",
       "                                speaker  \\\n",
       "quoteID                                   \n",
       "2015-10-21-003064          Ben Bernanke   \n",
       "2015-02-14-014011           John Cornyn   \n",
       "2015-11-17-010237      Dianne Feinstein   \n",
       "2015-10-26-009343       President Obama   \n",
       "2015-02-11-008068            Mark Green   \n",
       "...                                 ...   \n",
       "2020-04-02-024938       Jo Ann Davidson   \n",
       "2020-04-11-013559        Bernie Sanders   \n",
       "2020-02-03-048133         David Crowley   \n",
       "2020-01-21-085595              Tim Ryan   \n",
       "2020-03-01-041433  Michael R. Bloomberg   \n",
       "\n",
       "                                                                qids  \\\n",
       "quoteID                                                                \n",
       "2015-10-21-003064                                          [Q201795]   \n",
       "2015-02-14-014011                                          [Q719568]   \n",
       "2015-11-17-010237                                          [Q230733]   \n",
       "2015-10-26-009343                                              [Q76]   \n",
       "2015-02-11-008068  [Q15739961, Q16224587, Q58037806, Q6767809, Q6...   \n",
       "...                                                              ...   \n",
       "2020-04-02-024938                                         [Q6204111]   \n",
       "2020-04-11-013559                                          [Q359442]   \n",
       "2020-02-03-048133                              [Q28151883, Q5232694]   \n",
       "2020-01-21-085595  [Q10381179, Q3528685, Q513960, Q7804212, Q7804...   \n",
       "2020-03-01-041433                                             [Q607]   \n",
       "\n",
       "                                 date  numOccurrences  \\\n",
       "quoteID                                                 \n",
       "2015-10-21-003064 2015-10-21 06:35:00               1   \n",
       "2015-02-14-014011 2015-02-14 21:01:51               2   \n",
       "2015-11-17-010237 2015-11-17 14:23:00               1   \n",
       "2015-10-26-009343 2015-10-26 19:52:30               1   \n",
       "2015-02-11-008068 2015-02-11 18:28:11               1   \n",
       "...                               ...             ...   \n",
       "2020-04-02-024938 2020-04-02 14:04:39               2   \n",
       "2020-04-11-013559 2020-04-11 04:00:00               2   \n",
       "2020-02-03-048133 2020-02-03 14:47:23              11   \n",
       "2020-01-21-085595 2020-01-21 00:00:00               3   \n",
       "2020-03-01-041433 2020-03-01 01:36:00               1   \n",
       "\n",
       "                                                                urls  \\\n",
       "quoteID                                                                \n",
       "2015-10-21-003064  [http://feeds.washingtonpost.com/c/34656/f/636...   \n",
       "2015-02-14-014011  [http://www.politico.com/story/2015/02/sylvia-...   \n",
       "2015-11-17-010237  [http://goldrushcam.com/sierrasuntimes/index.p...   \n",
       "2015-10-26-009343  [http://catholic.org/news/politics/story.php?i...   \n",
       "2015-02-11-008068  [http://www.acton.org/pub/commentary/2015/02/1...   \n",
       "...                                                              ...   \n",
       "2020-04-02-024938  [http://www.politifact.com/article/2020/apr/02...   \n",
       "2020-04-11-013559  [https://www.commondreams.org/views/2020/04/11...   \n",
       "2020-02-03-048133  [https://wislawjournal.com/2020/02/03/wisconsi...   \n",
       "2020-01-21-085595  [http://nordic.businessinsider.com/pwc-ceo-sur...   \n",
       "2020-03-01-041433  [https://www.msn.com/en-us/news/elections-2020...   \n",
       "\n",
       "                   climateChangeProb  \n",
       "quoteID                               \n",
       "2015-10-21-003064           0.017989  \n",
       "2015-02-14-014011           0.018179  \n",
       "2015-11-17-010237           0.017977  \n",
       "2015-10-26-009343           0.983340  \n",
       "2015-02-11-008068           0.019651  \n",
       "...                              ...  \n",
       "2020-04-02-024938           0.031958  \n",
       "2020-04-11-013559           0.115448  \n",
       "2020-02-03-048133           0.017548  \n",
       "2020-01-21-085595           0.028286  \n",
       "2020-03-01-041433           0.017154  \n",
       "\n",
       "[297180 rows x 7 columns]"
      ]
     },
     "execution_count": 11,
     "metadata": {},
     "output_type": "execute_result"
    }
   ],
   "source": [
    "# concatenate all extracted quotes\n",
    "extracted_quotes = pd.DataFrame([])\n",
    "for f in files:\n",
    "    print('FILE: ' + f)\n",
    "    quotes = pd.read_json(f, compression='bz2', lines=True)\n",
    "    quotes.set_index('quoteID', inplace=True)\n",
    "    shared_ids = quotes.index.isin(outs.index)\n",
    "    quotes = quotes[shared_ids]\n",
    "    quotes = quotes.merge(outs.rename('climateChangeProb'), how='left', left_index=True, right_index=True)\n",
    "    extracted_quotes = pd.concat([extracted_quotes, quotes])\n",
    "extracted_quotes"
   ]
  },
  {
   "cell_type": "markdown",
   "id": "755078ce-4f4d-43c3-8cb3-6e4611bc4ae8",
   "metadata": {},
   "source": [
    "Now we save the extracted quotes"
   ]
  },
  {
   "cell_type": "code",
   "execution_count": 12,
   "id": "32e2b58b-9985-4a1e-8585-135ca90063e0",
   "metadata": {},
   "outputs": [],
   "source": [
    "extracted_quotes.to_json('climate_change_quotes.json')"
   ]
  },
  {
   "cell_type": "markdown",
   "id": "f119c1d5-76de-4f0a-9951-4eed999b78db",
   "metadata": {},
   "source": [
    "<a id='refs'></a>\n",
    "## References\n",
    "\n",
    "[1] Varini, Francesco S., et al. “ClimaText: A Dataset for Climate Change Topic Detection.” ArXiv:2012.00483 [Cs], Jan. 2021. arXiv.org, http://arxiv.org/abs/2012.00483."
   ]
  }
 ],
 "metadata": {
  "kernelspec": {
   "display_name": "Python 3 (ipykernel)",
   "language": "python",
   "name": "python3"
  },
  "language_info": {
   "codemirror_mode": {
    "name": "ipython",
    "version": 3
   },
   "file_extension": ".py",
   "mimetype": "text/x-python",
   "name": "python",
   "nbconvert_exporter": "python",
   "pygments_lexer": "ipython3",
   "version": "3.8.12"
  }
 },
 "nbformat": 4,
 "nbformat_minor": 5
}
