{
 "cells": [
  {
   "cell_type": "markdown",
   "id": "bbf97fb3-22df-4d1c-a90c-00f1a96013f8",
   "metadata": {},
   "source": [
    "# Data Enrichment\n",
    "\n",
    "In this notebook we will add aditional features extracted from the dataset through the use of pretrained NLP models. To be precise, here we will extract the sentiment and also classify the quotes into one of 17 classes of misconceptions regarding climate change.\n",
    "\n",
    "Contents:\n",
    "- [Sentiment Analysis](#sentiment)\n",
    "- [Claims Misinformation Prediction using CARDS](#cards)\n",
    "\n",
    "Import the needed libraries"
   ]
  },
  {
   "cell_type": "code",
   "execution_count": 1,
   "id": "d50413d2-0157-4827-bf2d-0f6269995bad",
   "metadata": {},
   "outputs": [],
   "source": [
    "import pandas as pd\n",
    "from transformers import pipeline"
   ]
  },
  {
   "cell_type": "markdown",
   "id": "dafe0b92-0996-4eae-8de1-53d6cb3a20fb",
   "metadata": {},
   "source": [
    "Load the quotes we extracted using ClimaTextBERT"
   ]
  },
  {
   "cell_type": "code",
   "execution_count": 98,
   "id": "29027eb6-d147-4b5b-a38c-36f1e4a1cff7",
   "metadata": {},
   "outputs": [],
   "source": [
    "x = pd.read_json('climate_change_quotes_small.json')"
   ]
  },
  {
   "cell_type": "markdown",
   "id": "d76be64b-5282-4883-87ab-715d32b85582",
   "metadata": {},
   "source": [
    "<a id='sentiment'></a>\n",
    "# Sentiment Analysis\n",
    "For the sentiment analysis task we will rely on a trained distil BERT model for sentiment analysis. The model gives state-of-the-art performance of ~93% accuracy."
   ]
  },
  {
   "cell_type": "code",
   "execution_count": 161,
   "id": "dbcba95a-3c50-4b74-a576-ff5296db7898",
   "metadata": {},
   "outputs": [
    {
     "name": "stderr",
     "output_type": "stream",
     "text": [
      "No model was supplied, defaulted to distilbert-base-uncased-finetuned-sst-2-english (https://huggingface.co/distilbert-base-uncased-finetuned-sst-2-english)\n"
     ]
    }
   ],
   "source": [
    "classifier = pipeline('sentiment-analysis', device=0)"
   ]
  },
  {
   "cell_type": "markdown",
   "id": "e6a1d8fd-198d-4317-87c8-a14a8a23cf1b",
   "metadata": {},
   "source": [
    "Running the model"
   ]
  },
  {
   "cell_type": "code",
   "execution_count": null,
   "id": "28b9b7bb-b3cd-4a91-aeae-bdf218eac7b3",
   "metadata": {},
   "outputs": [],
   "source": [
    "def classify(q):\n",
    "    '''\n",
    "        Convert outputs from doubles of sign and value into\n",
    "        a single value between -1 and 1 where negative values\n",
    "        correspond to negative sentiment and vice versa\n",
    "    '''\n",
    "    tmp = classifier(q)[0]\n",
    "    sgn = tmp['label']\n",
    "    score = tmp['score']\n",
    "    sgn = 1.0 if sgn == 'POSITIVE' else -1.\n",
    "    return sgn*score\n",
    "    \n",
    "scores = x.quotation.apply(classify)"
   ]
  },
  {
   "cell_type": "code",
   "execution_count": 204,
   "id": "a76e83c2-cf46-4b8f-9ca9-3898dbb68bec",
   "metadata": {},
   "outputs": [],
   "source": [
    "x['sentimentScores'] = scores"
   ]
  },
  {
   "cell_type": "markdown",
   "id": "9005b660-4a9b-4ed2-84be-440dec64862d",
   "metadata": {},
   "source": [
    "Save the outputs"
   ]
  },
  {
   "cell_type": "code",
   "execution_count": 209,
   "id": "b79d509c-b695-4311-9e56-06926bdcd891",
   "metadata": {},
   "outputs": [],
   "source": [
    "x.to_json('climate_change_quotes_small_v2.json')"
   ]
  },
  {
   "cell_type": "markdown",
   "id": "3ff2da5a-40b1-4ebe-9a06-015a3bef8c56",
   "metadata": {},
   "source": [
    "<a id='cards'></a>\n",
    "## Claims prediction with the RoBERTa classifier used in the Coan et al. (2021) article 'Computer-assisted detection and classification of misinformation about climate change\n",
    "\n",
    "The code below was obtained from the cards_inference.ipynb supplied by the above mentioned article"
   ]
  },
  {
   "cell_type": "code",
   "execution_count": null,
   "id": "0ed0368c-3bcc-4346-b394-c4735750d53a",
   "metadata": {},
   "outputs": [],
   "source": [
    "import pandas as pd\n",
    "import re\n",
    "import unicodedata\n",
    "import time\n",
    "from simpletransformers.classification import ClassificationModel\n",
    "from scipy.special import softmax\n",
    "import torch\n",
    "# Load device\n",
    "if torch.cuda.is_available():    \n",
    "    device = torch.device(\"cuda\")\n",
    "    print('There are %d GPU(s) available.' % torch.cuda.device_count())\n",
    "    print('We will use GPU {}:'.format(torch.cuda.current_device()), torch.cuda.get_device_name(torch.cuda.current_device()))\n",
    "else:\n",
    "    print('No GPU available, using the CPU instead.')\n",
    "    device = torch.device(\"cpu\")"
   ]
  },
  {
   "cell_type": "code",
   "execution_count": null,
   "id": "66fa5f64-fb45-4170-a3b2-9c3066973eee",
   "metadata": {},
   "outputs": [],
   "source": [
    "def remove_between_square_brackets(text):\n",
    "    return re.sub('\\[[^]]*\\]', '', text)\n",
    "def remove_non_ascii(text):\n",
    "    \"\"\"Remove non-ASCII characters from list of tokenized words\"\"\"\n",
    "    return unicodedata.normalize('NFKD', text).encode('ascii', 'ignore').decode('utf-8', 'ignore')\n",
    "def strip_underscores(text):\n",
    "    return re.sub(r'_+', ' ', text)\n",
    "def remove_multiple_spaces(text):\n",
    "    return re.sub(r'\\s{2,}', ' ', text)\n",
    "\n",
    "def denoise_text(text):\n",
    "    text = remove_between_square_brackets(text)\n",
    "    text = remove_non_ascii(text)\n",
    "    text = strip_underscores(text)\n",
    "    text = remove_multiple_spaces(text)\n",
    "    return text.strip()"
   ]
  },
  {
   "cell_type": "markdown",
   "id": "6795aa6a-3868-48bc-80fa-d6fdeb2b1ac3",
   "metadata": {},
   "source": [
    "Load the data of quotes to be exteded with the CARDS output"
   ]
  },
  {
   "cell_type": "code",
   "execution_count": null,
   "id": "3471a0dd-12d7-400d-acce-a77b0cd0a2f9",
   "metadata": {},
   "outputs": [],
   "source": [
    "# Load the text data\n",
    "data = pd.read_json('climate_change_quotes_small_v2.json')\n",
    "print('{} paragraphs were loaded. Here are the first few rows of the data:'.format(len(data)))\n",
    "data.head()"
   ]
  },
  {
   "cell_type": "markdown",
   "id": "7e7b0ba0-589a-43cb-b03b-077a80d708c8",
   "metadata": {},
   "source": [
    "Denoise the quotes"
   ]
  },
  {
   "cell_type": "code",
   "execution_count": null,
   "id": "5fae9a14-61ce-41cc-a5a2-a0a458888f1c",
   "metadata": {},
   "outputs": [],
   "source": [
    "data['quotation_denoised'] = data['quotation'].astype(str).apply(denoise_text)"
   ]
  },
  {
   "cell_type": "markdown",
   "id": "86469f63-30b9-4e0d-91d7-a3c087a65db5",
   "metadata": {},
   "source": [
    "Load model"
   ]
  },
  {
   "cell_type": "code",
   "execution_count": null,
   "id": "05f6b9f2-d7fd-46c8-bc0b-93c857cf24b7",
   "metadata": {},
   "outputs": [],
   "source": [
    "%%time\n",
    "\n",
    "# Define the model \n",
    "architecture = 'roberta'\n",
    "model_name = 'CARDS_RoBERTa_Classifier'\n",
    "\n",
    "# Load the classifier\n",
    "model = ClassificationModel(architecture, model_name, use_cuda=True)"
   ]
  },
  {
   "cell_type": "markdown",
   "id": "ab74e23c-c2f9-4031-9b61-c77467056362",
   "metadata": {},
   "source": [
    "Run model"
   ]
  },
  {
   "cell_type": "code",
   "execution_count": null,
   "id": "939f8db5-298f-459c-8621-3795222d8ede",
   "metadata": {},
   "outputs": [],
   "source": [
    "%%time\n",
    "predictions, raw_outputs = model.predict(list(data.quotation_denoised))"
   ]
  },
  {
   "cell_type": "code",
   "execution_count": null,
   "id": "e20626d9-9e82-4c1a-b213-40b19ac143f7",
   "metadata": {},
   "outputs": [],
   "source": [
    "data['cardsPredLabel'] = predictions\n",
    "data"
   ]
  },
  {
   "cell_type": "code",
   "execution_count": null,
   "id": "0c1b4c89-9b22-4ae5-94f2-22e11fcf6af3",
   "metadata": {},
   "outputs": [],
   "source": [
    "data = data.drop(columns=['quotation_denoised'])"
   ]
  },
  {
   "cell_type": "markdown",
   "id": "be1433ed-8d00-4799-b7da-7b120864b354",
   "metadata": {},
   "source": [
    "Save the outputs"
   ]
  },
  {
   "cell_type": "code",
   "execution_count": null,
   "id": "bd90e68b-e54e-4d49-b764-a3aef1da2d42",
   "metadata": {},
   "outputs": [],
   "source": [
    "data.to_json('climate_change_quotes_small_v3.json')"
   ]
  }
 ],
 "metadata": {
  "kernelspec": {
   "display_name": "Python 3 (ipykernel)",
   "language": "python",
   "name": "python3"
  },
  "language_info": {
   "codemirror_mode": {
    "name": "ipython",
    "version": 3
   },
   "file_extension": ".py",
   "mimetype": "text/x-python",
   "name": "python",
   "nbconvert_exporter": "python",
   "pygments_lexer": "ipython3",
   "version": "3.8.12"
  }
 },
 "nbformat": 4,
 "nbformat_minor": 5
}
